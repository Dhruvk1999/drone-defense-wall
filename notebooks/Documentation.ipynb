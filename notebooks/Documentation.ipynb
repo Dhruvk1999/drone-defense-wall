{
 "cells": [
  {
   "cell_type": "markdown",
   "id": "c818f2fd",
   "metadata": {},
   "source": [
    "#  Present Problems \n",
    "\n",
    "1. how to get 2.4 Ghz frequency for jamming the drones?\n",
    "* Possible Solutions\n",
    "    * ESP8266 Deauther \n",
    "    * VCO + PLL - this is what every device uses, designing is difficult\n",
    "    * deciphering from the remote control -"
   ]
  },
  {
   "cell_type": "code",
   "execution_count": null,
   "id": "b87f6318",
   "metadata": {},
   "outputs": [],
   "source": []
  }
 ],
 "metadata": {
  "kernelspec": {
   "display_name": "Python 3 (ipykernel)",
   "language": "python",
   "name": "python3"
  },
  "language_info": {
   "codemirror_mode": {
    "name": "ipython",
    "version": 3
   },
   "file_extension": ".py",
   "mimetype": "text/x-python",
   "name": "python",
   "nbconvert_exporter": "python",
   "pygments_lexer": "ipython3",
   "version": "3.10.0"
  }
 },
 "nbformat": 4,
 "nbformat_minor": 5
}
