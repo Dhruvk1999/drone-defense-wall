{
 "cells": [
  {
   "cell_type": "code",
   "execution_count": 1,
   "id": "707a092b",
   "metadata": {},
   "outputs": [],
   "source": [
    "import numpy as np\n",
    "import pandas as pd\n",
    "import cv2\n",
    "import matplotlib.pyplot as plt\n",
    "%matplotlib inline"
   ]
  },
  {
   "cell_type": "code",
   "execution_count": 4,
   "id": "cdb1f523",
   "metadata": {},
   "outputs": [
    {
     "name": "stdout",
     "output_type": "stream",
     "text": [
      "/home/dhruv\n"
     ]
    }
   ],
   "source": [
    "cd"
   ]
  },
  {
   "cell_type": "code",
   "execution_count": 5,
   "id": "e6c11ae0",
   "metadata": {},
   "outputs": [
    {
     "name": "stdout",
     "output_type": "stream",
     "text": [
      "/home/dhruv/drone-defense-wall/data/small_images\n"
     ]
    }
   ],
   "source": [
    "cd drone-defense-wall/data/small_images/"
   ]
  },
  {
   "cell_type": "code",
   "execution_count": 6,
   "id": "f4a51699",
   "metadata": {
    "scrolled": true
   },
   "outputs": [
    {
     "name": "stdout",
     "output_type": "stream",
     "text": [
      "ix=294,iy=197,x=411,y=271\n",
      "[(294, 197, 411, 271)]\n",
      "ix=252,iy=152,x=356,y=265\n",
      "[(294, 197, 411, 271), (252, 152, 356, 265)]\n",
      "ix=243,iy=220,x=399,y=346\n",
      "[(294, 197, 411, 271), (252, 152, 356, 265), (243, 220, 399, 346)]\n",
      "ix=112,iy=42,x=516,y=373\n",
      "[(294, 197, 411, 271), (252, 152, 356, 265), (243, 220, 399, 346), (112, 42, 516, 373)]\n",
      "ix=134,iy=137,x=577,y=427\n",
      "[(294, 197, 411, 271), (252, 152, 356, 265), (243, 220, 399, 346), (112, 42, 516, 373), (134, 137, 577, 427)]\n",
      "ix=106,iy=181,x=484,y=441\n",
      "[(294, 197, 411, 271), (252, 152, 356, 265), (243, 220, 399, 346), (112, 42, 516, 373), (134, 137, 577, 427), (106, 181, 484, 441)]\n",
      "ix=314,iy=298,x=429,y=356\n",
      "[(294, 197, 411, 271), (252, 152, 356, 265), (243, 220, 399, 346), (112, 42, 516, 373), (134, 137, 577, 427), (106, 181, 484, 441), (314, 298, 429, 356)]\n"
     ]
    },
    {
     "ename": "KeyboardInterrupt",
     "evalue": "",
     "output_type": "error",
     "traceback": [
      "\u001b[0;31m---------------------------------------------------------------------------\u001b[0m",
      "\u001b[0;31mKeyboardInterrupt\u001b[0m                         Traceback (most recent call last)",
      "\u001b[0;32m/tmp/ipykernel_15933/222417460.py\u001b[0m in \u001b[0;36m<module>\u001b[0;34m\u001b[0m\n\u001b[1;32m     71\u001b[0m \u001b[0;34m\u001b[0m\u001b[0m\n\u001b[1;32m     72\u001b[0m         \u001b[0;31m# CHECK TO SEE IF ESC WAS PRESSED ON KEYBOARD\u001b[0m\u001b[0;34m\u001b[0m\u001b[0;34m\u001b[0m\u001b[0m\n\u001b[0;32m---> 73\u001b[0;31m         \u001b[0;32mif\u001b[0m \u001b[0mcv2\u001b[0m\u001b[0;34m.\u001b[0m\u001b[0mwaitKey\u001b[0m\u001b[0;34m(\u001b[0m\u001b[0;36m1\u001b[0m\u001b[0;34m)\u001b[0m \u001b[0;34m&\u001b[0m \u001b[0;36m0xFF\u001b[0m \u001b[0;34m==\u001b[0m \u001b[0;36m27\u001b[0m\u001b[0;34m:\u001b[0m\u001b[0;34m\u001b[0m\u001b[0;34m\u001b[0m\u001b[0m\n\u001b[0m\u001b[1;32m     74\u001b[0m             \u001b[0;32mbreak\u001b[0m\u001b[0;34m\u001b[0m\u001b[0;34m\u001b[0m\u001b[0m\n\u001b[1;32m     75\u001b[0m     \u001b[0;31m# Once script is done, its usually good practice to call this line\u001b[0m\u001b[0;34m\u001b[0m\u001b[0;34m\u001b[0m\u001b[0m\n",
      "\u001b[0;31mKeyboardInterrupt\u001b[0m: "
     ]
    }
   ],
   "source": [
    "## getting the coordinates\n",
    "\n",
    "import cv2\n",
    "import numpy as np\n",
    "\n",
    "\n",
    "# Create a function based on a CV2 Event (Left button click)\n",
    "drawing = False # True if mouse is pressed\n",
    "ix,iy = -1,-1\n",
    "global coor\n",
    "coor=[]\n",
    "# mouse callback function\n",
    "def draw_rectangle(event,x,y,flags,param):\n",
    "    global ix,iy,drawing,mode\n",
    "\n",
    "\n",
    "    if event == cv2.EVENT_LBUTTONDOWN:\n",
    "        # When you click DOWN with left mouse button drawing is set to True\n",
    "        drawing = True\n",
    "        # Then we take note of where that mouse was located\n",
    "        ix,iy = x,y\n",
    "\n",
    "#     elif event == cv2.EVENT_MOUSEMOVE:\n",
    "#         # Now the mouse is moving\n",
    "#         if drawing == True:\n",
    "#             # If drawing is True, it means you've already clicked on the left mouse button\n",
    "#             # We draw a rectangle from the previous position to the x,y where the mouse is\n",
    "#             cv2.rectangle(img,(ix,iy),(x,y),(0,255,0),-1)\n",
    "           \n",
    "\n",
    "    elif event == cv2.EVENT_LBUTTONUP:\n",
    "        # Once you lift the mouse button, drawing is False\n",
    "        drawing = False\n",
    "        # we complete the rectangle.\n",
    "        cv2.rectangle(img,(ix,iy),(x,y),(0,255,0),0)\n",
    "        print(f\"ix={ix},iy={iy},x={x},y={y}\")\n",
    "        coor.append((ix,iy,x,y))\n",
    "        print(coor)\n",
    "    else: \n",
    "        pass\n",
    "        \n",
    "#     if event ==cv2.EVENT_RBUTTONDOWN:\n",
    "#         drawing=True\n",
    "#         ix,iy=x,y\n",
    "        \n",
    "#     elif event ==cv2.EVENT_MOUSEMOVE:\n",
    "#         if drawing==True:\n",
    "#             cv2.rectangle(img,(ix,iy),(x,y),(255,0,0),-1)\n",
    "    \n",
    "#     elif event == cv2.EVENT_RBUTTONUP:\n",
    "#         # Once you lift the mouse button, drawing is False\n",
    "#         drawing = False\n",
    "#         # we complete the rectangle.\n",
    "#         cv2.rectangle(img,(ix,iy),(x,y),(255,0,0),-1)\n",
    "\n",
    "\n",
    "\n",
    "# harsh 1 - 228\n",
    "# prakr 229-456 \n",
    "for i in range(1,664):\n",
    "    image=cv2.imread(f\"{i}.JPG\")\n",
    "    # put this in a loop\n",
    "    # Create a black image\n",
    "    img = cv2.resize(image,(700,500))\n",
    "    # This names the window so we can reference it \n",
    "    cv2.namedWindow(winname='my_drawing')\n",
    "    # Connects the mouse button to our callback function\n",
    "    cv2.setMouseCallback('my_drawing',draw_rectangle)\n",
    "\n",
    "    while True: #Runs forever until we break with Esc key on keyboard\n",
    "        # Shows the image window\n",
    "        cv2.imshow('my_drawing',img)\n",
    "        # EXPLANATION FOR THIS LINE OF CODE:\n",
    "        # https://stackoverflow.com/questions/35372700/whats-0xff-for-in-cv2-waitkey1/39201163\n",
    "\n",
    "        # CHECK TO SEE IF ESC WAS PRESSED ON KEYBOARD\n",
    "        if cv2.waitKey(1) & 0xFF == 27:\n",
    "            break\n",
    "    # Once script is done, its usually good practice to call this line\n",
    "    # It closes all windows (just in case you have multiple windows called)\n",
    "    cv2.destroyAllWindows()\n",
    "\n",
    "    # saving the csvfile\n",
    "    aa=pd.DataFrame(coor)\n",
    "    aa.to_csv(f\"annot/{i}.csv\",index=False,columns=None,header=False)"
   ]
  },
  {
   "cell_type": "markdown",
   "id": "bc706f4a",
   "metadata": {},
   "source": []
  },
  {
   "cell_type": "markdown",
   "id": "a3431460",
   "metadata": {},
   "source": []
  },
  {
   "cell_type": "markdown",
   "id": "c01ed883",
   "metadata": {},
   "source": []
  }
 ],
 "metadata": {
  "kernelspec": {
   "display_name": "Python 3 (ipykernel)",
   "language": "python",
   "name": "python3"
  },
  "language_info": {
   "codemirror_mode": {
    "name": "ipython",
    "version": 3
   },
   "file_extension": ".py",
   "mimetype": "text/x-python",
   "name": "python",
   "nbconvert_exporter": "python",
   "pygments_lexer": "ipython3",
   "version": "3.10.0"
  }
 },
 "nbformat": 4,
 "nbformat_minor": 5
}
