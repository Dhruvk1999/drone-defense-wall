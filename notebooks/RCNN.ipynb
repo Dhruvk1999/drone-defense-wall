{
 "cells": [
  {
   "cell_type": "markdown",
   "id": "41fe9b35",
   "metadata": {},
   "source": [
    "# RCNN - model for Classification"
   ]
  },
  {
   "cell_type": "markdown",
   "id": "14b37843",
   "metadata": {},
   "source": [
    "### Resources\n",
    "<a href=\"https://pyimagesearch.com/2016/11/07/intersection-over-union-iou-for-object-detection/\">IOU</a>\n",
    "\n",
    "<a href=\"https://towardsdatascience.com/step-by-step-r-cnn-implementation-from-scratch-in-python-e97101ccde55\">Overall Guide</a>\n",
    "\n",
    "### IOU\n",
    "* this is just an evaluation metric\n",
    "* this requires two things:\n",
    "    * ground truth boxes - the hand labeld bounding boxes from the testing set that specify where in the image our object is.\n",
    "    * the predicted vounding boxes from our model\n",
    "    \n",
    "    IOU= (area of overlap) / (area of union)"
   ]
  },
  {
   "cell_type": "code",
   "execution_count": null,
   "id": "1db6022b",
   "metadata": {},
   "outputs": [],
   "source": []
  },
  {
   "cell_type": "code",
   "execution_count": 1,
   "id": "5bdcf41e",
   "metadata": {},
   "outputs": [
    {
     "name": "stderr",
     "output_type": "stream",
     "text": [
      "2022-04-26 18:25:41.544357: W tensorflow/stream_executor/platform/default/dso_loader.cc:64] Could not load dynamic library 'libcudart.so.11.0'; dlerror: libcudart.so.11.0: cannot open shared object file: No such file or directory; LD_LIBRARY_PATH: /home/dhruv/.conda/envs/ml/lib/python3.10/site-packages/cv2/../../lib64:\n",
      "2022-04-26 18:25:41.544448: I tensorflow/stream_executor/cuda/cudart_stub.cc:29] Ignore above cudart dlerror if you do not have a GPU set up on your machine.\n"
     ]
    }
   ],
   "source": [
    "# all the required lib\n",
    "import os, cv2, keras\n",
    "import pandas as pd\n",
    "import matplotlib.pyplot as plt\n",
    "import numpy as np\n",
    "import tensorflow as tf\n",
    "import warnings\n",
    "warnings.filterwarnings('ignore')"
   ]
  },
  {
   "cell_type": "code",
   "execution_count": 2,
   "id": "ba11fa55",
   "metadata": {},
   "outputs": [],
   "source": [
    "ss= cv2.ximgproc.segmentation.createSelectiveSearchSegmentation()"
   ]
  },
  {
   "cell_type": "code",
   "execution_count": null,
   "id": "fd375e5e",
   "metadata": {},
   "outputs": [],
   "source": []
  },
  {
   "cell_type": "code",
   "execution_count": 3,
   "id": "51ba6a81",
   "metadata": {},
   "outputs": [],
   "source": [
    "def get_iou(bb1, bb2):\n",
    "    assert bb1['x1'] < bb1['x2']\n",
    "    assert bb1['y1'] < bb1['y2']\n",
    "    assert bb2['x1'] < bb2['x2']\n",
    "    assert bb2['y1'] < bb2['y2']\n",
    "    x_left = max(bb1['x1'], bb2['x1'])\n",
    "    y_top = max(bb1['y1'], bb2['y1'])\n",
    "    x_right = min(bb1['x2'], bb2['x2'])\n",
    "    y_bottom = min(bb1['y2'], bb2['y2'])\n",
    "    if x_right < x_left or y_bottom < y_top:\n",
    "        return 0.0\n",
    "    intersection_area = (x_right - x_left) * (y_bottom - y_top)\n",
    "    bb1_area = (bb1['x2'] - bb1['x1']) * (bb1['y2'] - bb1['y1'])\n",
    "    bb2_area = (bb2['x2'] - bb2['x1']) * (bb2['y2'] - bb2['y1'])\n",
    "    iou = intersection_area / float(bb1_area + bb2_area - intersection_area)\n",
    "    assert iou >= 0.0\n",
    "    assert iou <= 1.0\n",
    "    return iou"
   ]
  },
  {
   "cell_type": "code",
   "execution_count": 4,
   "id": "50ec7cf5",
   "metadata": {},
   "outputs": [
    {
     "name": "stdout",
     "output_type": "stream",
     "text": [
      "/home/dhruv\n"
     ]
    }
   ],
   "source": [
    "cd"
   ]
  },
  {
   "cell_type": "code",
   "execution_count": 5,
   "id": "7607c119",
   "metadata": {
    "scrolled": true
   },
   "outputs": [
    {
     "name": "stdout",
     "output_type": "stream",
     "text": [
      "/home/dhruv/drone-defense-wall/data\n"
     ]
    }
   ],
   "source": [
    "cd drone-defense-wall/data"
   ]
  },
  {
   "cell_type": "code",
   "execution_count": 6,
   "id": "563270df",
   "metadata": {},
   "outputs": [
    {
     "name": "stdout",
     "output_type": "stream",
     "text": [
      "/home/dhruv/drone-defense-wall/data/airplanes\n"
     ]
    }
   ],
   "source": [
    "cd airplanes"
   ]
  },
  {
   "cell_type": "code",
   "execution_count": 7,
   "id": "d5a24158",
   "metadata": {},
   "outputs": [
    {
     "data": {
      "text/plain": [
       "'/home/dhruv/drone-defense-wall/data/airplanes'"
      ]
     },
     "execution_count": 7,
     "metadata": {},
     "output_type": "execute_result"
    }
   ],
   "source": [
    "pwd"
   ]
  },
  {
   "cell_type": "code",
   "execution_count": 8,
   "id": "673d5107",
   "metadata": {
    "scrolled": true
   },
   "outputs": [
    {
     "name": "stdout",
     "output_type": "stream",
     "text": [
      "\u001b[0m\u001b[01;35mairplane_416.jpg\u001b[0m  \u001b[01;35mairplane_492.jpg\u001b[0m  \u001b[01;35mairplane_568.jpg\u001b[0m  \u001b[01;35mairplane_644.jpg\u001b[0m\r\n",
      "\u001b[01;35mairplane_417.jpg\u001b[0m  \u001b[01;35mairplane_493.jpg\u001b[0m  \u001b[01;35mairplane_569.jpg\u001b[0m  \u001b[01;35mairplane_645.jpg\u001b[0m\r\n",
      "\u001b[01;35mairplane_418.jpg\u001b[0m  \u001b[01;35mairplane_494.jpg\u001b[0m  \u001b[01;35mairplane_570.jpg\u001b[0m  \u001b[01;35mairplane_646.jpg\u001b[0m\r\n",
      "\u001b[01;35mairplane_419.jpg\u001b[0m  \u001b[01;35mairplane_495.jpg\u001b[0m  \u001b[01;35mairplane_571.jpg\u001b[0m  \u001b[01;35mairplane_647.jpg\u001b[0m\r\n",
      "\u001b[01;35mairplane_420.jpg\u001b[0m  \u001b[01;35mairplane_496.jpg\u001b[0m  \u001b[01;35mairplane_572.jpg\u001b[0m  \u001b[01;35mairplane_648.jpg\u001b[0m\r\n",
      "\u001b[01;35mairplane_421.jpg\u001b[0m  \u001b[01;35mairplane_497.jpg\u001b[0m  \u001b[01;35mairplane_573.jpg\u001b[0m  \u001b[01;35mairplane_649.jpg\u001b[0m\r\n",
      "\u001b[01;35mairplane_422.jpg\u001b[0m  \u001b[01;35mairplane_498.jpg\u001b[0m  \u001b[01;35mairplane_574.jpg\u001b[0m  \u001b[01;35mairplane_650.jpg\u001b[0m\r\n",
      "\u001b[01;35mairplane_423.jpg\u001b[0m  \u001b[01;35mairplane_499.jpg\u001b[0m  \u001b[01;35mairplane_575.jpg\u001b[0m  \u001b[01;35mairplane_651.jpg\u001b[0m\r\n",
      "\u001b[01;35mairplane_424.jpg\u001b[0m  \u001b[01;35mairplane_500.jpg\u001b[0m  \u001b[01;35mairplane_576.jpg\u001b[0m  \u001b[01;35mairplane_652.jpg\u001b[0m\r\n",
      "\u001b[01;35mairplane_425.jpg\u001b[0m  \u001b[01;35mairplane_501.jpg\u001b[0m  \u001b[01;35mairplane_577.jpg\u001b[0m  \u001b[01;35mairplane_653.jpg\u001b[0m\r\n",
      "\u001b[01;35mairplane_426.jpg\u001b[0m  \u001b[01;35mairplane_502.jpg\u001b[0m  \u001b[01;35mairplane_578.jpg\u001b[0m  \u001b[01;35mairplane_654.jpg\u001b[0m\r\n",
      "\u001b[01;35mairplane_427.jpg\u001b[0m  \u001b[01;35mairplane_503.jpg\u001b[0m  \u001b[01;35mairplane_579.jpg\u001b[0m  \u001b[01;35mairplane_655.jpg\u001b[0m\r\n",
      "\u001b[01;35mairplane_428.jpg\u001b[0m  \u001b[01;35mairplane_504.jpg\u001b[0m  \u001b[01;35mairplane_580.jpg\u001b[0m  \u001b[01;35mairplane_656.jpg\u001b[0m\r\n",
      "\u001b[01;35mairplane_429.jpg\u001b[0m  \u001b[01;35mairplane_505.jpg\u001b[0m  \u001b[01;35mairplane_581.jpg\u001b[0m  \u001b[01;35mairplane_657.jpg\u001b[0m\r\n",
      "\u001b[01;35mairplane_430.jpg\u001b[0m  \u001b[01;35mairplane_506.jpg\u001b[0m  \u001b[01;35mairplane_582.jpg\u001b[0m  \u001b[01;35mairplane_658.jpg\u001b[0m\r\n",
      "\u001b[01;35mairplane_431.jpg\u001b[0m  \u001b[01;35mairplane_507.jpg\u001b[0m  \u001b[01;35mairplane_583.jpg\u001b[0m  \u001b[01;35mairplane_659.jpg\u001b[0m\r\n",
      "\u001b[01;35mairplane_432.jpg\u001b[0m  \u001b[01;35mairplane_508.jpg\u001b[0m  \u001b[01;35mairplane_584.jpg\u001b[0m  \u001b[01;35mairplane_660.jpg\u001b[0m\r\n",
      "\u001b[01;35mairplane_433.jpg\u001b[0m  \u001b[01;35mairplane_509.jpg\u001b[0m  \u001b[01;35mairplane_585.jpg\u001b[0m  \u001b[01;35mairplane_661.jpg\u001b[0m\r\n",
      "\u001b[01;35mairplane_434.jpg\u001b[0m  \u001b[01;35mairplane_510.jpg\u001b[0m  \u001b[01;35mairplane_586.jpg\u001b[0m  \u001b[01;35mairplane_662.jpg\u001b[0m\r\n",
      "\u001b[01;35mairplane_435.jpg\u001b[0m  \u001b[01;35mairplane_511.jpg\u001b[0m  \u001b[01;35mairplane_587.jpg\u001b[0m  \u001b[01;35mairplane_663.jpg\u001b[0m\r\n",
      "\u001b[01;35mairplane_436.jpg\u001b[0m  \u001b[01;35mairplane_512.jpg\u001b[0m  \u001b[01;35mairplane_588.jpg\u001b[0m  \u001b[01;35mairplane_664.jpg\u001b[0m\r\n",
      "\u001b[01;35mairplane_437.jpg\u001b[0m  \u001b[01;35mairplane_513.jpg\u001b[0m  \u001b[01;35mairplane_589.jpg\u001b[0m  \u001b[01;35mairplane_665.jpg\u001b[0m\r\n",
      "\u001b[01;35mairplane_438.jpg\u001b[0m  \u001b[01;35mairplane_514.jpg\u001b[0m  \u001b[01;35mairplane_590.jpg\u001b[0m  \u001b[01;35mairplane_666.jpg\u001b[0m\r\n",
      "\u001b[01;35mairplane_439.jpg\u001b[0m  \u001b[01;35mairplane_515.jpg\u001b[0m  \u001b[01;35mairplane_591.jpg\u001b[0m  \u001b[01;35mairplane_667.jpg\u001b[0m\r\n",
      "\u001b[01;35mairplane_440.jpg\u001b[0m  \u001b[01;35mairplane_516.jpg\u001b[0m  \u001b[01;35mairplane_592.jpg\u001b[0m  \u001b[01;35mairplane_668.jpg\u001b[0m\r\n",
      "\u001b[01;35mairplane_441.jpg\u001b[0m  \u001b[01;35mairplane_517.jpg\u001b[0m  \u001b[01;35mairplane_593.jpg\u001b[0m  \u001b[01;35mairplane_669.jpg\u001b[0m\r\n",
      "\u001b[01;35mairplane_442.jpg\u001b[0m  \u001b[01;35mairplane_518.jpg\u001b[0m  \u001b[01;35mairplane_594.jpg\u001b[0m  \u001b[01;35mairplane_670.jpg\u001b[0m\r\n",
      "\u001b[01;35mairplane_443.jpg\u001b[0m  \u001b[01;35mairplane_519.jpg\u001b[0m  \u001b[01;35mairplane_595.jpg\u001b[0m  \u001b[01;35mairplane_671.jpg\u001b[0m\r\n",
      "\u001b[01;35mairplane_444.jpg\u001b[0m  \u001b[01;35mairplane_520.jpg\u001b[0m  \u001b[01;35mairplane_596.jpg\u001b[0m  \u001b[01;35mairplane_672.jpg\u001b[0m\r\n",
      "\u001b[01;35mairplane_445.jpg\u001b[0m  \u001b[01;35mairplane_521.jpg\u001b[0m  \u001b[01;35mairplane_597.jpg\u001b[0m  \u001b[01;35mairplane_673.jpg\u001b[0m\r\n",
      "\u001b[01;35mairplane_446.jpg\u001b[0m  \u001b[01;35mairplane_522.jpg\u001b[0m  \u001b[01;35mairplane_598.jpg\u001b[0m  \u001b[01;35mairplane_674.jpg\u001b[0m\r\n",
      "\u001b[01;35mairplane_447.jpg\u001b[0m  \u001b[01;35mairplane_523.jpg\u001b[0m  \u001b[01;35mairplane_599.jpg\u001b[0m  \u001b[01;35mairplane_675.jpg\u001b[0m\r\n",
      "\u001b[01;35mairplane_448.jpg\u001b[0m  \u001b[01;35mairplane_524.jpg\u001b[0m  \u001b[01;35mairplane_600.jpg\u001b[0m  \u001b[01;35mairplane_676.jpg\u001b[0m\r\n",
      "\u001b[01;35mairplane_449.jpg\u001b[0m  \u001b[01;35mairplane_525.jpg\u001b[0m  \u001b[01;35mairplane_601.jpg\u001b[0m  \u001b[01;35mairplane_677.jpg\u001b[0m\r\n",
      "\u001b[01;35mairplane_450.jpg\u001b[0m  \u001b[01;35mairplane_526.jpg\u001b[0m  \u001b[01;35mairplane_602.jpg\u001b[0m  \u001b[01;35mairplane_678.jpg\u001b[0m\r\n",
      "\u001b[01;35mairplane_451.jpg\u001b[0m  \u001b[01;35mairplane_527.jpg\u001b[0m  \u001b[01;35mairplane_603.jpg\u001b[0m  \u001b[01;35mairplane_679.jpg\u001b[0m\r\n",
      "\u001b[01;35mairplane_452.jpg\u001b[0m  \u001b[01;35mairplane_528.jpg\u001b[0m  \u001b[01;35mairplane_604.jpg\u001b[0m  \u001b[01;35mairplane_680.jpg\u001b[0m\r\n",
      "\u001b[01;35mairplane_453.jpg\u001b[0m  \u001b[01;35mairplane_529.jpg\u001b[0m  \u001b[01;35mairplane_605.jpg\u001b[0m  \u001b[01;35mairplane_681.jpg\u001b[0m\r\n",
      "\u001b[01;35mairplane_454.jpg\u001b[0m  \u001b[01;35mairplane_530.jpg\u001b[0m  \u001b[01;35mairplane_606.jpg\u001b[0m  \u001b[01;35mairplane_682.jpg\u001b[0m\r\n",
      "\u001b[01;35mairplane_455.jpg\u001b[0m  \u001b[01;35mairplane_531.jpg\u001b[0m  \u001b[01;35mairplane_607.jpg\u001b[0m  \u001b[01;35mairplane_683.jpg\u001b[0m\r\n",
      "\u001b[01;35mairplane_456.jpg\u001b[0m  \u001b[01;35mairplane_532.jpg\u001b[0m  \u001b[01;35mairplane_608.jpg\u001b[0m  \u001b[01;35mairplane_684.jpg\u001b[0m\r\n",
      "\u001b[01;35mairplane_457.jpg\u001b[0m  \u001b[01;35mairplane_533.jpg\u001b[0m  \u001b[01;35mairplane_609.jpg\u001b[0m  \u001b[01;35mairplane_685.jpg\u001b[0m\r\n",
      "\u001b[01;35mairplane_458.jpg\u001b[0m  \u001b[01;35mairplane_534.jpg\u001b[0m  \u001b[01;35mairplane_610.jpg\u001b[0m  \u001b[01;35mairplane_686.jpg\u001b[0m\r\n",
      "\u001b[01;35mairplane_459.jpg\u001b[0m  \u001b[01;35mairplane_535.jpg\u001b[0m  \u001b[01;35mairplane_611.jpg\u001b[0m  \u001b[01;35mairplane_687.jpg\u001b[0m\r\n",
      "\u001b[01;35mairplane_460.jpg\u001b[0m  \u001b[01;35mairplane_536.jpg\u001b[0m  \u001b[01;35mairplane_612.jpg\u001b[0m  \u001b[01;35mairplane_688.jpg\u001b[0m\r\n",
      "\u001b[01;35mairplane_461.jpg\u001b[0m  \u001b[01;35mairplane_537.jpg\u001b[0m  \u001b[01;35mairplane_613.jpg\u001b[0m  \u001b[01;35mairplane_689.jpg\u001b[0m\r\n",
      "\u001b[01;35mairplane_462.jpg\u001b[0m  \u001b[01;35mairplane_538.jpg\u001b[0m  \u001b[01;35mairplane_614.jpg\u001b[0m  \u001b[01;35mairplane_690.jpg\u001b[0m\r\n",
      "\u001b[01;35mairplane_463.jpg\u001b[0m  \u001b[01;35mairplane_539.jpg\u001b[0m  \u001b[01;35mairplane_615.jpg\u001b[0m  \u001b[01;35mairplane_691.jpg\u001b[0m\r\n",
      "\u001b[01;35mairplane_464.jpg\u001b[0m  \u001b[01;35mairplane_540.jpg\u001b[0m  \u001b[01;35mairplane_616.jpg\u001b[0m  \u001b[01;35mairplane_692.jpg\u001b[0m\r\n",
      "\u001b[01;35mairplane_465.jpg\u001b[0m  \u001b[01;35mairplane_541.jpg\u001b[0m  \u001b[01;35mairplane_617.jpg\u001b[0m  \u001b[01;35mairplane_693.jpg\u001b[0m\r\n",
      "\u001b[01;35mairplane_466.jpg\u001b[0m  \u001b[01;35mairplane_542.jpg\u001b[0m  \u001b[01;35mairplane_618.jpg\u001b[0m  \u001b[01;35mairplane_694.jpg\u001b[0m\r\n",
      "\u001b[01;35mairplane_467.jpg\u001b[0m  \u001b[01;35mairplane_543.jpg\u001b[0m  \u001b[01;35mairplane_619.jpg\u001b[0m  \u001b[01;35mairplane_695.jpg\u001b[0m\r\n",
      "\u001b[01;35mairplane_468.jpg\u001b[0m  \u001b[01;35mairplane_544.jpg\u001b[0m  \u001b[01;35mairplane_620.jpg\u001b[0m  \u001b[01;35mairplane_696.jpg\u001b[0m\r\n",
      "\u001b[01;35mairplane_469.jpg\u001b[0m  \u001b[01;35mairplane_545.jpg\u001b[0m  \u001b[01;35mairplane_621.jpg\u001b[0m  \u001b[01;35mairplane_697.jpg\u001b[0m\r\n",
      "\u001b[01;35mairplane_470.jpg\u001b[0m  \u001b[01;35mairplane_546.jpg\u001b[0m  \u001b[01;35mairplane_622.jpg\u001b[0m  \u001b[01;35mairplane_698.jpg\u001b[0m\r\n",
      "\u001b[01;35mairplane_471.jpg\u001b[0m  \u001b[01;35mairplane_547.jpg\u001b[0m  \u001b[01;35mairplane_623.jpg\u001b[0m  \u001b[01;35mairplane_699.jpg\u001b[0m\r\n",
      "\u001b[01;35mairplane_472.jpg\u001b[0m  \u001b[01;35mairplane_548.jpg\u001b[0m  \u001b[01;35mairplane_624.jpg\u001b[0m  \u001b[01;35mairplane_700.jpg\u001b[0m\r\n",
      "\u001b[01;35mairplane_473.jpg\u001b[0m  \u001b[01;35mairplane_549.jpg\u001b[0m  \u001b[01;35mairplane_625.jpg\u001b[0m  \u001b[01;34mAirplanes_Annotations\u001b[0m/\r\n",
      "\u001b[01;35mairplane_474.jpg\u001b[0m  \u001b[01;35mairplane_550.jpg\u001b[0m  \u001b[01;35mairplane_626.jpg\u001b[0m  \u001b[01;35mhotanairport1-rgb.jpg\u001b[0m\r\n",
      "\u001b[01;35mairplane_475.jpg\u001b[0m  \u001b[01;35mairplane_551.jpg\u001b[0m  \u001b[01;35mairplane_627.jpg\u001b[0m  \u001b[01;35mhotanairport2-rgb.jpg\u001b[0m\r\n",
      "\u001b[01;35mairplane_476.jpg\u001b[0m  \u001b[01;35mairplane_552.jpg\u001b[0m  \u001b[01;35mairplane_628.jpg\u001b[0m  \u001b[01;35mhotanairport5.jpg\u001b[0m\r\n",
      "\u001b[01;35mairplane_477.jpg\u001b[0m  \u001b[01;35mairplane_553.jpg\u001b[0m  \u001b[01;35mairplane_629.jpg\u001b[0m  \u001b[01;35mhotanairport5-rgb.jpg\u001b[0m\r\n",
      "\u001b[01;35mairplane_478.jpg\u001b[0m  \u001b[01;35mairplane_554.jpg\u001b[0m  \u001b[01;35mairplane_630.jpg\u001b[0m  \u001b[01;34mImages\u001b[0m/\r\n",
      "\u001b[01;35mairplane_479.jpg\u001b[0m  \u001b[01;35mairplane_555.jpg\u001b[0m  \u001b[01;35mairplane_631.jpg\u001b[0m  \u001b[01;35mLhasa.jpg\u001b[0m\r\n",
      "\u001b[01;35mairplane_480.jpg\u001b[0m  \u001b[01;35mairplane_556.jpg\u001b[0m  \u001b[01;35mairplane_632.jpg\u001b[0m  \u001b[01;35mPlanes10.jpg\u001b[0m\r\n",
      "\u001b[01;35mairplane_481.jpg\u001b[0m  \u001b[01;35mairplane_557.jpg\u001b[0m  \u001b[01;35mairplane_633.jpg\u001b[0m  \u001b[01;35mPlanes11.jpg\u001b[0m\r\n",
      "\u001b[01;35mairplane_482.jpg\u001b[0m  \u001b[01;35mairplane_558.jpg\u001b[0m  \u001b[01;35mairplane_634.jpg\u001b[0m  \u001b[01;35mPlanes12.jpg\u001b[0m\r\n",
      "\u001b[01;35mairplane_483.jpg\u001b[0m  \u001b[01;35mairplane_559.jpg\u001b[0m  \u001b[01;35mairplane_635.jpg\u001b[0m  \u001b[01;35mPlanes1.jpg\u001b[0m\r\n",
      "\u001b[01;35mairplane_484.jpg\u001b[0m  \u001b[01;35mairplane_560.jpg\u001b[0m  \u001b[01;35mairplane_636.jpg\u001b[0m  \u001b[01;35mplanes2.jpg\u001b[0m\r\n",
      "\u001b[01;35mairplane_485.jpg\u001b[0m  \u001b[01;35mairplane_561.jpg\u001b[0m  \u001b[01;35mairplane_637.jpg\u001b[0m  \u001b[01;35mPlanes3.jpg\u001b[0m\r\n",
      "\u001b[01;35mairplane_486.jpg\u001b[0m  \u001b[01;35mairplane_562.jpg\u001b[0m  \u001b[01;35mairplane_638.jpg\u001b[0m  \u001b[01;35mPlanes4.jpg\u001b[0m\r\n",
      "\u001b[01;35mairplane_487.jpg\u001b[0m  \u001b[01;35mairplane_563.jpg\u001b[0m  \u001b[01;35mairplane_639.jpg\u001b[0m  \u001b[01;35mPlanes6.jpg\u001b[0m\r\n",
      "\u001b[01;35mairplane_488.jpg\u001b[0m  \u001b[01;35mairplane_564.jpg\u001b[0m  \u001b[01;35mairplane_640.jpg\u001b[0m  \u001b[01;35mPlanes7.jpg\u001b[0m\r\n",
      "\u001b[01;35mairplane_489.jpg\u001b[0m  \u001b[01;35mairplane_565.jpg\u001b[0m  \u001b[01;35mairplane_641.jpg\u001b[0m  \u001b[01;35mPlanes8.jpg\u001b[0m\r\n",
      "\u001b[01;35mairplane_490.jpg\u001b[0m  \u001b[01;35mairplane_566.jpg\u001b[0m  \u001b[01;35mairplane_642.jpg\u001b[0m  \u001b[01;35mPlanes9.jpg\u001b[0m\r\n",
      "\u001b[01;35mairplane_491.jpg\u001b[0m  \u001b[01;35mairplane_567.jpg\u001b[0m  \u001b[01;35mairplane_643.jpg\u001b[0m\r\n"
     ]
    }
   ],
   "source": [
    "ls"
   ]
  },
  {
   "cell_type": "code",
   "execution_count": 10,
   "id": "e7284e03",
   "metadata": {},
   "outputs": [],
   "source": [
    "path = \"Images\"\n",
    "annot = \"Airplanes_Annotations\""
   ]
  },
  {
   "cell_type": "code",
   "execution_count": 11,
   "id": "4fff6aba",
   "metadata": {},
   "outputs": [
    {
     "name": "stdout",
     "output_type": "stream",
     "text": [
      "0 airplane_435.jpg\n"
     ]
    },
    {
     "name": "stderr",
     "output_type": "stream",
     "text": [
      "[ WARN:0@99.485] global /io/opencv/modules/imgcodecs/src/loadsave.cpp (239) findDecoder imread_('Images/airplane_435.jpg'): can't open/read file: check file path/integrity\n"
     ]
    },
    {
     "name": "stdout",
     "output_type": "stream",
     "text": [
      "OpenCV(4.5.5) /io/opencv/modules/imgproc/src/color.cpp:182: error: (-215:Assertion failed) !_src.empty() in function 'cvtColor'\n",
      "\n",
      "error in airplane_435.jpg\n",
      "1 airplane_104.jpg\n",
      "2 airplane_040.jpg\n",
      "3 airplane_021.jpg\n",
      "4 airplane_461.jpg\n",
      "OpenCV(4.5.5) /io/opencv/modules/imgproc/src/color.cpp:182: error: (-215:Assertion failed) !_src.empty() in function 'cvtColor'\n",
      "\n",
      "error in airplane_461.jpg\n",
      "5 airplane_271.jpg\n"
     ]
    },
    {
     "name": "stderr",
     "output_type": "stream",
     "text": [
      "[ WARN:0@103.622] global /io/opencv/modules/imgcodecs/src/loadsave.cpp (239) findDecoder imread_('Images/airplane_461.jpg'): can't open/read file: check file path/integrity\n"
     ]
    },
    {
     "name": "stdout",
     "output_type": "stream",
     "text": [
      "6 airplane_404.jpg\n",
      "7 airplane_599.jpg\n",
      "OpenCV(4.5.5) /io/opencv/modules/imgproc/src/color.cpp:182: error: (-215:Assertion failed) !_src.empty() in function 'cvtColor'\n",
      "\n",
      "error in airplane_599.jpg\n",
      "8 airplane_262.jpg\n"
     ]
    },
    {
     "name": "stderr",
     "output_type": "stream",
     "text": [
      "[ WARN:0@105.440] global /io/opencv/modules/imgcodecs/src/loadsave.cpp (239) findDecoder imread_('Images/airplane_599.jpg'): can't open/read file: check file path/integrity\n"
     ]
    },
    {
     "name": "stdout",
     "output_type": "stream",
     "text": [
      "9 airplane_572.jpg\n",
      "OpenCV(4.5.5) /io/opencv/modules/imgproc/src/color.cpp:182: error: (-215:Assertion failed) !_src.empty() in function 'cvtColor'\n",
      "\n",
      "error in airplane_572.jpg\n",
      "10 airplane_318.jpg\n"
     ]
    },
    {
     "name": "stderr",
     "output_type": "stream",
     "text": [
      "[ WARN:0@106.180] global /io/opencv/modules/imgcodecs/src/loadsave.cpp (239) findDecoder imread_('Images/airplane_572.jpg'): can't open/read file: check file path/integrity\n"
     ]
    },
    {
     "name": "stdout",
     "output_type": "stream",
     "text": [
      "11 airplane_397.jpg\n",
      "12 airplane_082.jpg\n",
      "13 airplane_589.jpg\n",
      "OpenCV(4.5.5) /io/opencv/modules/imgproc/src/color.cpp:182: error: (-215:Assertion failed) !_src.empty() in function 'cvtColor'\n",
      "\n",
      "error in airplane_589.jpg\n",
      "14 airplane_219.jpg\n"
     ]
    },
    {
     "name": "stderr",
     "output_type": "stream",
     "text": [
      "[ WARN:0@108.666] global /io/opencv/modules/imgcodecs/src/loadsave.cpp (239) findDecoder imread_('Images/airplane_589.jpg'): can't open/read file: check file path/integrity\n"
     ]
    },
    {
     "name": "stdout",
     "output_type": "stream",
     "text": [
      "15 airplane_479.jpg\n",
      "OpenCV(4.5.5) /io/opencv/modules/imgproc/src/color.cpp:182: error: (-215:Assertion failed) !_src.empty() in function 'cvtColor'\n",
      "\n",
      "error in airplane_479.jpg\n",
      "16 airplane_167.jpg\n"
     ]
    },
    {
     "name": "stderr",
     "output_type": "stream",
     "text": [
      "[ WARN:0@109.533] global /io/opencv/modules/imgcodecs/src/loadsave.cpp (239) findDecoder imread_('Images/airplane_479.jpg'): can't open/read file: check file path/integrity\n"
     ]
    },
    {
     "name": "stdout",
     "output_type": "stream",
     "text": [
      "17 airplane_265.jpg\n",
      "18 airplane_688.jpg\n",
      "OpenCV(4.5.5) /io/opencv/modules/imgproc/src/color.cpp:182: error: (-215:Assertion failed) !_src.empty() in function 'cvtColor'\n",
      "\n",
      "error in airplane_688.jpg\n",
      "19 airplane_596.jpg\n",
      "OpenCV(4.5.5) /io/opencv/modules/imgproc/src/color.cpp:182: error: (-215:Assertion failed) !_src.empty() in function 'cvtColor'\n",
      "\n",
      "error in airplane_596.jpg\n",
      "20 airplane_370.jpg\n"
     ]
    },
    {
     "name": "stderr",
     "output_type": "stream",
     "text": [
      "[ WARN:0@111.186] global /io/opencv/modules/imgcodecs/src/loadsave.cpp (239) findDecoder imread_('Images/airplane_688.jpg'): can't open/read file: check file path/integrity\n",
      "[ WARN:0@111.191] global /io/opencv/modules/imgcodecs/src/loadsave.cpp (239) findDecoder imread_('Images/airplane_596.jpg'): can't open/read file: check file path/integrity\n"
     ]
    },
    {
     "name": "stdout",
     "output_type": "stream",
     "text": [
      "21 airplane_407.jpg\n",
      "23 airplane_039.jpg\n",
      "24 airplane_192.jpg\n",
      "25 airplane_033.jpg\n",
      "26 airplane_584.jpg\n",
      "OpenCV(4.5.5) /io/opencv/modules/imgproc/src/color.cpp:182: error: (-215:Assertion failed) !_src.empty() in function 'cvtColor'\n",
      "\n",
      "error in airplane_584.jpg\n",
      "27 airplane_224.jpg\n"
     ]
    },
    {
     "name": "stderr",
     "output_type": "stream",
     "text": [
      "[ WARN:0@115.316] global /io/opencv/modules/imgcodecs/src/loadsave.cpp (239) findDecoder imread_('Images/airplane_584.jpg'): can't open/read file: check file path/integrity\n"
     ]
    },
    {
     "name": "stdout",
     "output_type": "stream",
     "text": [
      "28 airplane_537.jpg\n",
      "OpenCV(4.5.5) /io/opencv/modules/imgproc/src/color.cpp:182: error: (-215:Assertion failed) !_src.empty() in function 'cvtColor'\n",
      "\n",
      "error in airplane_537.jpg\n",
      "29 airplane_398.jpg\n"
     ]
    },
    {
     "name": "stderr",
     "output_type": "stream",
     "text": [
      "[ WARN:0@116.163] global /io/opencv/modules/imgcodecs/src/loadsave.cpp (239) findDecoder imread_('Images/airplane_537.jpg'): can't open/read file: check file path/integrity\n"
     ]
    },
    {
     "name": "stdout",
     "output_type": "stream",
     "text": [
      "30 airplane_303.jpg\n",
      "31 airplane_665.jpg\n",
      "OpenCV(4.5.5) /io/opencv/modules/imgproc/src/color.cpp:182: error: (-215:Assertion failed) !_src.empty() in function 'cvtColor'\n",
      "\n",
      "error in airplane_665.jpg\n",
      "32 airplane_339.jpg\n"
     ]
    },
    {
     "name": "stderr",
     "output_type": "stream",
     "text": [
      "[ WARN:0@117.783] global /io/opencv/modules/imgcodecs/src/loadsave.cpp (239) findDecoder imread_('Images/airplane_665.jpg'): can't open/read file: check file path/integrity\n"
     ]
    },
    {
     "name": "stdout",
     "output_type": "stream",
     "text": [
      "33 airplane_647.jpg\n",
      "OpenCV(4.5.5) /io/opencv/modules/imgproc/src/color.cpp:182: error: (-215:Assertion failed) !_src.empty() in function 'cvtColor'\n",
      "\n",
      "error in airplane_647.jpg\n",
      "34 airplane_183.jpg\n"
     ]
    },
    {
     "name": "stderr",
     "output_type": "stream",
     "text": [
      "[ WARN:0@118.566] global /io/opencv/modules/imgcodecs/src/loadsave.cpp (239) findDecoder imread_('Images/airplane_647.jpg'): can't open/read file: check file path/integrity\n"
     ]
    },
    {
     "name": "stdout",
     "output_type": "stream",
     "text": [
      "35 airplane_197.jpg\n",
      "36 airplane_217.jpg\n",
      "37 airplane_519.jpg\n",
      "OpenCV(4.5.5) /io/opencv/modules/imgproc/src/color.cpp:182: error: (-215:Assertion failed) !_src.empty() in function 'cvtColor'\n",
      "\n",
      "error in airplane_519.jpg\n",
      "38 airplane_680.jpg\n",
      "OpenCV(4.5.5) /io/opencv/modules/imgproc/src/color.cpp:182: error: (-215:Assertion failed) !_src.empty() in function 'cvtColor'\n",
      "\n",
      "error in airplane_680.jpg\n",
      "39 airplane_139.jpg\n"
     ]
    },
    {
     "name": "stderr",
     "output_type": "stream",
     "text": [
      "[ WARN:0@121.061] global /io/opencv/modules/imgcodecs/src/loadsave.cpp (239) findDecoder imread_('Images/airplane_519.jpg'): can't open/read file: check file path/integrity\n",
      "[ WARN:0@121.065] global /io/opencv/modules/imgcodecs/src/loadsave.cpp (239) findDecoder imread_('Images/airplane_680.jpg'): can't open/read file: check file path/integrity\n"
     ]
    },
    {
     "name": "stdout",
     "output_type": "stream",
     "text": [
      "40 airplane_517.jpg\n",
      "OpenCV(4.5.5) /io/opencv/modules/imgproc/src/color.cpp:182: error: (-215:Assertion failed) !_src.empty() in function 'cvtColor'\n",
      "\n",
      "error in airplane_517.jpg\n",
      "41 airplane_231.jpg\n"
     ]
    },
    {
     "name": "stderr",
     "output_type": "stream",
     "text": [
      "[ WARN:0@121.625] global /io/opencv/modules/imgcodecs/src/loadsave.cpp (239) findDecoder imread_('Images/airplane_517.jpg'): can't open/read file: check file path/integrity\n"
     ]
    },
    {
     "name": "stdout",
     "output_type": "stream",
     "text": [
      "42 airplane_048.jpg\n",
      "43 airplane_173.jpg\n",
      "44 airplane_558.jpg\n",
      "OpenCV(4.5.5) /io/opencv/modules/imgproc/src/color.cpp:182: error: (-215:Assertion failed) !_src.empty() in function 'cvtColor'\n",
      "\n",
      "error in airplane_558.jpg\n",
      "45 airplane_071.jpg\n"
     ]
    },
    {
     "name": "stderr",
     "output_type": "stream",
     "text": [
      "[ WARN:0@124.196] global /io/opencv/modules/imgcodecs/src/loadsave.cpp (239) findDecoder imread_('Images/airplane_558.jpg'): can't open/read file: check file path/integrity\n"
     ]
    },
    {
     "name": "stdout",
     "output_type": "stream",
     "text": [
      "46 airplane_685.jpg\n",
      "OpenCV(4.5.5) /io/opencv/modules/imgproc/src/color.cpp:182: error: (-215:Assertion failed) !_src.empty() in function 'cvtColor'\n",
      "\n",
      "error in airplane_685.jpg\n",
      "47 airplane_631.jpg\n",
      "OpenCV(4.5.5) /io/opencv/modules/imgproc/src/color.cpp:182: error: (-215:Assertion failed) !_src.empty() in function 'cvtColor'\n",
      "\n",
      "error in airplane_631.jpg\n",
      "48 airplane_315.jpg\n"
     ]
    },
    {
     "name": "stderr",
     "output_type": "stream",
     "text": [
      "[ WARN:0@124.967] global /io/opencv/modules/imgcodecs/src/loadsave.cpp (239) findDecoder imread_('Images/airplane_685.jpg'): can't open/read file: check file path/integrity\n",
      "[ WARN:0@124.971] global /io/opencv/modules/imgcodecs/src/loadsave.cpp (239) findDecoder imread_('Images/airplane_631.jpg'): can't open/read file: check file path/integrity\n"
     ]
    },
    {
     "name": "stdout",
     "output_type": "stream",
     "text": [
      "inside\n",
      "49 airplane_096.jpg\n",
      "inside\n",
      "50 airplane_052.jpg\n",
      "51 airplane_274.jpg\n",
      "52 airplane_212.jpg\n",
      "53 airplane_531.jpg\n",
      "OpenCV(4.5.5) /io/opencv/modules/imgproc/src/color.cpp:182: error: (-215:Assertion failed) !_src.empty() in function 'cvtColor'\n",
      "\n",
      "error in airplane_531.jpg\n",
      "54 airplane_146.jpg\n"
     ]
    },
    {
     "name": "stderr",
     "output_type": "stream",
     "text": [
      "[ WARN:0@129.216] global /io/opencv/modules/imgcodecs/src/loadsave.cpp (239) findDecoder imread_('Images/airplane_531.jpg'): can't open/read file: check file path/integrity\n"
     ]
    },
    {
     "name": "stdout",
     "output_type": "stream",
     "text": [
      "55 airplane_084.jpg\n",
      "56 airplane_047.jpg\n",
      "57 airplane_586.jpg\n",
      "OpenCV(4.5.5) /io/opencv/modules/imgproc/src/color.cpp:182: error: (-215:Assertion failed) !_src.empty() in function 'cvtColor'\n",
      "\n",
      "error in airplane_586.jpg\n",
      "58 airplane_696.jpg\n",
      "OpenCV(4.5.5) /io/opencv/modules/imgproc/src/color.cpp:182: error: (-215:Assertion failed) !_src.empty() in function 'cvtColor'\n",
      "\n",
      "error in airplane_696.jpg\n",
      "59 airplane_252.jpg\n"
     ]
    },
    {
     "name": "stderr",
     "output_type": "stream",
     "text": [
      "[ WARN:0@130.788] global /io/opencv/modules/imgcodecs/src/loadsave.cpp (239) findDecoder imread_('Images/airplane_586.jpg'): can't open/read file: check file path/integrity\n",
      "[ WARN:0@130.796] global /io/opencv/modules/imgcodecs/src/loadsave.cpp (239) findDecoder imread_('Images/airplane_696.jpg'): can't open/read file: check file path/integrity\n"
     ]
    },
    {
     "name": "stdout",
     "output_type": "stream",
     "text": [
      "60 airplane_613.jpg\n",
      "OpenCV(4.5.5) /io/opencv/modules/imgproc/src/color.cpp:182: error: (-215:Assertion failed) !_src.empty() in function 'cvtColor'\n",
      "\n",
      "error in airplane_613.jpg\n",
      "62 airplane_203.jpg\n"
     ]
    },
    {
     "name": "stderr",
     "output_type": "stream",
     "text": [
      "[ WARN:0@131.426] global /io/opencv/modules/imgcodecs/src/loadsave.cpp (239) findDecoder imread_('Images/airplane_613.jpg'): can't open/read file: check file path/integrity\n"
     ]
    },
    {
     "name": "stdout",
     "output_type": "stream",
     "text": [
      "63 airplane_388.jpg\n",
      "inside\n",
      "65 airplane_147.jpg\n",
      "66 airplane_152.jpg\n",
      "67 airplane_578.jpg\n",
      "OpenCV(4.5.5) /io/opencv/modules/imgproc/src/color.cpp:182: error: (-215:Assertion failed) !_src.empty() in function 'cvtColor'\n",
      "\n",
      "error in airplane_578.jpg\n",
      "68 airplane_322.jpg\n"
     ]
    },
    {
     "name": "stderr",
     "output_type": "stream",
     "text": [
      "[ WARN:0@134.825] global /io/opencv/modules/imgcodecs/src/loadsave.cpp (239) findDecoder imread_('Images/airplane_578.jpg'): can't open/read file: check file path/integrity\n"
     ]
    },
    {
     "name": "stdout",
     "output_type": "stream",
     "text": [
      "69 airplane_213.jpg\n",
      "inside\n",
      "71 airplane_540.jpg\n",
      "OpenCV(4.5.5) /io/opencv/modules/imgproc/src/color.cpp:182: error: (-215:Assertion failed) !_src.empty() in function 'cvtColor'\n",
      "\n",
      "error in airplane_540.jpg\n",
      "72 airplane_591.jpg\n",
      "OpenCV(4.5.5) /io/opencv/modules/imgproc/src/color.cpp:182: error: (-215:Assertion failed) !_src.empty() in function 'cvtColor'\n",
      "\n",
      "error in airplane_591.jpg\n",
      "73 airplane_030.jpg\n"
     ]
    },
    {
     "name": "stderr",
     "output_type": "stream",
     "text": [
      "[ WARN:0@136.092] global /io/opencv/modules/imgcodecs/src/loadsave.cpp (239) findDecoder imread_('Images/airplane_540.jpg'): can't open/read file: check file path/integrity\n",
      "[ WARN:0@136.095] global /io/opencv/modules/imgcodecs/src/loadsave.cpp (239) findDecoder imread_('Images/airplane_591.jpg'): can't open/read file: check file path/integrity\n"
     ]
    },
    {
     "name": "stdout",
     "output_type": "stream",
     "text": [
      "74 airplane_137.jpg\n",
      "inside\n",
      "75 airplane_614.jpg\n",
      "OpenCV(4.5.5) /io/opencv/modules/imgproc/src/color.cpp:182: error: (-215:Assertion failed) !_src.empty() in function 'cvtColor'\n",
      "\n",
      "error in airplane_614.jpg\n",
      "76 airplane_098.jpg\n"
     ]
    },
    {
     "name": "stderr",
     "output_type": "stream",
     "text": [
      "[ WARN:0@137.766] global /io/opencv/modules/imgcodecs/src/loadsave.cpp (239) findDecoder imread_('Images/airplane_614.jpg'): can't open/read file: check file path/integrity\n"
     ]
    },
    {
     "name": "stdout",
     "output_type": "stream",
     "text": [
      "78 airplane_117.jpg\n",
      "79 airplane_417.jpg\n",
      "OpenCV(4.5.5) /io/opencv/modules/imgproc/src/color.cpp:182: error: (-215:Assertion failed) !_src.empty() in function 'cvtColor'\n",
      "\n",
      "error in airplane_417.jpg\n",
      "80 airplane_518.jpg\n",
      "OpenCV(4.5.5) /io/opencv/modules/imgproc/src/color.cpp:182: error: (-215:Assertion failed) !_src.empty() in function 'cvtColor'\n",
      "\n",
      "error in airplane_518.jpg\n",
      "81 airplane_253.jpg\n"
     ]
    },
    {
     "name": "stderr",
     "output_type": "stream",
     "text": [
      "[ WARN:0@138.869] global /io/opencv/modules/imgcodecs/src/loadsave.cpp (239) findDecoder imread_('Images/airplane_417.jpg'): can't open/read file: check file path/integrity\n",
      "[ WARN:0@138.872] global /io/opencv/modules/imgcodecs/src/loadsave.cpp (239) findDecoder imread_('Images/airplane_518.jpg'): can't open/read file: check file path/integrity\n"
     ]
    },
    {
     "name": "stdout",
     "output_type": "stream",
     "text": [
      "82 airplane_387.jpg\n",
      "83 airplane_264.jpg\n",
      "inside\n",
      "84 airplane_496.jpg\n",
      "OpenCV(4.5.5) /io/opencv/modules/imgproc/src/color.cpp:182: error: (-215:Assertion failed) !_src.empty() in function 'cvtColor'\n",
      "\n",
      "error in airplane_496.jpg\n",
      "85 airplane_660.jpg\n",
      "OpenCV(4.5.5) /io/opencv/modules/imgproc/src/color.cpp:182: error: (-215:Assertion failed) !_src.empty() in function 'cvtColor'\n",
      "\n",
      "error in airplane_660.jpg\n",
      "86 airplane_055.jpg\n"
     ]
    },
    {
     "name": "stderr",
     "output_type": "stream",
     "text": [
      "[ WARN:0@140.935] global /io/opencv/modules/imgcodecs/src/loadsave.cpp (239) findDecoder imread_('Images/airplane_496.jpg'): can't open/read file: check file path/integrity\n",
      "[ WARN:0@140.978] global /io/opencv/modules/imgcodecs/src/loadsave.cpp (239) findDecoder imread_('Images/airplane_660.jpg'): can't open/read file: check file path/integrity\n"
     ]
    },
    {
     "name": "stdout",
     "output_type": "stream",
     "text": [
      "87 airplane_588.jpg\n",
      "OpenCV(4.5.5) /io/opencv/modules/imgproc/src/color.cpp:182: error: (-215:Assertion failed) !_src.empty() in function 'cvtColor'\n",
      "\n",
      "error in airplane_588.jpg\n",
      "88 airplane_284.jpg\n"
     ]
    },
    {
     "name": "stderr",
     "output_type": "stream",
     "text": [
      "[ WARN:0@141.711] global /io/opencv/modules/imgcodecs/src/loadsave.cpp (239) findDecoder imread_('Images/airplane_588.jpg'): can't open/read file: check file path/integrity\n"
     ]
    },
    {
     "name": "stdout",
     "output_type": "stream",
     "text": [
      "89 airplane_300.jpg\n",
      "90 airplane_560.jpg\n",
      "OpenCV(4.5.5) /io/opencv/modules/imgproc/src/color.cpp:182: error: (-215:Assertion failed) !_src.empty() in function 'cvtColor'\n",
      "\n",
      "error in airplane_560.jpg\n",
      "91 airplane_321.jpg\n"
     ]
    },
    {
     "name": "stderr",
     "output_type": "stream",
     "text": [
      "[ WARN:0@143.016] global /io/opencv/modules/imgcodecs/src/loadsave.cpp (239) findDecoder imread_('Images/airplane_560.jpg'): can't open/read file: check file path/integrity\n"
     ]
    },
    {
     "name": "stdout",
     "output_type": "stream",
     "text": [
      "92 airplane_012.jpg\n",
      "inside\n",
      "93 airplane_282.jpg\n",
      "94 airplane_169.jpg\n",
      "95 airplane_075.jpg\n",
      "inside\n",
      "96 airplane_066.jpg\n",
      "97 airplane_141.jpg\n",
      "98 airplane_453.jpg\n",
      "OpenCV(4.5.5) /io/opencv/modules/imgproc/src/color.cpp:182: error: (-215:Assertion failed) !_src.empty() in function 'cvtColor'\n",
      "\n",
      "error in airplane_453.jpg\n",
      "99 airplane_674.jpg\n",
      "OpenCV(4.5.5) /io/opencv/modules/imgproc/src/color.cpp:182: error: (-215:Assertion failed) !_src.empty() in function 'cvtColor'\n",
      "\n",
      "error in airplane_674.jpg\n",
      "100 airplane_170.jpg\n"
     ]
    },
    {
     "name": "stderr",
     "output_type": "stream",
     "text": [
      "[ WARN:0@148.340] global /io/opencv/modules/imgcodecs/src/loadsave.cpp (239) findDecoder imread_('Images/airplane_453.jpg'): can't open/read file: check file path/integrity\n",
      "[ WARN:0@148.345] global /io/opencv/modules/imgcodecs/src/loadsave.cpp (239) findDecoder imread_('Images/airplane_674.jpg'): can't open/read file: check file path/integrity\n"
     ]
    },
    {
     "name": "stdout",
     "output_type": "stream",
     "text": [
      "101 airplane_261.jpg\n",
      "102 airplane_306.jpg\n",
      "inside\n",
      "103 airplane_355.jpg\n",
      "104 airplane_205.jpg\n",
      "105 airplane_065.jpg\n",
      "106 airplane_465.jpg\n",
      "OpenCV(4.5.5) /io/opencv/modules/imgproc/src/color.cpp:182: error: (-215:Assertion failed) !_src.empty() in function 'cvtColor'\n",
      "\n",
      "error in airplane_465.jpg\n",
      "107 airplane_502.jpg\n",
      "OpenCV(4.5.5) /io/opencv/modules/imgproc/src/color.cpp:182: error: (-215:Assertion failed) !_src.empty() in function 'cvtColor'\n",
      "\n",
      "error in airplane_502.jpg\n",
      "108 airplane_416.jpg\n",
      "OpenCV(4.5.5) /io/opencv/modules/imgproc/src/color.cpp:182: error: (-215:Assertion failed) !_src.empty() in function 'cvtColor'\n",
      "\n",
      "error in airplane_416.jpg\n",
      "109 airplane_168.jpg\n"
     ]
    },
    {
     "name": "stderr",
     "output_type": "stream",
     "text": [
      "[ WARN:0@153.514] global /io/opencv/modules/imgcodecs/src/loadsave.cpp (239) findDecoder imread_('Images/airplane_465.jpg'): can't open/read file: check file path/integrity\n",
      "[ WARN:0@153.528] global /io/opencv/modules/imgcodecs/src/loadsave.cpp (239) findDecoder imread_('Images/airplane_502.jpg'): can't open/read file: check file path/integrity\n",
      "[ WARN:0@153.550] global /io/opencv/modules/imgcodecs/src/loadsave.cpp (239) findDecoder imread_('Images/airplane_416.jpg'): can't open/read file: check file path/integrity\n"
     ]
    },
    {
     "name": "stdout",
     "output_type": "stream",
     "text": [
      "110 airplane_571.jpg\n",
      "OpenCV(4.5.5) /io/opencv/modules/imgproc/src/color.cpp:182: error: (-215:Assertion failed) !_src.empty() in function 'cvtColor'\n",
      "\n",
      "error in airplane_571.jpg\n",
      "111 airplane_441.jpg\n",
      "OpenCV(4.5.5) /io/opencv/modules/imgproc/src/color.cpp:182: error: (-215:Assertion failed) !_src.empty() in function 'cvtColor'\n",
      "\n",
      "error in airplane_441.jpg\n",
      "112 airplane_149.jpg\n"
     ]
    },
    {
     "name": "stderr",
     "output_type": "stream",
     "text": [
      "[ WARN:0@154.472] global /io/opencv/modules/imgcodecs/src/loadsave.cpp (239) findDecoder imread_('Images/airplane_571.jpg'): can't open/read file: check file path/integrity\n",
      "[ WARN:0@154.500] global /io/opencv/modules/imgcodecs/src/loadsave.cpp (239) findDecoder imread_('Images/airplane_441.jpg'): can't open/read file: check file path/integrity\n"
     ]
    },
    {
     "name": "stdout",
     "output_type": "stream",
     "text": [
      "113 airplane_307.jpg\n",
      "114 airplane_159.jpg\n",
      "115 airplane_257.jpg\n",
      "116 airplane_326.jpg\n",
      "inside\n",
      "117 airplane_452.jpg\n",
      "OpenCV(4.5.5) /io/opencv/modules/imgproc/src/color.cpp:182: error: (-215:Assertion failed) !_src.empty() in function 'cvtColor'\n",
      "\n",
      "error in airplane_452.jpg\n",
      "118 airplane_103.jpg\n"
     ]
    },
    {
     "name": "stderr",
     "output_type": "stream",
     "text": [
      "[ WARN:0@159.061] global /io/opencv/modules/imgcodecs/src/loadsave.cpp (239) findDecoder imread_('Images/airplane_452.jpg'): can't open/read file: check file path/integrity\n"
     ]
    },
    {
     "name": "stdout",
     "output_type": "stream",
     "text": [
      "119 airplane_171.jpg\n",
      "120 airplane_523.jpg\n",
      "OpenCV(4.5.5) /io/opencv/modules/imgproc/src/color.cpp:182: error: (-215:Assertion failed) !_src.empty() in function 'cvtColor'\n",
      "\n",
      "error in airplane_523.jpg\n",
      "121 airplane_662.jpg\n",
      "OpenCV(4.5.5) /io/opencv/modules/imgproc/src/color.cpp:182: error: (-215:Assertion failed) !_src.empty() in function 'cvtColor'\n",
      "\n",
      "error in airplane_662.jpg\n",
      "122 airplane_298.jpg\n"
     ]
    },
    {
     "name": "stderr",
     "output_type": "stream",
     "text": [
      "[ WARN:0@160.654] global /io/opencv/modules/imgcodecs/src/loadsave.cpp (239) findDecoder imread_('Images/airplane_523.jpg'): can't open/read file: check file path/integrity\n",
      "[ WARN:0@160.721] global /io/opencv/modules/imgcodecs/src/loadsave.cpp (239) findDecoder imread_('Images/airplane_662.jpg'): can't open/read file: check file path/integrity\n"
     ]
    },
    {
     "name": "stdout",
     "output_type": "stream",
     "text": [
      "123 airplane_296.jpg\n",
      "124 airplane_459.jpg\n",
      "OpenCV(4.5.5) /io/opencv/modules/imgproc/src/color.cpp:182: error: (-215:Assertion failed) !_src.empty() in function 'cvtColor'\n",
      "\n",
      "error in airplane_459.jpg\n",
      "125 airplane_155.jpg\n"
     ]
    },
    {
     "name": "stderr",
     "output_type": "stream",
     "text": [
      "[ WARN:0@161.773] global /io/opencv/modules/imgcodecs/src/loadsave.cpp (239) findDecoder imread_('Images/airplane_459.jpg'): can't open/read file: check file path/integrity\n"
     ]
    },
    {
     "name": "stdout",
     "output_type": "stream",
     "text": [
      "126 airplane_042.jpg\n",
      "127 airplane_557.jpg\n",
      "OpenCV(4.5.5) /io/opencv/modules/imgproc/src/color.cpp:182: error: (-215:Assertion failed) !_src.empty() in function 'cvtColor'\n",
      "\n",
      "error in airplane_557.jpg\n",
      "128 airplane_683.jpg\n",
      "OpenCV(4.5.5) /io/opencv/modules/imgproc/src/color.cpp:182: error: (-215:Assertion failed) !_src.empty() in function 'cvtColor'\n",
      "\n",
      "error in airplane_683.jpg\n",
      "129 airplane_196.jpg\n"
     ]
    },
    {
     "name": "stderr",
     "output_type": "stream",
     "text": [
      "[ WARN:0@162.696] global /io/opencv/modules/imgcodecs/src/loadsave.cpp (239) findDecoder imread_('Images/airplane_557.jpg'): can't open/read file: check file path/integrity\n",
      "[ WARN:0@162.699] global /io/opencv/modules/imgcodecs/src/loadsave.cpp (239) findDecoder imread_('Images/airplane_683.jpg'): can't open/read file: check file path/integrity\n"
     ]
    },
    {
     "name": "stdout",
     "output_type": "stream",
     "text": [
      "130 airplane_675.jpg\n",
      "OpenCV(4.5.5) /io/opencv/modules/imgproc/src/color.cpp:182: error: (-215:Assertion failed) !_src.empty() in function 'cvtColor'\n",
      "\n",
      "error in airplane_675.jpg\n",
      "131 airplane_335.jpg\n"
     ]
    },
    {
     "name": "stderr",
     "output_type": "stream",
     "text": [
      "[ WARN:0@163.632] global /io/opencv/modules/imgcodecs/src/loadsave.cpp (239) findDecoder imread_('Images/airplane_675.jpg'): can't open/read file: check file path/integrity\n"
     ]
    },
    {
     "name": "stdout",
     "output_type": "stream",
     "text": [
      "132 airplane_656.jpg\n",
      "OpenCV(4.5.5) /io/opencv/modules/imgproc/src/color.cpp:182: error: (-215:Assertion failed) !_src.empty() in function 'cvtColor'\n",
      "\n",
      "error in airplane_656.jpg\n",
      "133 airplane_102.jpg\n"
     ]
    },
    {
     "name": "stderr",
     "output_type": "stream",
     "text": [
      "[ WARN:0@164.564] global /io/opencv/modules/imgcodecs/src/loadsave.cpp (239) findDecoder imread_('Images/airplane_656.jpg'): can't open/read file: check file path/integrity\n"
     ]
    },
    {
     "name": "stdout",
     "output_type": "stream",
     "text": [
      "134 airplane_068.jpg\n",
      "135 airplane_319.jpg\n",
      "136 airplane_587.jpg\n",
      "OpenCV(4.5.5) /io/opencv/modules/imgproc/src/color.cpp:182: error: (-215:Assertion failed) !_src.empty() in function 'cvtColor'\n",
      "\n",
      "error in airplane_587.jpg\n",
      "137 airplane_516.jpg\n",
      "OpenCV(4.5.5) /io/opencv/modules/imgproc/src/color.cpp:182: error: (-215:Assertion failed) !_src.empty() in function 'cvtColor'\n",
      "\n",
      "error in airplane_516.jpg\n",
      "138 airplane_099.jpg\n"
     ]
    },
    {
     "name": "stderr",
     "output_type": "stream",
     "text": [
      "[ WARN:0@167.343] global /io/opencv/modules/imgcodecs/src/loadsave.cpp (239) findDecoder imread_('Images/airplane_587.jpg'): can't open/read file: check file path/integrity\n",
      "[ WARN:0@167.373] global /io/opencv/modules/imgcodecs/src/loadsave.cpp (239) findDecoder imread_('Images/airplane_516.jpg'): can't open/read file: check file path/integrity\n"
     ]
    },
    {
     "name": "stdout",
     "output_type": "stream",
     "text": [
      "139 airplane_616.jpg\n",
      "OpenCV(4.5.5) /io/opencv/modules/imgproc/src/color.cpp:182: error: (-215:Assertion failed) !_src.empty() in function 'cvtColor'\n",
      "\n",
      "error in airplane_616.jpg\n",
      "140 airplane_289.jpg\n"
     ]
    },
    {
     "name": "stderr",
     "output_type": "stream",
     "text": [
      "[ WARN:0@167.907] global /io/opencv/modules/imgcodecs/src/loadsave.cpp (239) findDecoder imread_('Images/airplane_616.jpg'): can't open/read file: check file path/integrity\n"
     ]
    },
    {
     "name": "stdout",
     "output_type": "stream",
     "text": [
      "inside\n",
      "141 airplane_445.jpg\n",
      "OpenCV(4.5.5) /io/opencv/modules/imgproc/src/color.cpp:182: error: (-215:Assertion failed) !_src.empty() in function 'cvtColor'\n",
      "\n",
      "error in airplane_445.jpg\n",
      "142 airplane_667.jpg\n",
      "OpenCV(4.5.5) /io/opencv/modules/imgproc/src/color.cpp:182: error: (-215:Assertion failed) !_src.empty() in function 'cvtColor'\n",
      "\n",
      "error in airplane_667.jpg\n",
      "143 airplane_150.jpg\n"
     ]
    },
    {
     "name": "stderr",
     "output_type": "stream",
     "text": [
      "[ WARN:0@168.922] global /io/opencv/modules/imgcodecs/src/loadsave.cpp (239) findDecoder imread_('Images/airplane_445.jpg'): can't open/read file: check file path/integrity\n",
      "[ WARN:0@168.978] global /io/opencv/modules/imgcodecs/src/loadsave.cpp (239) findDecoder imread_('Images/airplane_667.jpg'): can't open/read file: check file path/integrity\n"
     ]
    },
    {
     "name": "stdout",
     "output_type": "stream",
     "text": [
      "144 airplane_430.jpg\n",
      "OpenCV(4.5.5) /io/opencv/modules/imgproc/src/color.cpp:182: error: (-215:Assertion failed) !_src.empty() in function 'cvtColor'\n",
      "\n",
      "error in airplane_430.jpg\n",
      "145 airplane_122.jpg\n"
     ]
    },
    {
     "name": "stderr",
     "output_type": "stream",
     "text": [
      "[ WARN:0@169.868] global /io/opencv/modules/imgcodecs/src/loadsave.cpp (239) findDecoder imread_('Images/airplane_430.jpg'): can't open/read file: check file path/integrity\n"
     ]
    },
    {
     "name": "stdout",
     "output_type": "stream",
     "text": [
      "146 airplane_154.jpg\n",
      "147 airplane_415.jpg\n",
      "148 airplane_118.jpg\n",
      "149 airplane_184.jpg\n",
      "150 airplane_114.jpg\n",
      "151 airplane_241.jpg\n",
      "152 airplane_390.jpg\n",
      "153 airplane_288.jpg\n",
      "154 airplane_466.jpg\n",
      "OpenCV(4.5.5) /io/opencv/modules/imgproc/src/color.cpp:182: error: (-215:Assertion failed) !_src.empty() in function 'cvtColor'\n",
      "\n",
      "error in airplane_466.jpg\n",
      "155 airplane_359.jpg\n"
     ]
    },
    {
     "name": "stderr",
     "output_type": "stream",
     "text": [
      "[ WARN:0@177.960] global /io/opencv/modules/imgcodecs/src/loadsave.cpp (239) findDecoder imread_('Images/airplane_466.jpg'): can't open/read file: check file path/integrity\n"
     ]
    },
    {
     "name": "stdout",
     "output_type": "stream",
     "text": [
      "156 airplane_476.jpg\n",
      "OpenCV(4.5.5) /io/opencv/modules/imgproc/src/color.cpp:182: error: (-215:Assertion failed) !_src.empty() in function 'cvtColor'\n",
      "\n",
      "error in airplane_476.jpg\n",
      "157 airplane_654.jpg\n",
      "OpenCV(4.5.5) /io/opencv/modules/imgproc/src/color.cpp:182: error: (-215:Assertion failed) !_src.empty() in function 'cvtColor'\n",
      "\n",
      "error in airplane_654.jpg\n",
      "158 airplane_037.jpg\n"
     ]
    },
    {
     "name": "stderr",
     "output_type": "stream",
     "text": [
      "[ WARN:0@178.561] global /io/opencv/modules/imgcodecs/src/loadsave.cpp (239) findDecoder imread_('Images/airplane_476.jpg'): can't open/read file: check file path/integrity\n",
      "[ WARN:0@178.564] global /io/opencv/modules/imgcodecs/src/loadsave.cpp (239) findDecoder imread_('Images/airplane_654.jpg'): can't open/read file: check file path/integrity\n"
     ]
    },
    {
     "name": "stdout",
     "output_type": "stream",
     "text": [
      "159 airplane_469.jpg\n",
      "OpenCV(4.5.5) /io/opencv/modules/imgproc/src/color.cpp:182: error: (-215:Assertion failed) !_src.empty() in function 'cvtColor'\n",
      "\n",
      "error in airplane_469.jpg\n",
      "160 airplane_046.jpg\n"
     ]
    },
    {
     "name": "stderr",
     "output_type": "stream",
     "text": [
      "[ WARN:0@179.235] global /io/opencv/modules/imgcodecs/src/loadsave.cpp (239) findDecoder imread_('Images/airplane_469.jpg'): can't open/read file: check file path/integrity\n"
     ]
    },
    {
     "name": "stdout",
     "output_type": "stream",
     "text": [
      "161 airplane_032.jpg\n",
      "162 airplane_250.jpg\n",
      "163 airplane_641.jpg\n",
      "OpenCV(4.5.5) /io/opencv/modules/imgproc/src/color.cpp:182: error: (-215:Assertion failed) !_src.empty() in function 'cvtColor'\n",
      "\n",
      "error in airplane_641.jpg\n",
      "164 airplane_090.jpg\n"
     ]
    },
    {
     "name": "stderr",
     "output_type": "stream",
     "text": [
      "[ WARN:0@182.010] global /io/opencv/modules/imgcodecs/src/loadsave.cpp (239) findDecoder imread_('Images/airplane_641.jpg'): can't open/read file: check file path/integrity\n"
     ]
    },
    {
     "name": "stdout",
     "output_type": "stream",
     "text": [
      "166 airplane_266.jpg\n",
      "167 airplane_427.jpg\n",
      "OpenCV(4.5.5) /io/opencv/modules/imgproc/src/color.cpp:182: error: (-215:Assertion failed) !_src.empty() in function 'cvtColor'\n",
      "\n",
      "error in airplane_427.jpg\n",
      "168 airplane_576.jpg\n",
      "OpenCV(4.5.5) /io/opencv/modules/imgproc/src/color.cpp:182: error: (-215:Assertion failed) !_src.empty() in function 'cvtColor'\n",
      "\n",
      "error in airplane_576.jpg\n",
      "169 airplane_658.jpg\n",
      "OpenCV(4.5.5) /io/opencv/modules/imgproc/src/color.cpp:182: error: (-215:Assertion failed) !_src.empty() in function 'cvtColor'\n",
      "\n",
      "error in airplane_658.jpg\n",
      "170 airplane_434.jpg\n",
      "OpenCV(4.5.5) /io/opencv/modules/imgproc/src/color.cpp:182: error: (-215:Assertion failed) !_src.empty() in function 'cvtColor'\n",
      "\n",
      "error in airplane_434.jpg\n",
      "173 airplane_145.jpg\n"
     ]
    },
    {
     "name": "stderr",
     "output_type": "stream",
     "text": [
      "[ WARN:0@184.503] global /io/opencv/modules/imgcodecs/src/loadsave.cpp (239) findDecoder imread_('Images/airplane_427.jpg'): can't open/read file: check file path/integrity\n",
      "[ WARN:0@184.544] global /io/opencv/modules/imgcodecs/src/loadsave.cpp (239) findDecoder imread_('Images/airplane_576.jpg'): can't open/read file: check file path/integrity\n",
      "[ WARN:0@184.561] global /io/opencv/modules/imgcodecs/src/loadsave.cpp (239) findDecoder imread_('Images/airplane_658.jpg'): can't open/read file: check file path/integrity\n",
      "[ WARN:0@184.590] global /io/opencv/modules/imgcodecs/src/loadsave.cpp (239) findDecoder imread_('Images/airplane_434.jpg'): can't open/read file: check file path/integrity\n"
     ]
    },
    {
     "name": "stdout",
     "output_type": "stream",
     "text": [
      "174 airplane_034.jpg\n",
      "175 airplane_309.jpg\n",
      "176 airplane_555.jpg\n",
      "OpenCV(4.5.5) /io/opencv/modules/imgproc/src/color.cpp:182: error: (-215:Assertion failed) !_src.empty() in function 'cvtColor'\n",
      "\n",
      "error in airplane_555.jpg\n",
      "177 airplane_563.jpg\n",
      "OpenCV(4.5.5) /io/opencv/modules/imgproc/src/color.cpp:182: error: (-215:Assertion failed) !_src.empty() in function 'cvtColor'\n",
      "\n",
      "error in airplane_563.jpg\n",
      "178 airplane_456.jpg\n",
      "OpenCV(4.5.5) /io/opencv/modules/imgproc/src/color.cpp:182: error: (-215:Assertion failed) !_src.empty() in function 'cvtColor'\n",
      "\n",
      "error in airplane_456.jpg\n",
      "179 airplane_199.jpg\n"
     ]
    },
    {
     "name": "stderr",
     "output_type": "stream",
     "text": [
      "[ WARN:0@187.373] global /io/opencv/modules/imgcodecs/src/loadsave.cpp (239) findDecoder imread_('Images/airplane_555.jpg'): can't open/read file: check file path/integrity\n",
      "[ WARN:0@187.430] global /io/opencv/modules/imgcodecs/src/loadsave.cpp (239) findDecoder imread_('Images/airplane_563.jpg'): can't open/read file: check file path/integrity\n",
      "[ WARN:0@187.453] global /io/opencv/modules/imgcodecs/src/loadsave.cpp (239) findDecoder imread_('Images/airplane_456.jpg'): can't open/read file: check file path/integrity\n"
     ]
    },
    {
     "name": "stdout",
     "output_type": "stream",
     "text": [
      "inside\n",
      "180 airplane_640.jpg\n"
     ]
    },
    {
     "name": "stderr",
     "output_type": "stream",
     "text": [
      "[ WARN:0@188.112] global /io/opencv/modules/imgcodecs/src/loadsave.cpp (239) findDecoder imread_('Images/airplane_640.jpg'): can't open/read file: check file path/integrity\n"
     ]
    },
    {
     "name": "stdout",
     "output_type": "stream",
     "text": [
      "OpenCV(4.5.5) /io/opencv/modules/imgproc/src/color.cpp:182: error: (-215:Assertion failed) !_src.empty() in function 'cvtColor'\n",
      "\n",
      "error in airplane_640.jpg\n",
      "181 airplane_050.jpg\n",
      "182 airplane_664.jpg\n",
      "OpenCV(4.5.5) /io/opencv/modules/imgproc/src/color.cpp:182: error: (-215:Assertion failed) !_src.empty() in function 'cvtColor'\n",
      "\n",
      "error in airplane_664.jpg\n",
      "183 airplane_595.jpg\n",
      "OpenCV(4.5.5) /io/opencv/modules/imgproc/src/color.cpp:182: error: (-215:Assertion failed) !_src.empty() in function 'cvtColor'\n",
      "\n",
      "error in airplane_595.jpg\n",
      "184 airplane_060.jpg\n"
     ]
    },
    {
     "name": "stderr",
     "output_type": "stream",
     "text": [
      "[ WARN:0@189.517] global /io/opencv/modules/imgcodecs/src/loadsave.cpp (239) findDecoder imread_('Images/airplane_664.jpg'): can't open/read file: check file path/integrity\n",
      "[ WARN:0@189.554] global /io/opencv/modules/imgcodecs/src/loadsave.cpp (239) findDecoder imread_('Images/airplane_595.jpg'): can't open/read file: check file path/integrity\n"
     ]
    },
    {
     "name": "stdout",
     "output_type": "stream",
     "text": [
      "185 airplane_130.jpg\n",
      "186 airplane_581.jpg\n",
      "OpenCV(4.5.5) /io/opencv/modules/imgproc/src/color.cpp:182: error: (-215:Assertion failed) !_src.empty() in function 'cvtColor'\n",
      "\n",
      "error in airplane_581.jpg\n",
      "187 airplane_336.jpg\n"
     ]
    },
    {
     "name": "stderr",
     "output_type": "stream",
     "text": [
      "[ WARN:0@191.718] global /io/opencv/modules/imgcodecs/src/loadsave.cpp (239) findDecoder imread_('Images/airplane_581.jpg'): can't open/read file: check file path/integrity\n"
     ]
    },
    {
     "name": "stdout",
     "output_type": "stream",
     "text": [
      "188 airplane_337.jpg\n",
      "189 airplane_676.jpg\n",
      "OpenCV(4.5.5) /io/opencv/modules/imgproc/src/color.cpp:182: error: (-215:Assertion failed) !_src.empty() in function 'cvtColor'\n",
      "\n",
      "error in airplane_676.jpg\n",
      "190 airplane_618.jpg\n",
      "OpenCV(4.5.5) /io/opencv/modules/imgproc/src/color.cpp:182: error: (-215:Assertion failed) !_src.empty() in function 'cvtColor'\n",
      "\n",
      "error in airplane_618.jpg\n",
      "191 airplane_411.jpg\n"
     ]
    },
    {
     "name": "stderr",
     "output_type": "stream",
     "text": [
      "[ WARN:0@192.954] global /io/opencv/modules/imgcodecs/src/loadsave.cpp (239) findDecoder imread_('Images/airplane_676.jpg'): can't open/read file: check file path/integrity\n",
      "[ WARN:0@193.055] global /io/opencv/modules/imgcodecs/src/loadsave.cpp (239) findDecoder imread_('Images/airplane_618.jpg'): can't open/read file: check file path/integrity\n"
     ]
    },
    {
     "name": "stdout",
     "output_type": "stream",
     "text": [
      "192 airplane_371.jpg\n",
      "193 airplane_652.jpg\n",
      "OpenCV(4.5.5) /io/opencv/modules/imgproc/src/color.cpp:182: error: (-215:Assertion failed) !_src.empty() in function 'cvtColor'\n",
      "\n",
      "error in airplane_652.jpg\n",
      "194 airplane_363.jpg\n"
     ]
    },
    {
     "name": "stderr",
     "output_type": "stream",
     "text": [
      "[ WARN:0@194.917] global /io/opencv/modules/imgcodecs/src/loadsave.cpp (239) findDecoder imread_('Images/airplane_652.jpg'): can't open/read file: check file path/integrity\n"
     ]
    },
    {
     "name": "stdout",
     "output_type": "stream",
     "text": [
      "195 airplane_522.jpg\n",
      "OpenCV(4.5.5) /io/opencv/modules/imgproc/src/color.cpp:182: error: (-215:Assertion failed) !_src.empty() in function 'cvtColor'\n",
      "\n",
      "error in airplane_522.jpg\n",
      "196 airplane_029.jpg\n"
     ]
    },
    {
     "name": "stderr",
     "output_type": "stream",
     "text": [
      "[ WARN:0@195.929] global /io/opencv/modules/imgcodecs/src/loadsave.cpp (239) findDecoder imread_('Images/airplane_522.jpg'): can't open/read file: check file path/integrity\n"
     ]
    },
    {
     "name": "stdout",
     "output_type": "stream",
     "text": [
      "197 airplane_331.jpg\n",
      "198 airplane_376.jpg\n",
      "199 airplane_005.jpg\n",
      "inside\n",
      "200 airplane_515.jpg\n"
     ]
    },
    {
     "name": "stderr",
     "output_type": "stream",
     "text": [
      "[ WARN:0@198.947] global /io/opencv/modules/imgcodecs/src/loadsave.cpp (239) findDecoder imread_('Images/airplane_515.jpg'): can't open/read file: check file path/integrity\n"
     ]
    },
    {
     "name": "stdout",
     "output_type": "stream",
     "text": [
      "OpenCV(4.5.5) /io/opencv/modules/imgproc/src/color.cpp:182: error: (-215:Assertion failed) !_src.empty() in function 'cvtColor'\n",
      "\n",
      "error in airplane_515.jpg\n",
      "201 airplane_174.jpg\n",
      "202 airplane_431.jpg\n"
     ]
    },
    {
     "name": "stderr",
     "output_type": "stream",
     "text": [
      "[ WARN:0@200.042] global /io/opencv/modules/imgcodecs/src/loadsave.cpp (239) findDecoder imread_('Images/airplane_431.jpg'): can't open/read file: check file path/integrity\n"
     ]
    },
    {
     "name": "stdout",
     "output_type": "stream",
     "text": [
      "OpenCV(4.5.5) /io/opencv/modules/imgproc/src/color.cpp:182: error: (-215:Assertion failed) !_src.empty() in function 'cvtColor'\n",
      "\n",
      "error in airplane_431.jpg\n",
      "204 airplane_593.jpg\n"
     ]
    },
    {
     "name": "stderr",
     "output_type": "stream",
     "text": [
      "[ WARN:0@201.936] global /io/opencv/modules/imgcodecs/src/loadsave.cpp (239) findDecoder imread_('Images/airplane_593.jpg'): can't open/read file: check file path/integrity\n"
     ]
    },
    {
     "name": "stdout",
     "output_type": "stream",
     "text": [
      "OpenCV(4.5.5) /io/opencv/modules/imgproc/src/color.cpp:182: error: (-215:Assertion failed) !_src.empty() in function 'cvtColor'\n",
      "\n",
      "error in airplane_593.jpg\n",
      "205 airplane_553.jpg\n"
     ]
    },
    {
     "name": "stderr",
     "output_type": "stream",
     "text": [
      "[ WARN:0@202.834] global /io/opencv/modules/imgcodecs/src/loadsave.cpp (239) findDecoder imread_('Images/airplane_553.jpg'): can't open/read file: check file path/integrity\n"
     ]
    },
    {
     "name": "stdout",
     "output_type": "stream",
     "text": [
      "OpenCV(4.5.5) /io/opencv/modules/imgproc/src/color.cpp:182: error: (-215:Assertion failed) !_src.empty() in function 'cvtColor'\n",
      "\n",
      "error in airplane_553.jpg\n",
      "206 airplane_541.jpg\n"
     ]
    },
    {
     "name": "stderr",
     "output_type": "stream",
     "text": [
      "[ WARN:0@203.294] global /io/opencv/modules/imgcodecs/src/loadsave.cpp (239) findDecoder imread_('Images/airplane_541.jpg'): can't open/read file: check file path/integrity\n"
     ]
    },
    {
     "name": "stdout",
     "output_type": "stream",
     "text": [
      "OpenCV(4.5.5) /io/opencv/modules/imgproc/src/color.cpp:182: error: (-215:Assertion failed) !_src.empty() in function 'cvtColor'\n",
      "\n",
      "error in airplane_541.jpg\n",
      "207 airplane_467.jpg\n",
      "OpenCV(4.5.5) /io/opencv/modules/imgproc/src/color.cpp:182: error: (-215:Assertion failed) !_src.empty() in function 'cvtColor'\n",
      "\n",
      "error in airplane_467.jpg\n",
      "208 airplane_018.jpg\n"
     ]
    },
    {
     "name": "stderr",
     "output_type": "stream",
     "text": [
      "[ WARN:0@203.575] global /io/opencv/modules/imgcodecs/src/loadsave.cpp (239) findDecoder imread_('Images/airplane_467.jpg'): can't open/read file: check file path/integrity\n"
     ]
    },
    {
     "name": "stdout",
     "output_type": "stream",
     "text": [
      "209 airplane_352.jpg\n",
      "210 airplane_276.jpg\n",
      "inside\n",
      "211 airplane_157.jpg\n",
      "212 airplane_651.jpg\n",
      "OpenCV(4.5.5) /io/opencv/modules/imgproc/src/color.cpp:182: error: (-215:Assertion failed) !_src.empty() in function 'cvtColor'\n",
      "\n",
      "error in airplane_651.jpg\n",
      "214 airplane_115.jpg\n"
     ]
    },
    {
     "name": "stderr",
     "output_type": "stream",
     "text": [
      "[ WARN:0@205.974] global /io/opencv/modules/imgcodecs/src/loadsave.cpp (239) findDecoder imread_('Images/airplane_651.jpg'): can't open/read file: check file path/integrity\n"
     ]
    },
    {
     "name": "stdout",
     "output_type": "stream",
     "text": [
      "215 airplane_661.jpg\n"
     ]
    },
    {
     "name": "stderr",
     "output_type": "stream",
     "text": [
      "[ WARN:0@208.083] global /io/opencv/modules/imgcodecs/src/loadsave.cpp (239) findDecoder imread_('Images/airplane_661.jpg'): can't open/read file: check file path/integrity\n"
     ]
    },
    {
     "name": "stdout",
     "output_type": "stream",
     "text": [
      "OpenCV(4.5.5) /io/opencv/modules/imgproc/src/color.cpp:182: error: (-215:Assertion failed) !_src.empty() in function 'cvtColor'\n",
      "\n",
      "error in airplane_661.jpg\n",
      "216 airplane_650.jpg\n",
      "OpenCV(4.5.5) /io/opencv/modules/imgproc/src/color.cpp:182: error: (-215:Assertion failed) !_src.empty() in function 'cvtColor'\n",
      "\n",
      "error in airplane_650.jpg\n",
      "217 airplane_422.jpg\n"
     ]
    },
    {
     "name": "stderr",
     "output_type": "stream",
     "text": [
      "[ WARN:0@208.531] global /io/opencv/modules/imgcodecs/src/loadsave.cpp (239) findDecoder imread_('Images/airplane_650.jpg'): can't open/read file: check file path/integrity\n",
      "[ WARN:0@208.719] global /io/opencv/modules/imgcodecs/src/loadsave.cpp (239) findDecoder imread_('Images/airplane_422.jpg'): can't open/read file: check file path/integrity\n"
     ]
    },
    {
     "name": "stdout",
     "output_type": "stream",
     "text": [
      "OpenCV(4.5.5) /io/opencv/modules/imgproc/src/color.cpp:182: error: (-215:Assertion failed) !_src.empty() in function 'cvtColor'\n",
      "\n",
      "error in airplane_422.jpg\n",
      "218 airplane_001.jpg\n",
      "inside\n",
      "219 airplane_483.jpg\n"
     ]
    },
    {
     "name": "stderr",
     "output_type": "stream",
     "text": [
      "[ WARN:0@209.565] global /io/opencv/modules/imgcodecs/src/loadsave.cpp (239) findDecoder imread_('Images/airplane_483.jpg'): can't open/read file: check file path/integrity\n"
     ]
    },
    {
     "name": "stdout",
     "output_type": "stream",
     "text": [
      "OpenCV(4.5.5) /io/opencv/modules/imgproc/src/color.cpp:182: error: (-215:Assertion failed) !_src.empty() in function 'cvtColor'\n",
      "\n",
      "error in airplane_483.jpg\n",
      "220 airplane_480.jpg\n",
      "OpenCV(4.5.5) /io/opencv/modules/imgproc/src/color.cpp:182: error: (-215:Assertion failed) !_src.empty() in function 'cvtColor'\n",
      "\n",
      "error in airplane_480.jpg\n",
      "221 airplane_054.jpg\n"
     ]
    },
    {
     "name": "stderr",
     "output_type": "stream",
     "text": [
      "[ WARN:0@211.536] global /io/opencv/modules/imgcodecs/src/loadsave.cpp (239) findDecoder imread_('Images/airplane_480.jpg'): can't open/read file: check file path/integrity\n"
     ]
    },
    {
     "name": "stdout",
     "output_type": "stream",
     "text": [
      "222 airplane_304.jpg\n",
      "223 airplane_162.jpg\n",
      "224 airplane_334.jpg\n",
      "225 airplane_267.jpg\n",
      "226 airplane_579.jpg\n",
      "OpenCV(4.5.5) /io/opencv/modules/imgproc/src/color.cpp:182: error: (-215:Assertion failed) !_src.empty() in function 'cvtColor'\n",
      "\n",
      "error in airplane_579.jpg\n",
      "227 airplane_011.jpg\n"
     ]
    },
    {
     "name": "stderr",
     "output_type": "stream",
     "text": [
      "[ WARN:0@217.510] global /io/opencv/modules/imgcodecs/src/loadsave.cpp (239) findDecoder imread_('Images/airplane_579.jpg'): can't open/read file: check file path/integrity\n"
     ]
    },
    {
     "name": "stdout",
     "output_type": "stream",
     "text": [
      "228 airplane_200.jpg\n",
      "229 airplane_202.jpg\n",
      "230 airplane_470.jpg\n"
     ]
    },
    {
     "name": "stderr",
     "output_type": "stream",
     "text": [
      "[ WARN:0@221.852] global /io/opencv/modules/imgcodecs/src/loadsave.cpp (239) findDecoder imread_('Images/airplane_470.jpg'): can't open/read file: check file path/integrity\n"
     ]
    },
    {
     "name": "stdout",
     "output_type": "stream",
     "text": [
      "OpenCV(4.5.5) /io/opencv/modules/imgproc/src/color.cpp:182: error: (-215:Assertion failed) !_src.empty() in function 'cvtColor'\n",
      "\n",
      "error in airplane_470.jpg\n",
      "231 airplane_506.jpg\n"
     ]
    },
    {
     "name": "stderr",
     "output_type": "stream",
     "text": [
      "[ WARN:0@222.874] global /io/opencv/modules/imgcodecs/src/loadsave.cpp (239) findDecoder imread_('Images/airplane_506.jpg'): can't open/read file: check file path/integrity\n"
     ]
    },
    {
     "name": "stdout",
     "output_type": "stream",
     "text": [
      "OpenCV(4.5.5) /io/opencv/modules/imgproc/src/color.cpp:182: error: (-215:Assertion failed) !_src.empty() in function 'cvtColor'\n",
      "\n",
      "error in airplane_506.jpg\n",
      "232 airplane_116.jpg\n",
      "233 airplane_666.jpg\n",
      "OpenCV(4.5.5) /io/opencv/modules/imgproc/src/color.cpp:182: error: (-215:Assertion failed) !_src.empty() in function 'cvtColor'\n",
      "\n",
      "error in airplane_666.jpg\n",
      "234 airplane_503.jpg\n"
     ]
    },
    {
     "name": "stderr",
     "output_type": "stream",
     "text": [
      "[ WARN:0@225.461] global /io/opencv/modules/imgcodecs/src/loadsave.cpp (239) findDecoder imread_('Images/airplane_666.jpg'): can't open/read file: check file path/integrity\n",
      "[ WARN:0@225.535] global /io/opencv/modules/imgcodecs/src/loadsave.cpp (239) findDecoder imread_('Images/airplane_503.jpg'): can't open/read file: check file path/integrity\n"
     ]
    },
    {
     "name": "stdout",
     "output_type": "stream",
     "text": [
      "OpenCV(4.5.5) /io/opencv/modules/imgproc/src/color.cpp:182: error: (-215:Assertion failed) !_src.empty() in function 'cvtColor'\n",
      "\n",
      "error in airplane_503.jpg\n",
      "235 airplane_457.jpg\n"
     ]
    },
    {
     "name": "stderr",
     "output_type": "stream",
     "text": [
      "[ WARN:0@225.784] global /io/opencv/modules/imgcodecs/src/loadsave.cpp (239) findDecoder imread_('Images/airplane_457.jpg'): can't open/read file: check file path/integrity\n"
     ]
    },
    {
     "name": "stdout",
     "output_type": "stream",
     "text": [
      "OpenCV(4.5.5) /io/opencv/modules/imgproc/src/color.cpp:182: error: (-215:Assertion failed) !_src.empty() in function 'cvtColor'\n",
      "\n",
      "error in airplane_457.jpg\n",
      "236 airplane_333.jpg\n",
      "237 airplane_086.jpg\n",
      "238 airplane_185.jpg\n",
      "239 airplane_353.jpg\n",
      "240 airplane_635.jpg\n"
     ]
    },
    {
     "name": "stderr",
     "output_type": "stream",
     "text": [
      "[ WARN:0@233.397] global /io/opencv/modules/imgcodecs/src/loadsave.cpp (239) findDecoder imread_('Images/airplane_635.jpg'): can't open/read file: check file path/integrity\n"
     ]
    },
    {
     "name": "stdout",
     "output_type": "stream",
     "text": [
      "OpenCV(4.5.5) /io/opencv/modules/imgproc/src/color.cpp:182: error: (-215:Assertion failed) !_src.empty() in function 'cvtColor'\n",
      "\n",
      "error in airplane_635.jpg\n",
      "241 airplane_624.jpg\n",
      "OpenCV(4.5.5) /io/opencv/modules/imgproc/src/color.cpp:182: error: (-215:Assertion failed) !_src.empty() in function 'cvtColor'\n",
      "\n",
      "error in airplane_624.jpg\n",
      "242 airplane_524.jpg\n"
     ]
    },
    {
     "name": "stderr",
     "output_type": "stream",
     "text": [
      "[ WARN:0@236.069] global /io/opencv/modules/imgcodecs/src/loadsave.cpp (239) findDecoder imread_('Images/airplane_624.jpg'): can't open/read file: check file path/integrity\n",
      "[ WARN:0@236.073] global /io/opencv/modules/imgcodecs/src/loadsave.cpp (239) findDecoder imread_('Images/airplane_524.jpg'): can't open/read file: check file path/integrity\n"
     ]
    },
    {
     "name": "stdout",
     "output_type": "stream",
     "text": [
      "OpenCV(4.5.5) /io/opencv/modules/imgproc/src/color.cpp:182: error: (-215:Assertion failed) !_src.empty() in function 'cvtColor'\n",
      "\n",
      "error in airplane_524.jpg\n",
      "243 airplane_601.jpg\n"
     ]
    },
    {
     "name": "stderr",
     "output_type": "stream",
     "text": [
      "[ WARN:0@237.276] global /io/opencv/modules/imgcodecs/src/loadsave.cpp (239) findDecoder imread_('Images/airplane_601.jpg'): can't open/read file: check file path/integrity\n"
     ]
    },
    {
     "name": "stdout",
     "output_type": "stream",
     "text": [
      "OpenCV(4.5.5) /io/opencv/modules/imgproc/src/color.cpp:182: error: (-215:Assertion failed) !_src.empty() in function 'cvtColor'\n",
      "\n",
      "error in airplane_601.jpg\n",
      "244 airplane_366.jpg\n",
      "245 airplane_454.jpg\n",
      "OpenCV(4.5.5) /io/opencv/modules/imgproc/src/color.cpp:182: error: (-215:Assertion failed) !_src.empty() in function 'cvtColor'\n",
      "\n",
      "error in airplane_454.jpg\n",
      "246 airplane_160.jpg\n"
     ]
    },
    {
     "name": "stderr",
     "output_type": "stream",
     "text": [
      "[ WARN:0@238.184] global /io/opencv/modules/imgcodecs/src/loadsave.cpp (239) findDecoder imread_('Images/airplane_454.jpg'): can't open/read file: check file path/integrity\n"
     ]
    },
    {
     "name": "stdout",
     "output_type": "stream",
     "text": [
      "247 airplane_215.jpg\n",
      "248 airplane_472.jpg\n"
     ]
    },
    {
     "name": "stderr",
     "output_type": "stream",
     "text": [
      "[ WARN:0@240.225] global /io/opencv/modules/imgcodecs/src/loadsave.cpp (239) findDecoder imread_('Images/airplane_472.jpg'): can't open/read file: check file path/integrity\n"
     ]
    },
    {
     "name": "stdout",
     "output_type": "stream",
     "text": [
      "OpenCV(4.5.5) /io/opencv/modules/imgproc/src/color.cpp:182: error: (-215:Assertion failed) !_src.empty() in function 'cvtColor'\n",
      "\n",
      "error in airplane_472.jpg\n",
      "249 airplane_678.jpg\n"
     ]
    },
    {
     "name": "stderr",
     "output_type": "stream",
     "text": [
      "[ WARN:0@241.353] global /io/opencv/modules/imgcodecs/src/loadsave.cpp (239) findDecoder imread_('Images/airplane_678.jpg'): can't open/read file: check file path/integrity\n"
     ]
    },
    {
     "name": "stdout",
     "output_type": "stream",
     "text": [
      "OpenCV(4.5.5) /io/opencv/modules/imgproc/src/color.cpp:182: error: (-215:Assertion failed) !_src.empty() in function 'cvtColor'\n",
      "\n",
      "error in airplane_678.jpg\n",
      "250 airplane_327.jpg\n",
      "251 airplane_216.jpg\n",
      "252 airplane_079.jpg\n",
      "253 airplane_073.jpg\n",
      "254 airplane_697.jpg\n",
      "OpenCV(4.5.5) /io/opencv/modules/imgproc/src/color.cpp:182: error: (-215:Assertion failed) !_src.empty() in function 'cvtColor'\n",
      "\n",
      "error in airplane_697.jpg\n",
      "255 airplane_074.jpg\n"
     ]
    },
    {
     "name": "stderr",
     "output_type": "stream",
     "text": [
      "[ WARN:0@247.423] global /io/opencv/modules/imgcodecs/src/loadsave.cpp (239) findDecoder imread_('Images/airplane_697.jpg'): can't open/read file: check file path/integrity\n"
     ]
    },
    {
     "name": "stdout",
     "output_type": "stream",
     "text": [
      "256 airplane_700.jpg\n"
     ]
    },
    {
     "name": "stderr",
     "output_type": "stream",
     "text": [
      "[ WARN:0@248.593] global /io/opencv/modules/imgcodecs/src/loadsave.cpp (239) findDecoder imread_('Images/airplane_700.jpg'): can't open/read file: check file path/integrity\n"
     ]
    },
    {
     "name": "stdout",
     "output_type": "stream",
     "text": [
      "OpenCV(4.5.5) /io/opencv/modules/imgproc/src/color.cpp:182: error: (-215:Assertion failed) !_src.empty() in function 'cvtColor'\n",
      "\n",
      "error in airplane_700.jpg\n",
      "257 airplane_590.jpg\n"
     ]
    },
    {
     "name": "stderr",
     "output_type": "stream",
     "text": [
      "[ WARN:0@248.795] global /io/opencv/modules/imgcodecs/src/loadsave.cpp (239) findDecoder imread_('Images/airplane_590.jpg'): can't open/read file: check file path/integrity\n"
     ]
    },
    {
     "name": "stdout",
     "output_type": "stream",
     "text": [
      "OpenCV(4.5.5) /io/opencv/modules/imgproc/src/color.cpp:182: error: (-215:Assertion failed) !_src.empty() in function 'cvtColor'\n",
      "\n",
      "error in airplane_590.jpg\n",
      "258 airplane_176.jpg\n",
      "259 airplane_008.jpg\n",
      "260 airplane_451.jpg\n"
     ]
    },
    {
     "name": "stderr",
     "output_type": "stream",
     "text": [
      "[ WARN:0@256.469] global /io/opencv/modules/imgcodecs/src/loadsave.cpp (239) findDecoder imread_('Images/airplane_451.jpg'): can't open/read file: check file path/integrity\n"
     ]
    },
    {
     "name": "stdout",
     "output_type": "stream",
     "text": [
      "OpenCV(4.5.5) /io/opencv/modules/imgproc/src/color.cpp:182: error: (-215:Assertion failed) !_src.empty() in function 'cvtColor'\n",
      "\n",
      "error in airplane_451.jpg\n",
      "261 airplane_087.jpg\n",
      "262 airplane_547.jpg\n"
     ]
    },
    {
     "name": "stderr",
     "output_type": "stream",
     "text": [
      "[ WARN:0@259.593] global /io/opencv/modules/imgcodecs/src/loadsave.cpp (239) findDecoder imread_('Images/airplane_547.jpg'): can't open/read file: check file path/integrity\n"
     ]
    },
    {
     "name": "stdout",
     "output_type": "stream",
     "text": [
      "OpenCV(4.5.5) /io/opencv/modules/imgproc/src/color.cpp:182: error: (-215:Assertion failed) !_src.empty() in function 'cvtColor'\n",
      "\n",
      "error in airplane_547.jpg\n",
      "263 airplane_548.jpg\n",
      "OpenCV(4.5.5) /io/opencv/modules/imgproc/src/color.cpp:182: error: (-215:Assertion failed) !_src.empty() in function 'cvtColor'\n",
      "\n",
      "error in airplane_548.jpg\n",
      "264 airplane_379.jpg\n"
     ]
    },
    {
     "name": "stderr",
     "output_type": "stream",
     "text": [
      "[ WARN:0@260.778] global /io/opencv/modules/imgcodecs/src/loadsave.cpp (239) findDecoder imread_('Images/airplane_548.jpg'): can't open/read file: check file path/integrity\n"
     ]
    },
    {
     "name": "stdout",
     "output_type": "stream",
     "text": [
      "265 airplane_346.jpg\n",
      "266 airplane_623.jpg\n",
      "OpenCV(4.5.5) /io/opencv/modules/imgproc/src/color.cpp:182: error: (-215:Assertion failed) !_src.empty() in function 'cvtColor'\n",
      "\n",
      "error in airplane_623.jpg\n",
      "268 airplane_367.jpg\n"
     ]
    },
    {
     "name": "stderr",
     "output_type": "stream",
     "text": [
      "[ WARN:0@264.729] global /io/opencv/modules/imgcodecs/src/loadsave.cpp (239) findDecoder imread_('Images/airplane_623.jpg'): can't open/read file: check file path/integrity\n"
     ]
    },
    {
     "name": "stdout",
     "output_type": "stream",
     "text": [
      "269 airplane_128.jpg\n",
      "270 airplane_240.jpg\n",
      "271 airplane_443.jpg\n"
     ]
    },
    {
     "name": "stderr",
     "output_type": "stream",
     "text": [
      "[ WARN:0@267.510] global /io/opencv/modules/imgcodecs/src/loadsave.cpp (239) findDecoder imread_('Images/airplane_443.jpg'): can't open/read file: check file path/integrity\n"
     ]
    },
    {
     "name": "stdout",
     "output_type": "stream",
     "text": [
      "OpenCV(4.5.5) /io/opencv/modules/imgproc/src/color.cpp:182: error: (-215:Assertion failed) !_src.empty() in function 'cvtColor'\n",
      "\n",
      "error in airplane_443.jpg\n",
      "272 airplane_190.jpg\n",
      "inside\n",
      "273 airplane_690.jpg\n",
      "OpenCV(4.5.5) /io/opencv/modules/imgproc/src/color.cpp:182: error: (-215:Assertion failed) !_src.empty() in function 'cvtColor'\n",
      "\n",
      "error in airplane_690.jpg\n",
      "274 airplane_272.jpg\n"
     ]
    },
    {
     "name": "stderr",
     "output_type": "stream",
     "text": [
      "[ WARN:0@268.773] global /io/opencv/modules/imgcodecs/src/loadsave.cpp (239) findDecoder imread_('Images/airplane_690.jpg'): can't open/read file: check file path/integrity\n"
     ]
    },
    {
     "name": "stdout",
     "output_type": "stream",
     "text": [
      "275 airplane_659.jpg\n",
      "OpenCV(4.5.5) /io/opencv/modules/imgproc/src/color.cpp:182: error: (-215:Assertion failed) !_src.empty() in function 'cvtColor'\n",
      "\n",
      "error in airplane_659.jpg\n",
      "276 airplane_181.jpg\n"
     ]
    },
    {
     "name": "stderr",
     "output_type": "stream",
     "text": [
      "[ WARN:0@269.510] global /io/opencv/modules/imgcodecs/src/loadsave.cpp (239) findDecoder imread_('Images/airplane_659.jpg'): can't open/read file: check file path/integrity\n"
     ]
    },
    {
     "name": "stdout",
     "output_type": "stream",
     "text": [
      "277 airplane_365.jpg\n",
      "278 airplane_490.jpg\n",
      "OpenCV(4.5.5) /io/opencv/modules/imgproc/src/color.cpp:182: error: (-215:Assertion failed) !_src.empty() in function 'cvtColor'\n",
      "\n",
      "error in airplane_490.jpg\n",
      "279 airplane_058.jpg\n"
     ]
    },
    {
     "name": "stderr",
     "output_type": "stream",
     "text": [
      "[ WARN:0@271.620] global /io/opencv/modules/imgcodecs/src/loadsave.cpp (239) findDecoder imread_('Images/airplane_490.jpg'): can't open/read file: check file path/integrity\n"
     ]
    },
    {
     "name": "stdout",
     "output_type": "stream",
     "text": [
      "280 airplane_494.jpg\n",
      "OpenCV(4.5.5) /io/opencv/modules/imgproc/src/color.cpp:182: error: (-215:Assertion failed) !_src.empty() in function 'cvtColor'\n",
      "\n",
      "error in airplane_494.jpg\n",
      "281 airplane_089.jpg\n"
     ]
    },
    {
     "name": "stderr",
     "output_type": "stream",
     "text": [
      "[ WARN:0@272.492] global /io/opencv/modules/imgcodecs/src/loadsave.cpp (239) findDecoder imread_('Images/airplane_494.jpg'): can't open/read file: check file path/integrity\n"
     ]
    },
    {
     "name": "stdout",
     "output_type": "stream",
     "text": [
      "282 airplane_255.jpg\n",
      "283 airplane_175.jpg\n",
      "284 airplane_330.jpg\n",
      "285 airplane_093.jpg\n",
      "286 airplane_278.jpg\n",
      "287 airplane_063.jpg\n",
      "288 airplane_602.jpg\n",
      "OpenCV(4.5.5) /io/opencv/modules/imgproc/src/color.cpp:182: error: (-215:Assertion failed) !_src.empty() in function 'cvtColor'\n",
      "\n",
      "error in airplane_602.jpg\n",
      "289 airplane_010.jpg\n"
     ]
    },
    {
     "name": "stderr",
     "output_type": "stream",
     "text": [
      "[ WARN:0@279.072] global /io/opencv/modules/imgcodecs/src/loadsave.cpp (239) findDecoder imread_('Images/airplane_602.jpg'): can't open/read file: check file path/integrity\n"
     ]
    },
    {
     "name": "stdout",
     "output_type": "stream",
     "text": [
      "290 airplane_528.jpg\n",
      "OpenCV(4.5.5) /io/opencv/modules/imgproc/src/color.cpp:182: error: (-215:Assertion failed) !_src.empty() in function 'cvtColor'\n",
      "\n",
      "error in airplane_528.jpg\n",
      "291 airplane_254.jpg\n"
     ]
    },
    {
     "name": "stderr",
     "output_type": "stream",
     "text": [
      "[ WARN:0@279.893] global /io/opencv/modules/imgcodecs/src/loadsave.cpp (239) findDecoder imread_('Images/airplane_528.jpg'): can't open/read file: check file path/integrity\n"
     ]
    },
    {
     "name": "stdout",
     "output_type": "stream",
     "text": [
      "292 airplane_045.jpg\n",
      "inside\n",
      "293 airplane_191.jpg\n",
      "294 airplane_570.jpg\n",
      "OpenCV(4.5.5) /io/opencv/modules/imgproc/src/color.cpp:182: error: (-215:Assertion failed) !_src.empty() in function 'cvtColor'\n",
      "\n",
      "error in airplane_570.jpg\n",
      "295 airplane_532.jpg\n",
      "OpenCV(4.5.5) /io/opencv/modules/imgproc/src/color.cpp:182: error: (-215:Assertion failed) !_src.empty() in function 'cvtColor'\n",
      "\n",
      "error in airplane_532.jpg\n",
      "296 airplane_372.jpg\n"
     ]
    },
    {
     "name": "stderr",
     "output_type": "stream",
     "text": [
      "[ WARN:0@282.524] global /io/opencv/modules/imgcodecs/src/loadsave.cpp (239) findDecoder imread_('Images/airplane_570.jpg'): can't open/read file: check file path/integrity\n",
      "[ WARN:0@282.527] global /io/opencv/modules/imgcodecs/src/loadsave.cpp (239) findDecoder imread_('Images/airplane_532.jpg'): can't open/read file: check file path/integrity\n"
     ]
    },
    {
     "name": "stdout",
     "output_type": "stream",
     "text": [
      "297 airplane_393.jpg\n",
      "298 airplane_357.jpg\n",
      "299 airplane_350.jpg\n",
      "301 airplane_189.jpg\n",
      "302 airplane_382.jpg\n",
      "inside\n",
      "303 airplane_064.jpg\n",
      "304 airplane_142.jpg\n",
      "305 airplane_681.jpg\n"
     ]
    },
    {
     "name": "stderr",
     "output_type": "stream",
     "text": [
      "[ WARN:0@295.510] global /io/opencv/modules/imgcodecs/src/loadsave.cpp (239) findDecoder imread_('Images/airplane_681.jpg'): can't open/read file: check file path/integrity\n"
     ]
    },
    {
     "name": "stdout",
     "output_type": "stream",
     "text": [
      "OpenCV(4.5.5) /io/opencv/modules/imgproc/src/color.cpp:182: error: (-215:Assertion failed) !_src.empty() in function 'cvtColor'\n",
      "\n",
      "error in airplane_681.jpg\n",
      "306 airplane_377.jpg\n",
      "inside\n",
      "307 airplane_256.jpg\n",
      "308 airplane_017.jpg\n",
      "309 airplane_428.jpg\n"
     ]
    },
    {
     "name": "stderr",
     "output_type": "stream",
     "text": [
      "[ WARN:0@303.844] global /io/opencv/modules/imgcodecs/src/loadsave.cpp (239) findDecoder imread_('Images/airplane_428.jpg'): can't open/read file: check file path/integrity\n"
     ]
    },
    {
     "name": "stdout",
     "output_type": "stream",
     "text": [
      "OpenCV(4.5.5) /io/opencv/modules/imgproc/src/color.cpp:182: error: (-215:Assertion failed) !_src.empty() in function 'cvtColor'\n",
      "\n",
      "error in airplane_428.jpg\n",
      "310 airplane_482.jpg\n"
     ]
    },
    {
     "name": "stderr",
     "output_type": "stream",
     "text": [
      "[ WARN:0@306.224] global /io/opencv/modules/imgcodecs/src/loadsave.cpp (239) findDecoder imread_('Images/airplane_482.jpg'): can't open/read file: check file path/integrity\n"
     ]
    },
    {
     "name": "stdout",
     "output_type": "stream",
     "text": [
      "OpenCV(4.5.5) /io/opencv/modules/imgproc/src/color.cpp:182: error: (-215:Assertion failed) !_src.empty() in function 'cvtColor'\n",
      "\n",
      "error in airplane_482.jpg\n",
      "311 airplane_682.jpg\n"
     ]
    },
    {
     "name": "stderr",
     "output_type": "stream",
     "text": [
      "[ WARN:0@306.776] global /io/opencv/modules/imgcodecs/src/loadsave.cpp (239) findDecoder imread_('Images/airplane_682.jpg'): can't open/read file: check file path/integrity\n"
     ]
    },
    {
     "name": "stdout",
     "output_type": "stream",
     "text": [
      "OpenCV(4.5.5) /io/opencv/modules/imgproc/src/color.cpp:182: error: (-215:Assertion failed) !_src.empty() in function 'cvtColor'\n",
      "\n",
      "error in airplane_682.jpg\n",
      "312 airplane_332.jpg\n",
      "inside\n",
      "313 airplane_226.jpg\n",
      "314 airplane_592.jpg\n",
      "OpenCV(4.5.5) /io/opencv/modules/imgproc/src/color.cpp:182: error: (-215:Assertion failed) !_src.empty() in function 'cvtColor'\n",
      "\n",
      "error in airplane_592.jpg\n",
      "315 airplane_134.jpg\n"
     ]
    },
    {
     "name": "stderr",
     "output_type": "stream",
     "text": [
      "[ WARN:0@312.509] global /io/opencv/modules/imgcodecs/src/loadsave.cpp (239) findDecoder imread_('Images/airplane_592.jpg'): can't open/read file: check file path/integrity\n"
     ]
    },
    {
     "name": "stdout",
     "output_type": "stream",
     "text": [
      "316 airplane_285.jpg\n",
      "317 airplane_091.jpg\n",
      "318 airplane_178.jpg\n",
      "319 airplane_354.jpg\n",
      "320 airplane_384.jpg\n",
      "321 airplane_105.jpg\n",
      "322 airplane_234.jpg\n",
      "323 airplane_248.jpg\n",
      "324 airplane_401.jpg\n",
      "325 airplane_188.jpg\n",
      "327 airplane_027.jpg\n",
      "328 airplane_144.jpg\n",
      "329 airplane_301.jpg\n",
      "inside\n",
      "330 airplane_020.jpg\n",
      "331 airplane_545.jpg\n"
     ]
    },
    {
     "name": "stderr",
     "output_type": "stream",
     "text": [
      "[ WARN:0@326.510] global /io/opencv/modules/imgcodecs/src/loadsave.cpp (239) findDecoder imread_('Images/airplane_545.jpg'): can't open/read file: check file path/integrity\n"
     ]
    },
    {
     "name": "stdout",
     "output_type": "stream",
     "text": [
      "OpenCV(4.5.5) /io/opencv/modules/imgproc/src/color.cpp:182: error: (-215:Assertion failed) !_src.empty() in function 'cvtColor'\n",
      "\n",
      "error in airplane_545.jpg\n",
      "332 airplane_201.jpg\n",
      "333 airplane_095.jpg\n",
      "334 airplane_110.jpg\n",
      "335 airplane_302.jpg\n",
      "337 airplane_573.jpg\n"
     ]
    },
    {
     "name": "stderr",
     "output_type": "stream",
     "text": [
      "[ WARN:0@332.363] global /io/opencv/modules/imgcodecs/src/loadsave.cpp (239) findDecoder imread_('Images/airplane_573.jpg'): can't open/read file: check file path/integrity\n"
     ]
    },
    {
     "name": "stdout",
     "output_type": "stream",
     "text": [
      "OpenCV(4.5.5) /io/opencv/modules/imgproc/src/color.cpp:182: error: (-215:Assertion failed) !_src.empty() in function 'cvtColor'\n",
      "\n",
      "error in airplane_573.jpg\n",
      "338 airplane_603.jpg\n",
      "OpenCV(4.5.5) /io/opencv/modules/imgproc/src/color.cpp:182: error: (-215:Assertion failed) !_src.empty() in function 'cvtColor'\n",
      "\n",
      "error in airplane_603.jpg\n",
      "339 airplane_208.jpg\n"
     ]
    },
    {
     "name": "stderr",
     "output_type": "stream",
     "text": [
      "[ WARN:0@332.679] global /io/opencv/modules/imgcodecs/src/loadsave.cpp (239) findDecoder imread_('Images/airplane_603.jpg'): can't open/read file: check file path/integrity\n"
     ]
    },
    {
     "name": "stdout",
     "output_type": "stream",
     "text": [
      "340 airplane_405.jpg\n",
      "341 airplane_121.jpg\n",
      "inside\n",
      "342 airplane_653.jpg\n"
     ]
    },
    {
     "name": "stderr",
     "output_type": "stream",
     "text": [
      "[ WARN:0@336.612] global /io/opencv/modules/imgcodecs/src/loadsave.cpp (239) findDecoder imread_('Images/airplane_653.jpg'): can't open/read file: check file path/integrity\n"
     ]
    },
    {
     "name": "stdout",
     "output_type": "stream",
     "text": [
      "OpenCV(4.5.5) /io/opencv/modules/imgproc/src/color.cpp:182: error: (-215:Assertion failed) !_src.empty() in function 'cvtColor'\n",
      "\n",
      "error in airplane_653.jpg\n",
      "343 airplane_232.jpg\n",
      "344 airplane_362.jpg\n",
      "inside\n",
      "345 airplane_062.jpg\n",
      "inside\n",
      "346 airplane_566.jpg\n",
      "OpenCV(4.5.5) /io/opencv/modules/imgproc/src/color.cpp:182: error: (-215:Assertion failed) !_src.empty() in function 'cvtColor'\n",
      "\n",
      "error in airplane_566.jpg\n",
      "347 airplane_389.jpg\n"
     ]
    },
    {
     "name": "stderr",
     "output_type": "stream",
     "text": [
      "[ WARN:0@341.062] global /io/opencv/modules/imgcodecs/src/loadsave.cpp (239) findDecoder imread_('Images/airplane_566.jpg'): can't open/read file: check file path/integrity\n"
     ]
    },
    {
     "name": "stdout",
     "output_type": "stream",
     "text": [
      "348 airplane_468.jpg\n",
      "OpenCV(4.5.5) /io/opencv/modules/imgproc/src/color.cpp:182: error: (-215:Assertion failed) !_src.empty() in function 'cvtColor'\n",
      "\n",
      "error in airplane_468.jpg\n",
      "349 airplane_551.jpg\n",
      "OpenCV(4.5.5) /io/opencv/modules/imgproc/src/color.cpp:182: error: (-215:Assertion failed) !_src.empty() in function 'cvtColor'\n",
      "\n",
      "error in airplane_551.jpg\n",
      "350 airplane_043.jpg\n"
     ]
    },
    {
     "name": "stderr",
     "output_type": "stream",
     "text": [
      "[ WARN:0@342.542] global /io/opencv/modules/imgcodecs/src/loadsave.cpp (239) findDecoder imread_('Images/airplane_468.jpg'): can't open/read file: check file path/integrity\n",
      "[ WARN:0@342.599] global /io/opencv/modules/imgcodecs/src/loadsave.cpp (239) findDecoder imread_('Images/airplane_551.jpg'): can't open/read file: check file path/integrity\n"
     ]
    },
    {
     "name": "stdout",
     "output_type": "stream",
     "text": [
      "352 airplane_251.jpg\n",
      "353 airplane_433.jpg\n"
     ]
    },
    {
     "name": "stderr",
     "output_type": "stream",
     "text": [
      "[ WARN:0@344.095] global /io/opencv/modules/imgcodecs/src/loadsave.cpp (239) findDecoder imread_('Images/airplane_433.jpg'): can't open/read file: check file path/integrity\n"
     ]
    },
    {
     "name": "stdout",
     "output_type": "stream",
     "text": [
      "OpenCV(4.5.5) /io/opencv/modules/imgproc/src/color.cpp:182: error: (-215:Assertion failed) !_src.empty() in function 'cvtColor'\n",
      "\n",
      "error in airplane_433.jpg\n",
      "354 airplane_061.jpg\n",
      "355 airplane_222.jpg\n",
      "356 airplane_016.jpg\n",
      "357 airplane_239.jpg\n",
      "358 airplane_513.jpg\n"
     ]
    },
    {
     "name": "stderr",
     "output_type": "stream",
     "text": [
      "[ WARN:0@347.952] global /io/opencv/modules/imgcodecs/src/loadsave.cpp (239) findDecoder imread_('Images/airplane_513.jpg'): can't open/read file: check file path/integrity\n"
     ]
    },
    {
     "name": "stdout",
     "output_type": "stream",
     "text": [
      "OpenCV(4.5.5) /io/opencv/modules/imgproc/src/color.cpp:182: error: (-215:Assertion failed) !_src.empty() in function 'cvtColor'\n",
      "\n",
      "error in airplane_513.jpg\n",
      "359 airplane_119.jpg\n",
      "inside\n",
      "360 airplane_538.jpg\n"
     ]
    },
    {
     "name": "stderr",
     "output_type": "stream",
     "text": [
      "[ WARN:0@349.787] global /io/opencv/modules/imgcodecs/src/loadsave.cpp (239) findDecoder imread_('Images/airplane_538.jpg'): can't open/read file: check file path/integrity\n"
     ]
    },
    {
     "name": "stdout",
     "output_type": "stream",
     "text": [
      "OpenCV(4.5.5) /io/opencv/modules/imgproc/src/color.cpp:182: error: (-215:Assertion failed) !_src.empty() in function 'cvtColor'\n",
      "\n",
      "error in airplane_538.jpg\n",
      "361 airplane_223.jpg\n",
      "inside\n",
      "363 airplane_486.jpg\n",
      "OpenCV(4.5.5) /io/opencv/modules/imgproc/src/color.cpp:182: error: (-215:Assertion failed) !_src.empty() in function 'cvtColor'\n",
      "\n",
      "error in airplane_486.jpg\n",
      "364 airplane_133.jpg"
     ]
    },
    {
     "name": "stderr",
     "output_type": "stream",
     "text": [
      "[ WARN:0@353.138] global /io/opencv/modules/imgcodecs/src/loadsave.cpp (239) findDecoder imread_('Images/airplane_486.jpg'): can't open/read file: check file path/integrity\n"
     ]
    },
    {
     "name": "stdout",
     "output_type": "stream",
     "text": [
      "\n",
      "365 airplane_310.jpg\n",
      "366 airplane_439.jpg\n"
     ]
    },
    {
     "name": "stderr",
     "output_type": "stream",
     "text": [
      "[ WARN:0@356.066] global /io/opencv/modules/imgcodecs/src/loadsave.cpp (239) findDecoder imread_('Images/airplane_439.jpg'): can't open/read file: check file path/integrity\n"
     ]
    },
    {
     "name": "stdout",
     "output_type": "stream",
     "text": [
      "OpenCV(4.5.5) /io/opencv/modules/imgproc/src/color.cpp:182: error: (-215:Assertion failed) !_src.empty() in function 'cvtColor'\n",
      "\n",
      "error in airplane_439.jpg\n",
      "368 airplane_508.jpg\n"
     ]
    },
    {
     "name": "stderr",
     "output_type": "stream",
     "text": [
      "[ WARN:0@356.325] global /io/opencv/modules/imgcodecs/src/loadsave.cpp (239) findDecoder imread_('Images/airplane_508.jpg'): can't open/read file: check file path/integrity\n"
     ]
    },
    {
     "name": "stdout",
     "output_type": "stream",
     "text": [
      "OpenCV(4.5.5) /io/opencv/modules/imgproc/src/color.cpp:182: error: (-215:Assertion failed) !_src.empty() in function 'cvtColor'\n",
      "\n",
      "error in airplane_508.jpg\n",
      "369 airplane_210.jpg\n",
      "370 airplane_432.jpg\n"
     ]
    },
    {
     "name": "stderr",
     "output_type": "stream",
     "text": [
      "[ WARN:0@359.002] global /io/opencv/modules/imgcodecs/src/loadsave.cpp (239) findDecoder imread_('Images/airplane_432.jpg'): can't open/read file: check file path/integrity\n"
     ]
    },
    {
     "name": "stdout",
     "output_type": "stream",
     "text": [
      "OpenCV(4.5.5) /io/opencv/modules/imgproc/src/color.cpp:182: error: (-215:Assertion failed) !_src.empty() in function 'cvtColor'\n",
      "\n",
      "error in airplane_432.jpg\n",
      "371 airplane_072.jpg\n",
      "372 airplane_112.jpg\n",
      "inside\n",
      "373 airplane_380.jpg\n",
      "374 airplane_291.jpg\n",
      "inside\n",
      "375 airplane_529.jpg\n",
      "OpenCV(4.5.5) /io/opencv/modules/imgproc/src/color.cpp:182: error: (-215:Assertion failed) !_src.empty() in function 'cvtColor'\n",
      "\n",
      "error in airplane_529.jpg\n",
      "376 airplane_041.jpg\n"
     ]
    },
    {
     "name": "stderr",
     "output_type": "stream",
     "text": [
      "[ WARN:0@364.545] global /io/opencv/modules/imgcodecs/src/loadsave.cpp (239) findDecoder imread_('Images/airplane_529.jpg'): can't open/read file: check file path/integrity\n"
     ]
    },
    {
     "name": "stdout",
     "output_type": "stream",
     "text": [
      "377 airplane_070.jpg\n",
      "378 airplane_386.jpg\n",
      "379 airplane_617.jpg\n"
     ]
    },
    {
     "name": "stderr",
     "output_type": "stream",
     "text": [
      "[ WARN:0@367.028] global /io/opencv/modules/imgcodecs/src/loadsave.cpp (239) findDecoder imread_('Images/airplane_617.jpg'): can't open/read file: check file path/integrity\n"
     ]
    },
    {
     "name": "stdout",
     "output_type": "stream",
     "text": [
      "OpenCV(4.5.5) /io/opencv/modules/imgproc/src/color.cpp:182: error: (-215:Assertion failed) !_src.empty() in function 'cvtColor'\n",
      "\n",
      "error in airplane_617.jpg\n",
      "380 airplane_364.jpg\n",
      "381 airplane_249.jpg\n",
      "382 airplane_338.jpg\n",
      "inside\n",
      "383 airplane_672.jpg\n",
      "OpenCV(4.5.5) /io/opencv/modules/imgproc/src/color.cpp:182: error: (-215:Assertion failed) !_src.empty() in function 'cvtColor'\n",
      "\n",
      "error in airplane_672.jpg\n",
      "384 airplane_172.jpg\n"
     ]
    },
    {
     "name": "stderr",
     "output_type": "stream",
     "text": [
      "[ WARN:0@370.492] global /io/opencv/modules/imgcodecs/src/loadsave.cpp (239) findDecoder imread_('Images/airplane_672.jpg'): can't open/read file: check file path/integrity\n"
     ]
    },
    {
     "name": "stdout",
     "output_type": "stream",
     "text": [
      "385 airplane_505.jpg\n",
      "OpenCV(4.5.5) /io/opencv/modules/imgproc/src/color.cpp:182: error: (-215:Assertion failed) !_src.empty() in function 'cvtColor'\n",
      "\n",
      "error in airplane_505.jpg\n",
      "386 airplane_035.jpg\n"
     ]
    },
    {
     "name": "stderr",
     "output_type": "stream",
     "text": [
      "[ WARN:0@372.469] global /io/opencv/modules/imgcodecs/src/loadsave.cpp (239) findDecoder imread_('Images/airplane_505.jpg'): can't open/read file: check file path/integrity\n"
     ]
    },
    {
     "name": "stdout",
     "output_type": "stream",
     "text": [
      "387 airplane_489.jpg\n"
     ]
    },
    {
     "name": "stderr",
     "output_type": "stream",
     "text": [
      "[ WARN:0@373.498] global /io/opencv/modules/imgcodecs/src/loadsave.cpp (239) findDecoder imread_('Images/airplane_489.jpg'): can't open/read file: check file path/integrity\n"
     ]
    },
    {
     "name": "stdout",
     "output_type": "stream",
     "text": [
      "OpenCV(4.5.5) /io/opencv/modules/imgproc/src/color.cpp:182: error: (-215:Assertion failed) !_src.empty() in function 'cvtColor'\n",
      "\n",
      "error in airplane_489.jpg\n",
      "388 airplane_646.jpg\n"
     ]
    },
    {
     "name": "stderr",
     "output_type": "stream",
     "text": [
      "[ WARN:0@374.674] global /io/opencv/modules/imgcodecs/src/loadsave.cpp (239) findDecoder imread_('Images/airplane_646.jpg'): can't open/read file: check file path/integrity\n"
     ]
    },
    {
     "name": "stdout",
     "output_type": "stream",
     "text": [
      "OpenCV(4.5.5) /io/opencv/modules/imgproc/src/color.cpp:182: error: (-215:Assertion failed) !_src.empty() in function 'cvtColor'\n",
      "\n",
      "error in airplane_646.jpg\n",
      "389 airplane_670.jpg\n",
      "OpenCV(4.5.5) /io/opencv/modules/imgproc/src/color.cpp:182: error: (-215:Assertion failed) !_src.empty() in function 'cvtColor'\n",
      "\n",
      "error in airplane_670.jpg\n",
      "390 airplane_101.jpg\n"
     ]
    },
    {
     "name": "stderr",
     "output_type": "stream",
     "text": [
      "[ WARN:0@374.955] global /io/opencv/modules/imgcodecs/src/loadsave.cpp (239) findDecoder imread_('Images/airplane_670.jpg'): can't open/read file: check file path/integrity\n"
     ]
    },
    {
     "name": "stdout",
     "output_type": "stream",
     "text": [
      "392 airplane_556.jpg\n",
      "OpenCV(4.5.5) /io/opencv/modules/imgproc/src/color.cpp:182: error: (-215:Assertion failed) !_src.empty() in function 'cvtColor'\n",
      "\n",
      "error in airplane_556.jpg\n",
      "393 airplane_361.jpg\n"
     ]
    },
    {
     "name": "stderr",
     "output_type": "stream",
     "text": [
      "[ WARN:0@375.409] global /io/opencv/modules/imgcodecs/src/loadsave.cpp (239) findDecoder imread_('Images/airplane_556.jpg'): can't open/read file: check file path/integrity\n"
     ]
    },
    {
     "name": "stdout",
     "output_type": "stream",
     "text": [
      "394 airplane_290.jpg\n",
      "395 airplane_575.jpg\n"
     ]
    },
    {
     "name": "stderr",
     "output_type": "stream",
     "text": [
      "[ WARN:0@376.878] global /io/opencv/modules/imgcodecs/src/loadsave.cpp (239) findDecoder imread_('Images/airplane_575.jpg'): can't open/read file: check file path/integrity\n"
     ]
    },
    {
     "name": "stdout",
     "output_type": "stream",
     "text": [
      "OpenCV(4.5.5) /io/opencv/modules/imgproc/src/color.cpp:182: error: (-215:Assertion failed) !_src.empty() in function 'cvtColor'\n",
      "\n",
      "error in airplane_575.jpg\n",
      "396 airplane_369.jpg\n",
      "397 airplane_628.jpg\n",
      "OpenCV(4.5.5) /io/opencv/modules/imgproc/src/color.cpp:182: error: (-215:Assertion failed) !_src.empty() in function 'cvtColor'\n",
      "\n",
      "error in airplane_628.jpg\n",
      "398 airplane_392.jpg\n"
     ]
    },
    {
     "name": "stderr",
     "output_type": "stream",
     "text": [
      "[ WARN:0@377.871] global /io/opencv/modules/imgcodecs/src/loadsave.cpp (239) findDecoder imread_('Images/airplane_628.jpg'): can't open/read file: check file path/integrity\n"
     ]
    },
    {
     "name": "stdout",
     "output_type": "stream",
     "text": [
      "399 airplane_444.jpg\n"
     ]
    },
    {
     "name": "stderr",
     "output_type": "stream",
     "text": [
      "[ WARN:0@378.630] global /io/opencv/modules/imgcodecs/src/loadsave.cpp (239) findDecoder imread_('Images/airplane_444.jpg'): can't open/read file: check file path/integrity\n"
     ]
    },
    {
     "name": "stdout",
     "output_type": "stream",
     "text": [
      "OpenCV(4.5.5) /io/opencv/modules/imgproc/src/color.cpp:182: error: (-215:Assertion failed) !_src.empty() in function 'cvtColor'\n",
      "\n",
      "error in airplane_444.jpg\n",
      "400 airplane_373.jpg\n",
      "inside\n",
      "402 airplane_297.jpg\n",
      "inside\n",
      "405 airplane_580.jpg\n",
      "OpenCV(4.5.5) /io/opencv/modules/imgproc/src/color.cpp:182: error: (-215:Assertion failed) !_src.empty() in function 'cvtColor'\n",
      "\n",
      "error in airplane_580.jpg\n",
      "406 airplane_025.jpg\n"
     ]
    },
    {
     "name": "stderr",
     "output_type": "stream",
     "text": [
      "[ WARN:0@380.526] global /io/opencv/modules/imgcodecs/src/loadsave.cpp (239) findDecoder imread_('Images/airplane_580.jpg'): can't open/read file: check file path/integrity\n"
     ]
    },
    {
     "name": "stdout",
     "output_type": "stream",
     "text": [
      "407 airplane_044.jpg\n",
      "408 airplane_273.jpg\n",
      "410 airplane_510.jpg\n",
      "OpenCV(4.5.5) /io/opencv/modules/imgproc/src/color.cpp:182: error: (-215:Assertion failed) !_src.empty() in function 'cvtColor'\n",
      "\n",
      "error in airplane_510.jpg\n",
      "411 airplane_180.jpg\n"
     ]
    },
    {
     "name": "stderr",
     "output_type": "stream",
     "text": [
      "[ WARN:0@382.434] global /io/opencv/modules/imgcodecs/src/loadsave.cpp (239) findDecoder imread_('Images/airplane_510.jpg'): can't open/read file: check file path/integrity\n"
     ]
    },
    {
     "name": "stdout",
     "output_type": "stream",
     "text": [
      "412 airplane_243.jpg\n",
      "413 airplane_349.jpg\n",
      "414 airplane_536.jpg\n"
     ]
    },
    {
     "name": "stderr",
     "output_type": "stream",
     "text": [
      "[ WARN:0@385.407] global /io/opencv/modules/imgcodecs/src/loadsave.cpp (239) findDecoder imread_('Images/airplane_536.jpg'): can't open/read file: check file path/integrity\n"
     ]
    },
    {
     "name": "stdout",
     "output_type": "stream",
     "text": [
      "OpenCV(4.5.5) /io/opencv/modules/imgproc/src/color.cpp:182: error: (-215:Assertion failed) !_src.empty() in function 'cvtColor'\n",
      "\n",
      "error in airplane_536.jpg\n",
      "415 airplane_106.jpg\n",
      "416 airplane_220.jpg\n",
      "417 airplane_464.jpg\n"
     ]
    },
    {
     "name": "stderr",
     "output_type": "stream",
     "text": [
      "[ WARN:0@390.047] global /io/opencv/modules/imgcodecs/src/loadsave.cpp (239) findDecoder imread_('Images/airplane_464.jpg'): can't open/read file: check file path/integrity\n"
     ]
    },
    {
     "name": "stdout",
     "output_type": "stream",
     "text": [
      "OpenCV(4.5.5) /io/opencv/modules/imgproc/src/color.cpp:182: error: (-215:Assertion failed) !_src.empty() in function 'cvtColor'\n",
      "\n",
      "error in airplane_464.jpg\n",
      "418 airplane_225.jpg\n",
      "inside\n",
      "419 airplane_108.jpg\n",
      "inside\n",
      "420 airplane_182.jpg\n",
      "421 airplane_138.jpg\n",
      "422 airplane_129.jpg\n",
      "423 airplane_473.jpg\n",
      "OpenCV(4.5.5) /io/opencv/modules/imgproc/src/color.cpp:182: error: (-215:Assertion failed) !_src.empty() in function 'cvtColor'\n",
      "\n",
      "error in airplane_473.jpg\n",
      "424 airplane_156.jpg\n"
     ]
    },
    {
     "name": "stderr",
     "output_type": "stream",
     "text": [
      "[ WARN:0@397.149] global /io/opencv/modules/imgcodecs/src/loadsave.cpp (239) findDecoder imread_('Images/airplane_473.jpg'): can't open/read file: check file path/integrity\n"
     ]
    },
    {
     "name": "stdout",
     "output_type": "stream",
     "text": [
      "426 airplane_279.jpg\n",
      "427 airplane_561.jpg\n"
     ]
    },
    {
     "name": "stderr",
     "output_type": "stream",
     "text": [
      "[ WARN:0@398.380] global /io/opencv/modules/imgcodecs/src/loadsave.cpp (239) findDecoder imread_('Images/airplane_561.jpg'): can't open/read file: check file path/integrity\n"
     ]
    },
    {
     "name": "stdout",
     "output_type": "stream",
     "text": [
      "OpenCV(4.5.5) /io/opencv/modules/imgproc/src/color.cpp:182: error: (-215:Assertion failed) !_src.empty() in function 'cvtColor'\n",
      "\n",
      "error in airplane_561.jpg\n",
      "428 airplane_543.jpg\n",
      "OpenCV(4.5.5) /io/opencv/modules/imgproc/src/color.cpp:182: error: (-215:Assertion failed) !_src.empty() in function 'cvtColor'\n",
      "\n",
      "error in airplane_543.jpg\n",
      "429 airplane_598.jpg\n"
     ]
    },
    {
     "name": "stderr",
     "output_type": "stream",
     "text": [
      "[ WARN:0@398.670] global /io/opencv/modules/imgcodecs/src/loadsave.cpp (239) findDecoder imread_('Images/airplane_543.jpg'): can't open/read file: check file path/integrity\n",
      "[ WARN:0@398.710] global /io/opencv/modules/imgcodecs/src/loadsave.cpp (239) findDecoder imread_('Images/airplane_598.jpg'): can't open/read file: check file path/integrity\n"
     ]
    },
    {
     "name": "stdout",
     "output_type": "stream",
     "text": [
      "OpenCV(4.5.5) /io/opencv/modules/imgproc/src/color.cpp:182: error: (-215:Assertion failed) !_src.empty() in function 'cvtColor'\n",
      "\n",
      "error in airplane_598.jpg\n",
      "430 airplane_161.jpg\n",
      "431 airplane_293.jpg\n",
      "432 airplane_396.jpg\n",
      "433 airplane_629.jpg\n",
      "OpenCV(4.5.5) /io/opencv/modules/imgproc/src/color.cpp:182: error: (-215:Assertion failed) !_src.empty() in function 'cvtColor'\n",
      "\n",
      "error in airplane_629.jpg\n",
      "434 airplane_627.jpg\n",
      "OpenCV(4.5.5) /io/opencv/modules/imgproc/src/color.cpp:182: error: (-215:Assertion failed) !_src.empty() in function 'cvtColor'\n",
      "\n",
      "error in airplane_627.jpg\n",
      "435 airplane_525.jpg\n",
      "OpenCV(4.5.5) /io/opencv/modules/imgproc/src/color.cpp:182: error: (-215:Assertion failed) !_src.empty() in function 'cvtColor'\n",
      "\n",
      "error in airplane_525.jpg\n",
      "436 airplane_542.jpg\n"
     ]
    },
    {
     "name": "stderr",
     "output_type": "stream",
     "text": [
      "[ WARN:0@403.100] global /io/opencv/modules/imgcodecs/src/loadsave.cpp (239) findDecoder imread_('Images/airplane_629.jpg'): can't open/read file: check file path/integrity\n",
      "[ WARN:0@403.224] global /io/opencv/modules/imgcodecs/src/loadsave.cpp (239) findDecoder imread_('Images/airplane_627.jpg'): can't open/read file: check file path/integrity\n",
      "[ WARN:0@403.232] global /io/opencv/modules/imgcodecs/src/loadsave.cpp (239) findDecoder imread_('Images/airplane_525.jpg'): can't open/read file: check file path/integrity\n",
      "[ WARN:0@403.242] global /io/opencv/modules/imgcodecs/src/loadsave.cpp (239) findDecoder imread_('Images/airplane_542.jpg'): can't open/read file: check file path/integrity\n"
     ]
    },
    {
     "name": "stdout",
     "output_type": "stream",
     "text": [
      "OpenCV(4.5.5) /io/opencv/modules/imgproc/src/color.cpp:182: error: (-215:Assertion failed) !_src.empty() in function 'cvtColor'\n",
      "\n",
      "error in airplane_542.jpg\n",
      "437 airplane_677.jpg\n",
      "OpenCV(4.5.5) /io/opencv/modules/imgproc/src/color.cpp:182: error: (-215:Assertion failed) !_src.empty() in function 'cvtColor'\n",
      "\n",
      "error in airplane_677.jpg\n",
      "438 airplane_559.jpg\n",
      "OpenCV(4.5.5) /io/opencv/modules/imgproc/src/color.cpp:182: error: (-215:Assertion failed) !_src.empty() in function 'cvtColor'\n",
      "\n",
      "error in airplane_559.jpg\n",
      "439 airplane_597.jpg\n",
      "OpenCV(4.5.5) /io/opencv/modules/imgproc/src/color.cpp:182: error: (-215:Assertion failed) !_src.empty() in function 'cvtColor'\n",
      "\n",
      "error in airplane_597.jpg\n",
      "440 airplane_655.jpg\n",
      "OpenCV(4.5.5) /io/opencv/modules/imgproc/src/color.cpp:182: error: (-215:Assertion failed) !_src.empty() in function 'cvtColor'\n",
      "\n",
      "error in airplane_655.jpg\n",
      "441 airplane_673.jpg\n",
      "OpenCV(4.5.5) /io/opencv/modules/imgproc/src/color.cpp:182: error: (-215:Assertion failed) !_src.empty() in function 'cvtColor'\n",
      "\n",
      "error in airplane_673.jpg\n",
      "442 airplane_148.jpg\n"
     ]
    },
    {
     "name": "stderr",
     "output_type": "stream",
     "text": [
      "[ WARN:0@404.046] global /io/opencv/modules/imgcodecs/src/loadsave.cpp (239) findDecoder imread_('Images/airplane_677.jpg'): can't open/read file: check file path/integrity\n",
      "[ WARN:0@404.048] global /io/opencv/modules/imgcodecs/src/loadsave.cpp (239) findDecoder imread_('Images/airplane_559.jpg'): can't open/read file: check file path/integrity\n",
      "[ WARN:0@404.050] global /io/opencv/modules/imgcodecs/src/loadsave.cpp (239) findDecoder imread_('Images/airplane_597.jpg'): can't open/read file: check file path/integrity\n",
      "[ WARN:0@404.053] global /io/opencv/modules/imgcodecs/src/loadsave.cpp (239) findDecoder imread_('Images/airplane_655.jpg'): can't open/read file: check file path/integrity\n",
      "[ WARN:0@404.056] global /io/opencv/modules/imgcodecs/src/loadsave.cpp (239) findDecoder imread_('Images/airplane_673.jpg'): can't open/read file: check file path/integrity\n"
     ]
    },
    {
     "name": "stdout",
     "output_type": "stream",
     "text": [
      "443 airplane_280.jpg\n",
      "444 airplane_684.jpg\n"
     ]
    },
    {
     "name": "stderr",
     "output_type": "stream",
     "text": [
      "[ WARN:0@407.917] global /io/opencv/modules/imgcodecs/src/loadsave.cpp (239) findDecoder imread_('Images/airplane_684.jpg'): can't open/read file: check file path/integrity\n"
     ]
    },
    {
     "name": "stdout",
     "output_type": "stream",
     "text": [
      "OpenCV(4.5.5) /io/opencv/modules/imgproc/src/color.cpp:182: error: (-215:Assertion failed) !_src.empty() in function 'cvtColor'\n",
      "\n",
      "error in airplane_684.jpg\n",
      "445 airplane_015.jpg\n",
      "446 airplane_109.jpg\n",
      "447 airplane_165.jpg\n",
      "448 airplane_056.jpg\n",
      "449 airplane_230.jpg\n",
      "450 airplane_474.jpg\n",
      "OpenCV(4.5.5) /io/opencv/modules/imgproc/src/color.cpp:182: error: (-215:Assertion failed) !_src.empty() in function 'cvtColor'\n",
      "\n",
      "error in airplane_474.jpg\n",
      "451 airplane_024.jpg\n"
     ]
    },
    {
     "name": "stderr",
     "output_type": "stream",
     "text": [
      "[ WARN:0@415.433] global /io/opencv/modules/imgcodecs/src/loadsave.cpp (239) findDecoder imread_('Images/airplane_474.jpg'): can't open/read file: check file path/integrity\n"
     ]
    },
    {
     "name": "stdout",
     "output_type": "stream",
     "text": [
      "452 airplane_299.jpg\n",
      "454 airplane_356.jpg\n",
      "455 airplane_340.jpg\n",
      "456 airplane_399.jpg\n",
      "457 airplane_036.jpg\n",
      "458 airplane_085.jpg\n",
      "inside\n",
      "459 airplane_493.jpg\n"
     ]
    },
    {
     "name": "stderr",
     "output_type": "stream",
     "text": [
      "[ WARN:0@427.062] global /io/opencv/modules/imgcodecs/src/loadsave.cpp (239) findDecoder imread_('Images/airplane_493.jpg'): can't open/read file: check file path/integrity\n"
     ]
    },
    {
     "name": "stdout",
     "output_type": "stream",
     "text": [
      "OpenCV(4.5.5) /io/opencv/modules/imgproc/src/color.cpp:182: error: (-215:Assertion failed) !_src.empty() in function 'cvtColor'\n",
      "\n",
      "error in airplane_493.jpg\n",
      "460 airplane_351.jpg\n",
      "461 airplane_450.jpg\n"
     ]
    },
    {
     "name": "stderr",
     "output_type": "stream",
     "text": [
      "[ WARN:0@429.548] global /io/opencv/modules/imgcodecs/src/loadsave.cpp (239) findDecoder imread_('Images/airplane_450.jpg'): can't open/read file: check file path/integrity\n"
     ]
    },
    {
     "name": "stdout",
     "output_type": "stream",
     "text": [
      "OpenCV(4.5.5) /io/opencv/modules/imgproc/src/color.cpp:182: error: (-215:Assertion failed) !_src.empty() in function 'cvtColor'\n",
      "\n",
      "error in airplane_450.jpg\n",
      "462 airplane_286.jpg\n",
      "463 airplane_477.jpg\n",
      "OpenCV(4.5.5) /io/opencv/modules/imgproc/src/color.cpp:182: error: (-215:Assertion failed) !_src.empty() in function 'cvtColor'\n",
      "\n",
      "error in airplane_477.jpg\n",
      "464 airplane_214.jpg\n"
     ]
    },
    {
     "name": "stderr",
     "output_type": "stream",
     "text": [
      "[ WARN:0@430.774] global /io/opencv/modules/imgcodecs/src/loadsave.cpp (239) findDecoder imread_('Images/airplane_477.jpg'): can't open/read file: check file path/integrity\n"
     ]
    },
    {
     "name": "stdout",
     "output_type": "stream",
     "text": [
      "inside\n",
      "465 airplane_446.jpg\n",
      "OpenCV(4.5.5) /io/opencv/modules/imgproc/src/color.cpp:182: error: (-215:Assertion failed) !_src.empty() in function 'cvtColor'\n",
      "\n",
      "error in airplane_446.jpg\n",
      "466 airplane_019.jpg\n"
     ]
    },
    {
     "name": "stderr",
     "output_type": "stream",
     "text": [
      "[ WARN:0@433.054] global /io/opencv/modules/imgcodecs/src/loadsave.cpp (239) findDecoder imread_('Images/airplane_446.jpg'): can't open/read file: check file path/integrity\n"
     ]
    },
    {
     "name": "stdout",
     "output_type": "stream",
     "text": [
      "467 airplane_003.jpg\n",
      "468 airplane_151.jpg\n",
      "inside\n",
      "469 airplane_499.jpg\n"
     ]
    },
    {
     "name": "stderr",
     "output_type": "stream",
     "text": [
      "[ WARN:0@436.875] global /io/opencv/modules/imgcodecs/src/loadsave.cpp (239) findDecoder imread_('Images/airplane_499.jpg'): can't open/read file: check file path/integrity\n"
     ]
    },
    {
     "name": "stdout",
     "output_type": "stream",
     "text": [
      "OpenCV(4.5.5) /io/opencv/modules/imgproc/src/color.cpp:182: error: (-215:Assertion failed) !_src.empty() in function 'cvtColor'\n",
      "\n",
      "error in airplane_499.jpg\n",
      "470 airplane_692.jpg\n",
      "OpenCV(4.5.5) /io/opencv/modules/imgproc/src/color.cpp:182: error: (-215:Assertion failed) !_src.empty() in function 'cvtColor'\n",
      "\n",
      "error in airplane_692.jpg\n",
      "471 airplane_325.jpg\n"
     ]
    },
    {
     "name": "stderr",
     "output_type": "stream",
     "text": [
      "[ WARN:0@437.639] global /io/opencv/modules/imgcodecs/src/loadsave.cpp (239) findDecoder imread_('Images/airplane_692.jpg'): can't open/read file: check file path/integrity\n"
     ]
    },
    {
     "name": "stdout",
     "output_type": "stream",
     "text": [
      "472 airplane_527.jpg\n"
     ]
    },
    {
     "name": "stderr",
     "output_type": "stream",
     "text": [
      "[ WARN:0@438.512] global /io/opencv/modules/imgcodecs/src/loadsave.cpp (239) findDecoder imread_('Images/airplane_527.jpg'): can't open/read file: check file path/integrity\n"
     ]
    },
    {
     "name": "stdout",
     "output_type": "stream",
     "text": [
      "OpenCV(4.5.5) /io/opencv/modules/imgproc/src/color.cpp:182: error: (-215:Assertion failed) !_src.empty() in function 'cvtColor'\n",
      "\n",
      "error in airplane_527.jpg\n",
      "473 airplane_308.jpg\n",
      "474 airplane_420.jpg\n"
     ]
    },
    {
     "name": "stderr",
     "output_type": "stream",
     "text": [
      "[ WARN:0@441.272] global /io/opencv/modules/imgcodecs/src/loadsave.cpp (239) findDecoder imread_('Images/airplane_420.jpg'): can't open/read file: check file path/integrity\n"
     ]
    },
    {
     "name": "stdout",
     "output_type": "stream",
     "text": [
      "OpenCV(4.5.5) /io/opencv/modules/imgproc/src/color.cpp:182: error: (-215:Assertion failed) !_src.empty() in function 'cvtColor'\n",
      "\n",
      "error in airplane_420.jpg\n",
      "475 airplane_206.jpg\n",
      "476 airplane_270.jpg\n",
      "477 airplane_283.jpg\n",
      "478 airplane_023.jpg\n",
      "479 airplane_533.jpg\n"
     ]
    },
    {
     "name": "stderr",
     "output_type": "stream",
     "text": [
      "[ WARN:0@445.516] global /io/opencv/modules/imgcodecs/src/loadsave.cpp (239) findDecoder imread_('Images/airplane_533.jpg'): can't open/read file: check file path/integrity\n"
     ]
    },
    {
     "name": "stdout",
     "output_type": "stream",
     "text": [
      "OpenCV(4.5.5) /io/opencv/modules/imgproc/src/color.cpp:182: error: (-215:Assertion failed) !_src.empty() in function 'cvtColor'\n",
      "\n",
      "error in airplane_533.jpg\n",
      "480 airplane_686.jpg\n",
      "OpenCV(4.5.5) /io/opencv/modules/imgproc/src/color.cpp:182: error: (-215:Assertion failed) !_src.empty() in function 'cvtColor'\n",
      "\n",
      "error in airplane_686.jpg\n",
      "481 airplane_124.jpg\n"
     ]
    },
    {
     "name": "stderr",
     "output_type": "stream",
     "text": [
      "[ WARN:0@445.805] global /io/opencv/modules/imgcodecs/src/loadsave.cpp (239) findDecoder imread_('Images/airplane_686.jpg'): can't open/read file: check file path/integrity\n"
     ]
    },
    {
     "name": "stdout",
     "output_type": "stream",
     "text": [
      "482 airplane_218.jpg\n",
      "483 airplane_424.jpg\n",
      "OpenCV(4.5.5) /io/opencv/modules/imgproc/src/color.cpp:182: error: (-215:Assertion failed) !_src.empty() in function 'cvtColor'\n",
      "\n",
      "error in airplane_424.jpg\n",
      "484 airplane_687.jpg\n",
      "OpenCV(4.5.5) /io/opencv/modules/imgproc/src/color.cpp:182: error: (-215:Assertion failed) !_src.empty() in function 'cvtColor'\n",
      "\n",
      "error in airplane_687.jpg\n",
      "485 airplane_179.jpg\n"
     ]
    },
    {
     "name": "stderr",
     "output_type": "stream",
     "text": [
      "[ WARN:0@448.641] global /io/opencv/modules/imgcodecs/src/loadsave.cpp (239) findDecoder imread_('Images/airplane_424.jpg'): can't open/read file: check file path/integrity\n",
      "[ WARN:0@448.685] global /io/opencv/modules/imgcodecs/src/loadsave.cpp (239) findDecoder imread_('Images/airplane_687.jpg'): can't open/read file: check file path/integrity\n"
     ]
    },
    {
     "name": "stdout",
     "output_type": "stream",
     "text": [
      "486 airplane_194.jpg\n",
      "487 airplane_421.jpg\n"
     ]
    },
    {
     "name": "stderr",
     "output_type": "stream",
     "text": [
      "[ WARN:0@450.371] global /io/opencv/modules/imgcodecs/src/loadsave.cpp (239) findDecoder imread_('Images/airplane_421.jpg'): can't open/read file: check file path/integrity\n"
     ]
    },
    {
     "name": "stdout",
     "output_type": "stream",
     "text": [
      "OpenCV(4.5.5) /io/opencv/modules/imgproc/src/color.cpp:182: error: (-215:Assertion failed) !_src.empty() in function 'cvtColor'\n",
      "\n",
      "error in airplane_421.jpg\n",
      "488 airplane_233.jpg\n",
      "489 airplane_006.jpg\n",
      "490 airplane_546.jpg\n"
     ]
    },
    {
     "name": "stderr",
     "output_type": "stream",
     "text": [
      "[ WARN:0@452.968] global /io/opencv/modules/imgcodecs/src/loadsave.cpp (239) findDecoder imread_('Images/airplane_546.jpg'): can't open/read file: check file path/integrity\n"
     ]
    },
    {
     "name": "stdout",
     "output_type": "stream",
     "text": [
      "OpenCV(4.5.5) /io/opencv/modules/imgproc/src/color.cpp:182: error: (-215:Assertion failed) !_src.empty() in function 'cvtColor'\n",
      "\n",
      "error in airplane_546.jpg\n",
      "491 airplane_077.jpg\n",
      "492 airplane_440.jpg\n"
     ]
    },
    {
     "name": "stderr",
     "output_type": "stream",
     "text": [
      "[ WARN:0@454.200] global /io/opencv/modules/imgcodecs/src/loadsave.cpp (239) findDecoder imread_('Images/airplane_440.jpg'): can't open/read file: check file path/integrity\n"
     ]
    },
    {
     "name": "stdout",
     "output_type": "stream",
     "text": [
      "OpenCV(4.5.5) /io/opencv/modules/imgproc/src/color.cpp:182: error: (-215:Assertion failed) !_src.empty() in function 'cvtColor'\n",
      "\n",
      "error in airplane_440.jpg\n",
      "493 airplane_081.jpg\n",
      "494 airplane_092.jpg\n",
      "495 airplane_360.jpg\n",
      "496 airplane_689.jpg\n"
     ]
    },
    {
     "name": "stderr",
     "output_type": "stream",
     "text": [
      "[ WARN:0@460.426] global /io/opencv/modules/imgcodecs/src/loadsave.cpp (239) findDecoder imread_('Images/airplane_689.jpg'): can't open/read file: check file path/integrity\n"
     ]
    },
    {
     "name": "stdout",
     "output_type": "stream",
     "text": [
      "OpenCV(4.5.5) /io/opencv/modules/imgproc/src/color.cpp:182: error: (-215:Assertion failed) !_src.empty() in function 'cvtColor'\n",
      "\n",
      "error in airplane_689.jpg\n",
      "497 airplane_504.jpg\n"
     ]
    },
    {
     "name": "stderr",
     "output_type": "stream",
     "text": [
      "[ WARN:0@460.946] global /io/opencv/modules/imgcodecs/src/loadsave.cpp (239) findDecoder imread_('Images/airplane_504.jpg'): can't open/read file: check file path/integrity\n"
     ]
    },
    {
     "name": "stdout",
     "output_type": "stream",
     "text": [
      "OpenCV(4.5.5) /io/opencv/modules/imgproc/src/color.cpp:182: error: (-215:Assertion failed) !_src.empty() in function 'cvtColor'\n",
      "\n",
      "error in airplane_504.jpg\n",
      "498 airplane_022.jpg\n",
      "499 airplane_125.jpg\n",
      "500 airplane_140.jpg\n",
      "501 airplane_295.jpg\n",
      "502 airplane_409.jpg\n",
      "503 airplane_512.jpg\n"
     ]
    },
    {
     "name": "stderr",
     "output_type": "stream",
     "text": [
      "[ WARN:0@469.608] global /io/opencv/modules/imgcodecs/src/loadsave.cpp (239) findDecoder imread_('Images/airplane_512.jpg'): can't open/read file: check file path/integrity\n"
     ]
    },
    {
     "name": "stdout",
     "output_type": "stream",
     "text": [
      "OpenCV(4.5.5) /io/opencv/modules/imgproc/src/color.cpp:182: error: (-215:Assertion failed) !_src.empty() in function 'cvtColor'\n",
      "\n",
      "error in airplane_512.jpg\n",
      "505 airplane_574.jpg\n"
     ]
    },
    {
     "name": "stderr",
     "output_type": "stream",
     "text": [
      "[ WARN:0@470.054] global /io/opencv/modules/imgcodecs/src/loadsave.cpp (239) findDecoder imread_('Images/airplane_574.jpg'): can't open/read file: check file path/integrity\n"
     ]
    },
    {
     "name": "stdout",
     "output_type": "stream",
     "text": [
      "OpenCV(4.5.5) /io/opencv/modules/imgproc/src/color.cpp:182: error: (-215:Assertion failed) !_src.empty() in function 'cvtColor'\n",
      "\n",
      "error in airplane_574.jpg\n",
      "506 airplane_679.jpg\n",
      "OpenCV(4.5.5) /io/opencv/modules/imgproc/src/color.cpp:182: error: (-215:Assertion failed) !_src.empty() in function 'cvtColor'\n",
      "\n",
      "error in airplane_679.jpg\n",
      "507 airplane_378.jpg\n"
     ]
    },
    {
     "name": "stderr",
     "output_type": "stream",
     "text": [
      "[ WARN:0@470.441] global /io/opencv/modules/imgcodecs/src/loadsave.cpp (239) findDecoder imread_('Images/airplane_679.jpg'): can't open/read file: check file path/integrity\n"
     ]
    },
    {
     "name": "stdout",
     "output_type": "stream",
     "text": [
      "508 airplane_312.jpg\n",
      "509 airplane_577.jpg\n"
     ]
    },
    {
     "name": "stderr",
     "output_type": "stream",
     "text": [
      "[ WARN:0@473.290] global /io/opencv/modules/imgcodecs/src/loadsave.cpp (239) findDecoder imread_('Images/airplane_577.jpg'): can't open/read file: check file path/integrity\n"
     ]
    },
    {
     "name": "stdout",
     "output_type": "stream",
     "text": [
      "OpenCV(4.5.5) /io/opencv/modules/imgproc/src/color.cpp:182: error: (-215:Assertion failed) !_src.empty() in function 'cvtColor'\n",
      "\n",
      "error in airplane_577.jpg\n",
      "510 airplane_600.jpg\n",
      "OpenCV(4.5.5) /io/opencv/modules/imgproc/src/color.cpp:182: error: (-215:Assertion failed) !_src.empty() in function 'cvtColor'\n",
      "\n",
      "error in airplane_600.jpg\n",
      "511 airplane_263.jpg\n"
     ]
    },
    {
     "name": "stderr",
     "output_type": "stream",
     "text": [
      "[ WARN:0@473.920] global /io/opencv/modules/imgcodecs/src/loadsave.cpp (239) findDecoder imread_('Images/airplane_600.jpg'): can't open/read file: check file path/integrity\n"
     ]
    },
    {
     "name": "stdout",
     "output_type": "stream",
     "text": [
      "512 airplane_246.jpg\n",
      "513 airplane_313.jpg\n",
      "514 airplane_607.jpg\n"
     ]
    },
    {
     "name": "stderr",
     "output_type": "stream",
     "text": [
      "[ WARN:0@477.564] global /io/opencv/modules/imgcodecs/src/loadsave.cpp (239) findDecoder imread_('Images/airplane_607.jpg'): can't open/read file: check file path/integrity\n"
     ]
    },
    {
     "name": "stdout",
     "output_type": "stream",
     "text": [
      "OpenCV(4.5.5) /io/opencv/modules/imgproc/src/color.cpp:182: error: (-215:Assertion failed) !_src.empty() in function 'cvtColor'\n",
      "\n",
      "error in airplane_607.jpg\n",
      "515 airplane_391.jpg\n",
      "516 airplane_236.jpg\n",
      "517 airplane_123.jpg\n",
      "inside\n",
      "518 airplane_228.jpg\n",
      "519 airplane_400.jpg\n",
      "520 airplane_481.jpg\n",
      "OpenCV(4.5.5) /io/opencv/modules/imgproc/src/color.cpp:182: error: (-215:Assertion failed) !_src.empty() in function 'cvtColor'\n",
      "\n",
      "error in airplane_481.jpg\n",
      "522 airplane_374.jpg\n"
     ]
    },
    {
     "name": "stderr",
     "output_type": "stream",
     "text": [
      "[ WARN:0@487.631] global /io/opencv/modules/imgcodecs/src/loadsave.cpp (239) findDecoder imread_('Images/airplane_481.jpg'): can't open/read file: check file path/integrity\n"
     ]
    },
    {
     "name": "stdout",
     "output_type": "stream",
     "text": [
      "523 airplane_014.jpg\n",
      "524 airplane_594.jpg\n"
     ]
    },
    {
     "name": "stderr",
     "output_type": "stream",
     "text": [
      "[ WARN:0@489.627] global /io/opencv/modules/imgcodecs/src/loadsave.cpp (239) findDecoder imread_('Images/airplane_594.jpg'): can't open/read file: check file path/integrity\n"
     ]
    },
    {
     "name": "stdout",
     "output_type": "stream",
     "text": [
      "OpenCV(4.5.5) /io/opencv/modules/imgproc/src/color.cpp:182: error: (-215:Assertion failed) !_src.empty() in function 'cvtColor'\n",
      "\n",
      "error in airplane_594.jpg\n",
      "525 airplane_552.jpg\n",
      "OpenCV(4.5.5) /io/opencv/modules/imgproc/src/color.cpp:182: error: (-215:Assertion failed) !_src.empty() in function 'cvtColor'\n",
      "\n",
      "error in airplane_552.jpg\n",
      "526 airplane_698.jpg\n"
     ]
    },
    {
     "name": "stderr",
     "output_type": "stream",
     "text": [
      "[ WARN:0@489.877] global /io/opencv/modules/imgcodecs/src/loadsave.cpp (239) findDecoder imread_('Images/airplane_552.jpg'): can't open/read file: check file path/integrity\n",
      "[ WARN:0@489.910] global /io/opencv/modules/imgcodecs/src/loadsave.cpp (239) findDecoder imread_('Images/airplane_698.jpg'): can't open/read file: check file path/integrity\n"
     ]
    },
    {
     "name": "stdout",
     "output_type": "stream",
     "text": [
      "OpenCV(4.5.5) /io/opencv/modules/imgproc/src/color.cpp:182: error: (-215:Assertion failed) !_src.empty() in function 'cvtColor'\n",
      "\n",
      "error in airplane_698.jpg\n",
      "527 airplane_348.jpg\n",
      "528 airplane_565.jpg\n"
     ]
    },
    {
     "name": "stderr",
     "output_type": "stream",
     "text": [
      "[ WARN:0@491.028] global /io/opencv/modules/imgcodecs/src/loadsave.cpp (239) findDecoder imread_('Images/airplane_565.jpg'): can't open/read file: check file path/integrity\n"
     ]
    },
    {
     "name": "stdout",
     "output_type": "stream",
     "text": [
      "OpenCV(4.5.5) /io/opencv/modules/imgproc/src/color.cpp:182: error: (-215:Assertion failed) !_src.empty() in function 'cvtColor'\n",
      "\n",
      "error in airplane_565.jpg\n",
      "529 airplane_067.jpg\n",
      "530 airplane_002.jpg\n",
      "531 airplane_423.jpg\n"
     ]
    },
    {
     "name": "stderr",
     "output_type": "stream",
     "text": [
      "[ WARN:0@493.480] global /io/opencv/modules/imgcodecs/src/loadsave.cpp (239) findDecoder imread_('Images/airplane_423.jpg'): can't open/read file: check file path/integrity\n"
     ]
    },
    {
     "name": "stdout",
     "output_type": "stream",
     "text": [
      "OpenCV(4.5.5) /io/opencv/modules/imgproc/src/color.cpp:182: error: (-215:Assertion failed) !_src.empty() in function 'cvtColor'\n",
      "\n",
      "error in airplane_423.jpg\n",
      "532 airplane_345.jpg\n",
      "533 airplane_028.jpg\n",
      "534 airplane_164.jpg\n",
      "535 airplane_107.jpg\n",
      "536 airplane_562.jpg\n"
     ]
    },
    {
     "name": "stderr",
     "output_type": "stream",
     "text": [
      "[ WARN:0@500.110] global /io/opencv/modules/imgcodecs/src/loadsave.cpp (239) findDecoder imread_('Images/airplane_562.jpg'): can't open/read file: check file path/integrity\n"
     ]
    },
    {
     "name": "stdout",
     "output_type": "stream",
     "text": [
      "OpenCV(4.5.5) /io/opencv/modules/imgproc/src/color.cpp:182: error: (-215:Assertion failed) !_src.empty() in function 'cvtColor'\n",
      "\n",
      "error in airplane_562.jpg\n",
      "537 airplane_258.jpg\n",
      "538 airplane_177.jpg\n",
      "539 airplane_648.jpg\n"
     ]
    },
    {
     "name": "stderr",
     "output_type": "stream",
     "text": [
      "[ WARN:0@502.907] global /io/opencv/modules/imgcodecs/src/loadsave.cpp (239) findDecoder imread_('Images/airplane_648.jpg'): can't open/read file: check file path/integrity\n"
     ]
    },
    {
     "name": "stdout",
     "output_type": "stream",
     "text": [
      "OpenCV(4.5.5) /io/opencv/modules/imgproc/src/color.cpp:182: error: (-215:Assertion failed) !_src.empty() in function 'cvtColor'\n",
      "\n",
      "error in airplane_648.jpg\n",
      "540 airplane_132.jpg\n",
      "541 airplane_463.jpg\n"
     ]
    },
    {
     "name": "stderr",
     "output_type": "stream",
     "text": [
      "[ WARN:0@504.665] global /io/opencv/modules/imgcodecs/src/loadsave.cpp (239) findDecoder imread_('Images/airplane_463.jpg'): can't open/read file: check file path/integrity\n"
     ]
    },
    {
     "name": "stdout",
     "output_type": "stream",
     "text": [
      "OpenCV(4.5.5) /io/opencv/modules/imgproc/src/color.cpp:182: error: (-215:Assertion failed) !_src.empty() in function 'cvtColor'\n",
      "\n",
      "error in airplane_463.jpg\n",
      "542 airplane_004.jpg\n",
      "inside\n",
      "543 airplane_671.jpg\n"
     ]
    },
    {
     "name": "stderr",
     "output_type": "stream",
     "text": [
      "[ WARN:0@507.352] global /io/opencv/modules/imgcodecs/src/loadsave.cpp (239) findDecoder imread_('Images/airplane_671.jpg'): can't open/read file: check file path/integrity\n"
     ]
    },
    {
     "name": "stdout",
     "output_type": "stream",
     "text": [
      "OpenCV(4.5.5) /io/opencv/modules/imgproc/src/color.cpp:182: error: (-215:Assertion failed) !_src.empty() in function 'cvtColor'\n",
      "\n",
      "error in airplane_671.jpg\n",
      "544 airplane_007.jpg\n",
      "inside\n",
      "545 airplane_484.jpg\n"
     ]
    },
    {
     "name": "stderr",
     "output_type": "stream",
     "text": [
      "[ WARN:0@508.342] global /io/opencv/modules/imgcodecs/src/loadsave.cpp (239) findDecoder imread_('Images/airplane_484.jpg'): can't open/read file: check file path/integrity\n"
     ]
    },
    {
     "name": "stdout",
     "output_type": "stream",
     "text": [
      "OpenCV(4.5.5) /io/opencv/modules/imgproc/src/color.cpp:182: error: (-215:Assertion failed) !_src.empty() in function 'cvtColor'\n",
      "\n",
      "error in airplane_484.jpg\n",
      "546 airplane_645.jpg\n",
      "OpenCV(4.5.5) /io/opencv/modules/imgproc/src/color.cpp:182: error: (-215:Assertion failed) !_src.empty() in function 'cvtColor'\n",
      "\n",
      "error in airplane_645.jpg\n",
      "547 airplane_520.jpg\n",
      "OpenCV(4.5.5) /io/opencv/modules/imgproc/src/color.cpp:182: error: (-215:Assertion failed) !_src.empty() in function 'cvtColor'\n",
      "\n",
      "error in airplane_520.jpg\n",
      "548 airplane_242.jpg\n"
     ]
    },
    {
     "name": "stderr",
     "output_type": "stream",
     "text": [
      "[ WARN:0@509.071] global /io/opencv/modules/imgcodecs/src/loadsave.cpp (239) findDecoder imread_('Images/airplane_645.jpg'): can't open/read file: check file path/integrity\n",
      "[ WARN:0@509.080] global /io/opencv/modules/imgcodecs/src/loadsave.cpp (239) findDecoder imread_('Images/airplane_520.jpg'): can't open/read file: check file path/integrity\n"
     ]
    },
    {
     "name": "stdout",
     "output_type": "stream",
     "text": [
      "549 airplane_076.jpg\n",
      "550 airplane_083.jpg\n",
      "inside\n",
      "551 airplane_436.jpg\n",
      "OpenCV(4.5.5) /io/opencv/modules/imgproc/src/color.cpp:182: error: (-215:Assertion failed) !_src.empty() in function 'cvtColor'\n",
      "\n",
      "error in airplane_436.jpg\n",
      "552 airplane_644.jpg\n",
      "OpenCV(4.5.5) /io/opencv/modules/imgproc/src/color.cpp:182: error: (-215:Assertion failed) !_src.empty() in function 'cvtColor'\n",
      "\n",
      "error in airplane_644.jpg\n",
      "553 airplane_343.jpg\n"
     ]
    },
    {
     "name": "stderr",
     "output_type": "stream",
     "text": [
      "[ WARN:0@512.529] global /io/opencv/modules/imgcodecs/src/loadsave.cpp (239) findDecoder imread_('Images/airplane_436.jpg'): can't open/read file: check file path/integrity\n",
      "[ WARN:0@512.587] global /io/opencv/modules/imgcodecs/src/loadsave.cpp (239) findDecoder imread_('Images/airplane_644.jpg'): can't open/read file: check file path/integrity\n"
     ]
    },
    {
     "name": "stdout",
     "output_type": "stream",
     "text": [
      "inside\n",
      "554 airplane_492.jpg\n"
     ]
    },
    {
     "name": "stderr",
     "output_type": "stream",
     "text": [
      "[ WARN:0@514.295] global /io/opencv/modules/imgcodecs/src/loadsave.cpp (239) findDecoder imread_('Images/airplane_492.jpg'): can't open/read file: check file path/integrity\n"
     ]
    },
    {
     "name": "stdout",
     "output_type": "stream",
     "text": [
      "OpenCV(4.5.5) /io/opencv/modules/imgproc/src/color.cpp:182: error: (-215:Assertion failed) !_src.empty() in function 'cvtColor'\n",
      "\n",
      "error in airplane_492.jpg\n",
      "555 airplane_166.jpg\n",
      "556 airplane_013.jpg\n",
      "557 airplane_238.jpg\n",
      "558 airplane_526.jpg\n"
     ]
    },
    {
     "name": "stderr",
     "output_type": "stream",
     "text": [
      "[ WARN:0@520.626] global /io/opencv/modules/imgcodecs/src/loadsave.cpp (239) findDecoder imread_('Images/airplane_526.jpg'): can't open/read file: check file path/integrity\n"
     ]
    },
    {
     "name": "stdout",
     "output_type": "stream",
     "text": [
      "OpenCV(4.5.5) /io/opencv/modules/imgproc/src/color.cpp:182: error: (-215:Assertion failed) !_src.empty() in function 'cvtColor'\n",
      "\n",
      "error in airplane_526.jpg\n",
      "559 airplane_126.jpg\n",
      "inside\n",
      "560 airplane_381.jpg\n",
      "561 airplane_549.jpg\n",
      "OpenCV(4.5.5) /io/opencv/modules/imgproc/src/color.cpp:182: error: (-215:Assertion failed) !_src.empty() in function 'cvtColor'\n",
      "\n",
      "error in airplane_549.jpg\n",
      "562 airplane_268.jpg\n"
     ]
    },
    {
     "name": "stderr",
     "output_type": "stream",
     "text": [
      "[ WARN:0@522.323] global /io/opencv/modules/imgcodecs/src/loadsave.cpp (239) findDecoder imread_('Images/airplane_549.jpg'): can't open/read file: check file path/integrity\n"
     ]
    },
    {
     "name": "stdout",
     "output_type": "stream",
     "text": [
      "563 airplane_615.jpg\n",
      "OpenCV(4.5.5) /io/opencv/modules/imgproc/src/color.cpp:182: error: (-215:Assertion failed) !_src.empty() in function 'cvtColor'\n",
      "\n",
      "error in airplane_615.jpg\n",
      "564 airplane_649.jpg\n",
      "OpenCV(4.5.5) /io/opencv/modules/imgproc/src/color.cpp:182: error: (-215:Assertion failed) !_src.empty() in function 'cvtColor'\n",
      "\n",
      "error in airplane_649.jpg\n",
      "565 airplane_509.jpg\n",
      "OpenCV(4.5.5) /io/opencv/modules/imgproc/src/color.cpp:182: error: (-215:Assertion failed) !_src.empty() in function 'cvtColor'\n",
      "\n",
      "error in airplane_509.jpg\n",
      "566 airplane_462.jpg\n",
      "OpenCV(4.5.5) /io/opencv/modules/imgproc/src/color.cpp:182: error: (-215:Assertion failed) !_src.empty() in function 'cvtColor'\n",
      "\n",
      "error in airplane_462.jpg\n",
      "567 airplane_235.jpg\n"
     ]
    },
    {
     "name": "stderr",
     "output_type": "stream",
     "text": [
      "[ WARN:0@522.894] global /io/opencv/modules/imgcodecs/src/loadsave.cpp (239) findDecoder imread_('Images/airplane_615.jpg'): can't open/read file: check file path/integrity\n",
      "[ WARN:0@522.921] global /io/opencv/modules/imgcodecs/src/loadsave.cpp (239) findDecoder imread_('Images/airplane_649.jpg'): can't open/read file: check file path/integrity\n",
      "[ WARN:0@522.931] global /io/opencv/modules/imgcodecs/src/loadsave.cpp (239) findDecoder imread_('Images/airplane_509.jpg'): can't open/read file: check file path/integrity\n",
      "[ WARN:0@522.983] global /io/opencv/modules/imgcodecs/src/loadsave.cpp (239) findDecoder imread_('Images/airplane_462.jpg'): can't open/read file: check file path/integrity\n"
     ]
    },
    {
     "name": "stdout",
     "output_type": "stream",
     "text": [
      "568 airplane_691.jpg\n",
      "OpenCV(4.5.5) /io/opencv/modules/imgproc/src/color.cpp:182: error: (-215:Assertion failed) !_src.empty() in function 'cvtColor'\n",
      "\n",
      "error in airplane_691.jpg\n",
      "569 airplane_275.jpg\n"
     ]
    },
    {
     "name": "stderr",
     "output_type": "stream",
     "text": [
      "[ WARN:0@523.956] global /io/opencv/modules/imgcodecs/src/loadsave.cpp (239) findDecoder imread_('Images/airplane_691.jpg'): can't open/read file: check file path/integrity\n"
     ]
    },
    {
     "name": "stdout",
     "output_type": "stream",
     "text": [
      "570 airplane_277.jpg\n",
      "571 airplane_478.jpg\n",
      "OpenCV(4.5.5) /io/opencv/modules/imgproc/src/color.cpp:182: error: (-215:Assertion failed) !_src.empty() in function 'cvtColor'\n",
      "\n",
      "error in airplane_478.jpg\n",
      "572 airplane_153.jpg\n"
     ]
    },
    {
     "name": "stderr",
     "output_type": "stream",
     "text": [
      "[ WARN:0@524.959] global /io/opencv/modules/imgcodecs/src/loadsave.cpp (239) findDecoder imread_('Images/airplane_478.jpg'): can't open/read file: check file path/integrity\n"
     ]
    },
    {
     "name": "stdout",
     "output_type": "stream",
     "text": [
      "573 airplane_638.jpg\n",
      "OpenCV(4.5.5) /io/opencv/modules/imgproc/src/color.cpp:182: error: (-215:Assertion failed) !_src.empty() in function 'cvtColor'\n",
      "\n",
      "error in airplane_638.jpg\n",
      "574 airplane_100.jpg\n"
     ]
    },
    {
     "name": "stderr",
     "output_type": "stream",
     "text": [
      "[ WARN:0@526.076] global /io/opencv/modules/imgcodecs/src/loadsave.cpp (239) findDecoder imread_('Images/airplane_638.jpg'): can't open/read file: check file path/integrity\n"
     ]
    },
    {
     "name": "stdout",
     "output_type": "stream",
     "text": [
      "575 airplane_582.jpg\n"
     ]
    },
    {
     "name": "stderr",
     "output_type": "stream",
     "text": [
      "[ WARN:0@526.975] global /io/opencv/modules/imgcodecs/src/loadsave.cpp (239) findDecoder imread_('Images/airplane_582.jpg'): can't open/read file: check file path/integrity\n"
     ]
    },
    {
     "name": "stdout",
     "output_type": "stream",
     "text": [
      "OpenCV(4.5.5) /io/opencv/modules/imgproc/src/color.cpp:182: error: (-215:Assertion failed) !_src.empty() in function 'cvtColor'\n",
      "\n",
      "error in airplane_582.jpg\n",
      "576 airplane_500.jpg\n"
     ]
    },
    {
     "name": "stderr",
     "output_type": "stream",
     "text": [
      "[ WARN:0@527.564] global /io/opencv/modules/imgcodecs/src/loadsave.cpp (239) findDecoder imread_('Images/airplane_500.jpg'): can't open/read file: check file path/integrity\n"
     ]
    },
    {
     "name": "stdout",
     "output_type": "stream",
     "text": [
      "OpenCV(4.5.5) /io/opencv/modules/imgproc/src/color.cpp:182: error: (-215:Assertion failed) !_src.empty() in function 'cvtColor'\n",
      "\n",
      "error in airplane_500.jpg\n",
      "577 airplane_583.jpg\n",
      "OpenCV(4.5.5) /io/opencv/modules/imgproc/src/color.cpp:182: error: (-215:Assertion failed) !_src.empty() in function 'cvtColor'\n",
      "\n",
      "error in airplane_583.jpg\n",
      "578 airplane_448.jpg\n",
      "OpenCV(4.5.5) /io/opencv/modules/imgproc/src/color.cpp:182: error: (-215:Assertion failed) !_src.empty() in function 'cvtColor'\n",
      "\n",
      "error in airplane_448.jpg\n",
      "579 airplane_564.jpg\n"
     ]
    },
    {
     "name": "stderr",
     "output_type": "stream",
     "text": [
      "[ WARN:0@528.659] global /io/opencv/modules/imgcodecs/src/loadsave.cpp (239) findDecoder imread_('Images/airplane_583.jpg'): can't open/read file: check file path/integrity\n",
      "[ WARN:0@528.685] global /io/opencv/modules/imgcodecs/src/loadsave.cpp (239) findDecoder imread_('Images/airplane_448.jpg'): can't open/read file: check file path/integrity\n",
      "[ WARN:0@528.689] global /io/opencv/modules/imgcodecs/src/loadsave.cpp (239) findDecoder imread_('Images/airplane_564.jpg'): can't open/read file: check file path/integrity\n"
     ]
    },
    {
     "name": "stdout",
     "output_type": "stream",
     "text": [
      "OpenCV(4.5.5) /io/opencv/modules/imgproc/src/color.cpp:182: error: (-215:Assertion failed) !_src.empty() in function 'cvtColor'\n",
      "\n",
      "error in airplane_564.jpg\n",
      "580 airplane_438.jpg\n",
      "OpenCV(4.5.5) /io/opencv/modules/imgproc/src/color.cpp:182: error: (-215:Assertion failed) !_src.empty() in function 'cvtColor'\n",
      "\n",
      "error in airplane_438.jpg\n",
      "581 airplane_204.jpg\n"
     ]
    },
    {
     "name": "stderr",
     "output_type": "stream",
     "text": [
      "[ WARN:0@529.120] global /io/opencv/modules/imgcodecs/src/loadsave.cpp (239) findDecoder imread_('Images/airplane_438.jpg'): can't open/read file: check file path/integrity\n"
     ]
    },
    {
     "name": "stdout",
     "output_type": "stream",
     "text": [
      "582 airplane_329.jpg\n",
      "583 airplane_495.jpg\n"
     ]
    },
    {
     "name": "stderr",
     "output_type": "stream",
     "text": [
      "[ WARN:0@531.875] global /io/opencv/modules/imgcodecs/src/loadsave.cpp (239) findDecoder imread_('Images/airplane_495.jpg'): can't open/read file: check file path/integrity\n"
     ]
    },
    {
     "name": "stdout",
     "output_type": "stream",
     "text": [
      "OpenCV(4.5.5) /io/opencv/modules/imgproc/src/color.cpp:182: error: (-215:Assertion failed) !_src.empty() in function 'cvtColor'\n",
      "\n",
      "error in airplane_495.jpg\n",
      "584 airplane_429.jpg\n",
      "OpenCV(4.5.5) /io/opencv/modules/imgproc/src/color.cpp:182: error: (-215:Assertion failed) !_src.empty() in function 'cvtColor'\n",
      "\n",
      "error in airplane_429.jpg\n",
      "585 airplane_418.jpg\n",
      "OpenCV(4.5.5) /io/opencv/modules/imgproc/src/color.cpp:182: error: (-215:Assertion failed) !_src.empty() in function 'cvtColor'\n",
      "\n",
      "error in airplane_418.jpg\n",
      "586 airplane_135.jpg\n"
     ]
    },
    {
     "name": "stderr",
     "output_type": "stream",
     "text": [
      "[ WARN:0@532.099] global /io/opencv/modules/imgcodecs/src/loadsave.cpp (239) findDecoder imread_('Images/airplane_429.jpg'): can't open/read file: check file path/integrity\n",
      "[ WARN:0@532.108] global /io/opencv/modules/imgcodecs/src/loadsave.cpp (239) findDecoder imread_('Images/airplane_418.jpg'): can't open/read file: check file path/integrity\n"
     ]
    },
    {
     "name": "stdout",
     "output_type": "stream",
     "text": [
      "588 airplane_632.jpg\n",
      "OpenCV(4.5.5) /io/opencv/modules/imgproc/src/color.cpp:182: error: (-215:Assertion failed) !_src.empty() in function 'cvtColor'\n",
      "\n",
      "error in airplane_632.jpg\n",
      "589 airplane_323.jpg\n"
     ]
    },
    {
     "name": "stderr",
     "output_type": "stream",
     "text": [
      "[ WARN:0@533.459] global /io/opencv/modules/imgcodecs/src/loadsave.cpp (239) findDecoder imread_('Images/airplane_632.jpg'): can't open/read file: check file path/integrity\n"
     ]
    },
    {
     "name": "stdout",
     "output_type": "stream",
     "text": [
      "590 airplane_425.jpg\n"
     ]
    },
    {
     "name": "stderr",
     "output_type": "stream",
     "text": [
      "[ WARN:0@534.806] global /io/opencv/modules/imgcodecs/src/loadsave.cpp (239) findDecoder imread_('Images/airplane_425.jpg'): can't open/read file: check file path/integrity\n"
     ]
    },
    {
     "name": "stdout",
     "output_type": "stream",
     "text": [
      "OpenCV(4.5.5) /io/opencv/modules/imgproc/src/color.cpp:182: error: (-215:Assertion failed) !_src.empty() in function 'cvtColor'\n",
      "\n",
      "error in airplane_425.jpg\n",
      "591 airplane_136.jpg\n",
      "inside\n",
      "592 airplane_320.jpg\n",
      "593 airplane_069.jpg\n",
      "594 airplane_080.jpg\n",
      "595 airplane_097.jpg\n",
      "inside\n",
      "596 airplane_491.jpg\n"
     ]
    },
    {
     "name": "stderr",
     "output_type": "stream",
     "text": [
      "[ WARN:0@542.465] global /io/opencv/modules/imgcodecs/src/loadsave.cpp (239) findDecoder imread_('Images/airplane_491.jpg'): can't open/read file: check file path/integrity\n"
     ]
    },
    {
     "name": "stdout",
     "output_type": "stream",
     "text": [
      "OpenCV(4.5.5) /io/opencv/modules/imgproc/src/color.cpp:182: error: (-215:Assertion failed) !_src.empty() in function 'cvtColor'\n",
      "\n",
      "error in airplane_491.jpg\n",
      "597 airplane_475.jpg\n",
      "OpenCV(4.5.5) /io/opencv/modules/imgproc/src/color.cpp:182: error: (-215:Assertion failed) !_src.empty() in function 'cvtColor'\n",
      "\n",
      "error in airplane_475.jpg\n",
      "598 airplane_471.jpg\n",
      "OpenCV(4.5.5) /io/opencv/modules/imgproc/src/color.cpp:182: error: (-215:Assertion failed) !_src.empty() in function 'cvtColor'\n",
      "\n",
      "error in airplane_471.jpg\n",
      "599 airplane_521.jpg\n",
      "OpenCV(4.5.5) /io/opencv/modules/imgproc/src/color.cpp:182: error: (-215:Assertion failed) !_src.empty() in function 'cvtColor'\n",
      "\n",
      "error in airplane_521.jpg\n",
      "600 airplane_316.jpg\n"
     ]
    },
    {
     "name": "stderr",
     "output_type": "stream",
     "text": [
      "[ WARN:0@542.692] global /io/opencv/modules/imgcodecs/src/loadsave.cpp (239) findDecoder imread_('Images/airplane_475.jpg'): can't open/read file: check file path/integrity\n",
      "[ WARN:0@542.703] global /io/opencv/modules/imgcodecs/src/loadsave.cpp (239) findDecoder imread_('Images/airplane_471.jpg'): can't open/read file: check file path/integrity\n",
      "[ WARN:0@542.710] global /io/opencv/modules/imgcodecs/src/loadsave.cpp (239) findDecoder imread_('Images/airplane_521.jpg'): can't open/read file: check file path/integrity\n"
     ]
    },
    {
     "name": "stdout",
     "output_type": "stream",
     "text": [
      "601 airplane_221.jpg\n",
      "602 airplane_633.jpg\n",
      "OpenCV(4.5.5) /io/opencv/modules/imgproc/src/color.cpp:182: error: (-215:Assertion failed) !_src.empty() in function 'cvtColor'\n",
      "\n",
      "error in airplane_633.jpg\n",
      "603 airplane_637.jpg\n"
     ]
    },
    {
     "name": "stderr",
     "output_type": "stream",
     "text": [
      "[ WARN:0@544.724] global /io/opencv/modules/imgcodecs/src/loadsave.cpp (239) findDecoder imread_('Images/airplane_633.jpg'): can't open/read file: check file path/integrity\n",
      "[ WARN:0@544.726] global /io/opencv/modules/imgcodecs/src/loadsave.cpp (239) findDecoder imread_('Images/airplane_637.jpg'): can't open/read file: check file path/integrity\n"
     ]
    },
    {
     "name": "stdout",
     "output_type": "stream",
     "text": [
      "OpenCV(4.5.5) /io/opencv/modules/imgproc/src/color.cpp:182: error: (-215:Assertion failed) !_src.empty() in function 'cvtColor'\n",
      "\n",
      "error in airplane_637.jpg\n",
      "605 airplane_534.jpg\n",
      "OpenCV(4.5.5) /io/opencv/modules/imgproc/src/color.cpp:182: error: (-215:Assertion failed) !_src.empty() in function 'cvtColor'\n",
      "\n",
      "error in airplane_534.jpg\n",
      "606 airplane_403.jpg\n"
     ]
    },
    {
     "name": "stderr",
     "output_type": "stream",
     "text": [
      "[ WARN:0@544.980] global /io/opencv/modules/imgcodecs/src/loadsave.cpp (239) findDecoder imread_('Images/airplane_534.jpg'): can't open/read file: check file path/integrity\n"
     ]
    },
    {
     "name": "stdout",
     "output_type": "stream",
     "text": [
      "607 airplane_009.jpg\n",
      "608 airplane_294.jpg\n",
      "609 airplane_193.jpg\n",
      "610 airplane_485.jpg\n"
     ]
    },
    {
     "name": "stderr",
     "output_type": "stream",
     "text": [
      "[ WARN:0@550.810] global /io/opencv/modules/imgcodecs/src/loadsave.cpp (239) findDecoder imread_('Images/airplane_485.jpg'): can't open/read file: check file path/integrity\n"
     ]
    },
    {
     "name": "stdout",
     "output_type": "stream",
     "text": [
      "OpenCV(4.5.5) /io/opencv/modules/imgproc/src/color.cpp:182: error: (-215:Assertion failed) !_src.empty() in function 'cvtColor'\n",
      "\n",
      "error in airplane_485.jpg\n",
      "611 airplane_049.jpg\n",
      "612 airplane_394.jpg\n",
      "613 airplane_127.jpg\n",
      "614 airplane_634.jpg\n"
     ]
    },
    {
     "name": "stderr",
     "output_type": "stream",
     "text": [
      "[ WARN:0@558.021] global /io/opencv/modules/imgcodecs/src/loadsave.cpp (239) findDecoder imread_('Images/airplane_634.jpg'): can't open/read file: check file path/integrity\n"
     ]
    },
    {
     "name": "stdout",
     "output_type": "stream",
     "text": [
      "OpenCV(4.5.5) /io/opencv/modules/imgproc/src/color.cpp:182: error: (-215:Assertion failed) !_src.empty() in function 'cvtColor'\n",
      "\n",
      "error in airplane_634.jpg\n",
      "615 airplane_488.jpg\n"
     ]
    },
    {
     "name": "stderr",
     "output_type": "stream",
     "text": [
      "[ WARN:0@558.329] global /io/opencv/modules/imgcodecs/src/loadsave.cpp (239) findDecoder imread_('Images/airplane_488.jpg'): can't open/read file: check file path/integrity\n"
     ]
    },
    {
     "name": "stdout",
     "output_type": "stream",
     "text": [
      "OpenCV(4.5.5) /io/opencv/modules/imgproc/src/color.cpp:182: error: (-215:Assertion failed) !_src.empty() in function 'cvtColor'\n",
      "\n",
      "error in airplane_488.jpg\n",
      "616 airplane_385.jpg\n",
      "inside\n",
      "617 airplane_611.jpg\n"
     ]
    },
    {
     "name": "stderr",
     "output_type": "stream",
     "text": [
      "[ WARN:0@561.830] global /io/opencv/modules/imgcodecs/src/loadsave.cpp (239) findDecoder imread_('Images/airplane_611.jpg'): can't open/read file: check file path/integrity\n"
     ]
    },
    {
     "name": "stdout",
     "output_type": "stream",
     "text": [
      "OpenCV(4.5.5) /io/opencv/modules/imgproc/src/color.cpp:182: error: (-215:Assertion failed) !_src.empty() in function 'cvtColor'\n",
      "\n",
      "error in airplane_611.jpg\n",
      "618 airplane_458.jpg\n"
     ]
    },
    {
     "name": "stderr",
     "output_type": "stream",
     "text": [
      "[ WARN:0@562.302] global /io/opencv/modules/imgcodecs/src/loadsave.cpp (239) findDecoder imread_('Images/airplane_458.jpg'): can't open/read file: check file path/integrity\n"
     ]
    },
    {
     "name": "stdout",
     "output_type": "stream",
     "text": [
      "OpenCV(4.5.5) /io/opencv/modules/imgproc/src/color.cpp:182: error: (-215:Assertion failed) !_src.empty() in function 'cvtColor'\n",
      "\n",
      "error in airplane_458.jpg\n",
      "619 airplane_347.jpg\n",
      "inside\n",
      "620 airplane_195.jpg\n",
      "621 airplane_619.jpg\n"
     ]
    },
    {
     "name": "stderr",
     "output_type": "stream",
     "text": [
      "[ WARN:0@564.904] global /io/opencv/modules/imgcodecs/src/loadsave.cpp (239) findDecoder imread_('Images/airplane_619.jpg'): can't open/read file: check file path/integrity\n"
     ]
    },
    {
     "name": "stdout",
     "output_type": "stream",
     "text": [
      "OpenCV(4.5.5) /io/opencv/modules/imgproc/src/color.cpp:182: error: (-215:Assertion failed) !_src.empty() in function 'cvtColor'\n",
      "\n",
      "error in airplane_619.jpg\n",
      "622 airplane_668.jpg\n"
     ]
    },
    {
     "name": "stderr",
     "output_type": "stream",
     "text": [
      "[ WARN:0@565.397] global /io/opencv/modules/imgcodecs/src/loadsave.cpp (239) findDecoder imread_('Images/airplane_668.jpg'): can't open/read file: check file path/integrity\n"
     ]
    },
    {
     "name": "stdout",
     "output_type": "stream",
     "text": [
      "OpenCV(4.5.5) /io/opencv/modules/imgproc/src/color.cpp:182: error: (-215:Assertion failed) !_src.empty() in function 'cvtColor'\n",
      "\n",
      "error in airplane_668.jpg\n",
      "623 airplane_038.jpg\n",
      "624 airplane_088.jpg\n",
      "625 airplane_053.jpg\n",
      "inside\n",
      "626 airplane_604.jpg\n",
      "OpenCV(4.5.5) /io/opencv/modules/imgproc/src/color.cpp:182: error: (-215:Assertion failed) !_src.empty() in function 'cvtColor'\n",
      "\n",
      "error in airplane_604.jpg\n",
      "627 airplane_535.jpg\n",
      "OpenCV(4.5.5) /io/opencv/modules/imgproc/src/color.cpp:182: error: (-215:Assertion failed) !_src.empty() in function 'cvtColor'\n",
      "\n",
      "error in airplane_535.jpg\n",
      "628 airplane_406.jpg\n"
     ]
    },
    {
     "name": "stderr",
     "output_type": "stream",
     "text": [
      "[ WARN:0@571.091] global /io/opencv/modules/imgcodecs/src/loadsave.cpp (239) findDecoder imread_('Images/airplane_604.jpg'): can't open/read file: check file path/integrity\n",
      "[ WARN:0@571.195] global /io/opencv/modules/imgcodecs/src/loadsave.cpp (239) findDecoder imread_('Images/airplane_535.jpg'): can't open/read file: check file path/integrity\n"
     ]
    },
    {
     "name": "stdout",
     "output_type": "stream",
     "text": [
      "629 airplane_426.jpg\n",
      "OpenCV(4.5.5) /io/opencv/modules/imgproc/src/color.cpp:182: error: (-215:Assertion failed) !_src.empty() in function 'cvtColor'\n",
      "\n",
      "error in airplane_426.jpg\n",
      "630 airplane_410.jpg\n"
     ]
    },
    {
     "name": "stderr",
     "output_type": "stream",
     "text": [
      "[ WARN:0@571.973] global /io/opencv/modules/imgcodecs/src/loadsave.cpp (239) findDecoder imread_('Images/airplane_426.jpg'): can't open/read file: check file path/integrity\n"
     ]
    },
    {
     "name": "stdout",
     "output_type": "stream",
     "text": [
      "631 airplane_324.jpg\n",
      "632 airplane_209.jpg\n",
      "633 airplane_568.jpg\n",
      "OpenCV(4.5.5) /io/opencv/modules/imgproc/src/color.cpp:182: error: (-215:Assertion failed) !_src.empty() in function 'cvtColor'\n",
      "\n",
      "error in airplane_568.jpg\n",
      "634 airplane_514.jpg\n",
      "OpenCV(4.5.5) /io/opencv/modules/imgproc/src/color.cpp:182: error: (-215:Assertion failed) !_src.empty() in function 'cvtColor'\n",
      "\n",
      "error in airplane_514.jpg\n",
      "635 airplane_447.jpg\n",
      "OpenCV(4.5.5) /io/opencv/modules/imgproc/src/color.cpp:182: error: (-215:Assertion failed) !_src.empty() in function 'cvtColor'\n",
      "\n",
      "error in airplane_447.jpg\n",
      "636 airplane_550.jpg\n",
      "OpenCV(4.5.5) /io/opencv/modules/imgproc/src/color.cpp:182: error: (-215:Assertion failed) !_src.empty() in function 'cvtColor'\n",
      "\n",
      "error in airplane_550.jpg\n",
      "637 airplane_497.jpg\n",
      "OpenCV(4.5.5) /io/opencv/modules/imgproc/src/color.cpp:182: error: (-215:Assertion failed) !_src.empty() in function 'cvtColor'\n",
      "\n",
      "error in airplane_497.jpg\n",
      "638 airplane_539.jpg\n",
      "OpenCV(4.5.5) /io/opencv/modules/imgproc/src/color.cpp:182: error: (-215:Assertion failed) !_src.empty() in function 'cvtColor'\n",
      "\n",
      "error in airplane_539.jpg\n",
      "639 airplane_383.jpg\n"
     ]
    },
    {
     "name": "stderr",
     "output_type": "stream",
     "text": [
      "[ WARN:0@574.798] global /io/opencv/modules/imgcodecs/src/loadsave.cpp (239) findDecoder imread_('Images/airplane_568.jpg'): can't open/read file: check file path/integrity\n",
      "[ WARN:0@574.830] global /io/opencv/modules/imgcodecs/src/loadsave.cpp (239) findDecoder imread_('Images/airplane_514.jpg'): can't open/read file: check file path/integrity\n",
      "[ WARN:0@574.832] global /io/opencv/modules/imgcodecs/src/loadsave.cpp (239) findDecoder imread_('Images/airplane_447.jpg'): can't open/read file: check file path/integrity\n",
      "[ WARN:0@574.857] global /io/opencv/modules/imgcodecs/src/loadsave.cpp (239) findDecoder imread_('Images/airplane_550.jpg'): can't open/read file: check file path/integrity\n",
      "[ WARN:0@574.859] global /io/opencv/modules/imgcodecs/src/loadsave.cpp (239) findDecoder imread_('Images/airplane_497.jpg'): can't open/read file: check file path/integrity\n",
      "[ WARN:0@574.861] global /io/opencv/modules/imgcodecs/src/loadsave.cpp (239) findDecoder imread_('Images/airplane_539.jpg'): can't open/read file: check file path/integrity\n"
     ]
    },
    {
     "name": "stdout",
     "output_type": "stream",
     "text": [
      "inside\n",
      "640 airplane_449.jpg\n",
      "OpenCV(4.5.5) /io/opencv/modules/imgproc/src/color.cpp:182: error: (-215:Assertion failed) !_src.empty() in function 'cvtColor'\n",
      "\n",
      "error in airplane_449.jpg\n",
      "641 airplane_663.jpg\n",
      "OpenCV(4.5.5) /io/opencv/modules/imgproc/src/color.cpp:182: error: (-215:Assertion failed) !_src.empty() in function 'cvtColor'\n",
      "\n",
      "error in airplane_663.jpg\n",
      "642 airplane_460.jpg\n",
      "OpenCV(4.5.5) /io/opencv/modules/imgproc/src/color.cpp:182: error: (-215:Assertion failed) !_src.empty() in function 'cvtColor'\n",
      "\n",
      "error in airplane_460.jpg\n",
      "643 airplane_269.jpg\n"
     ]
    },
    {
     "name": "stderr",
     "output_type": "stream",
     "text": [
      "[ WARN:0@575.280] global /io/opencv/modules/imgcodecs/src/loadsave.cpp (239) findDecoder imread_('Images/airplane_449.jpg'): can't open/read file: check file path/integrity\n",
      "[ WARN:0@575.282] global /io/opencv/modules/imgcodecs/src/loadsave.cpp (239) findDecoder imread_('Images/airplane_663.jpg'): can't open/read file: check file path/integrity\n",
      "[ WARN:0@575.284] global /io/opencv/modules/imgcodecs/src/loadsave.cpp (239) findDecoder imread_('Images/airplane_460.jpg'): can't open/read file: check file path/integrity\n"
     ]
    },
    {
     "name": "stdout",
     "output_type": "stream",
     "text": [
      "644 airplane_625.jpg\n",
      "OpenCV(4.5.5) /io/opencv/modules/imgproc/src/color.cpp:182: error: (-215:Assertion failed) !_src.empty() in function 'cvtColor'\n",
      "\n",
      "error in airplane_625.jpg\n",
      "645 airplane_163.jpg\n"
     ]
    },
    {
     "name": "stderr",
     "output_type": "stream",
     "text": [
      "[ WARN:0@575.746] global /io/opencv/modules/imgcodecs/src/loadsave.cpp (239) findDecoder imread_('Images/airplane_625.jpg'): can't open/read file: check file path/integrity\n"
     ]
    },
    {
     "name": "stdout",
     "output_type": "stream",
     "text": [
      "646 airplane_612.jpg\n",
      "OpenCV(4.5.5) /io/opencv/modules/imgproc/src/color.cpp:182: error: (-215:Assertion failed) !_src.empty() in function 'cvtColor'\n",
      "\n",
      "error in airplane_612.jpg\n",
      "647 airplane_621.jpg\n",
      "OpenCV(4.5.5) /io/opencv/modules/imgproc/src/color.cpp:182: error: (-215:Assertion failed) !_src.empty() in function 'cvtColor'\n",
      "\n",
      "error in airplane_621.jpg\n",
      "649 airplane_609.jpg\n",
      "OpenCV(4.5.5) /io/opencv/modules/imgproc/src/color.cpp:182: error: (-215:Assertion failed) !_src.empty() in function 'cvtColor'\n",
      "\n",
      "error in airplane_609.jpg\n",
      "650 airplane_669.jpg\n",
      "OpenCV(4.5.5) /io/opencv/modules/imgproc/src/color.cpp:182: error: (-215:Assertion failed) !_src.empty() in function 'cvtColor'\n",
      "\n",
      "error in airplane_669.jpg\n",
      "651 airplane_413.jpg\n"
     ]
    },
    {
     "name": "stderr",
     "output_type": "stream",
     "text": [
      "[ WARN:0@576.169] global /io/opencv/modules/imgcodecs/src/loadsave.cpp (239) findDecoder imread_('Images/airplane_612.jpg'): can't open/read file: check file path/integrity\n",
      "[ WARN:0@576.171] global /io/opencv/modules/imgcodecs/src/loadsave.cpp (239) findDecoder imread_('Images/airplane_621.jpg'): can't open/read file: check file path/integrity\n",
      "[ WARN:0@576.173] global /io/opencv/modules/imgcodecs/src/loadsave.cpp (239) findDecoder imread_('Images/airplane_609.jpg'): can't open/read file: check file path/integrity\n",
      "[ WARN:0@576.175] global /io/opencv/modules/imgcodecs/src/loadsave.cpp (239) findDecoder imread_('Images/airplane_669.jpg'): can't open/read file: check file path/integrity\n"
     ]
    },
    {
     "name": "stdout",
     "output_type": "stream",
     "text": [
      "652 airplane_158.jpg\n",
      "653 airplane_311.jpg\n",
      "654 airplane_111.jpg\n",
      "655 airplane_305.jpg\n",
      "inside\n",
      "656 airplane_569.jpg\n",
      "OpenCV(4.5.5) /io/opencv/modules/imgproc/src/color.cpp:182: error: (-215:Assertion failed) !_src.empty() in function 'cvtColor'\n",
      "\n",
      "error in airplane_569.jpg\n",
      "657 airplane_639.jpg\n",
      "OpenCV(4.5.5) /io/opencv/modules/imgproc/src/color.cpp:182: error: (-215:Assertion failed) !_src.empty() in function 'cvtColor'\n",
      "\n",
      "error in airplane_639.jpg\n",
      "658 airplane_699.jpg\n",
      "OpenCV(4.5.5) /io/opencv/modules/imgproc/src/color.cpp:182: error: (-215:Assertion failed) !_src.empty() in function 'cvtColor'\n",
      "\n",
      "error in airplane_699.jpg\n",
      "659 airplane_585.jpg\n",
      "OpenCV(4.5.5) /io/opencv/modules/imgproc/src/color.cpp:182: error: (-215:Assertion failed) !_src.empty() in function 'cvtColor'\n",
      "\n",
      "error in airplane_585.jpg\n",
      "660 airplane_244.jpg\n"
     ]
    },
    {
     "name": "stderr",
     "output_type": "stream",
     "text": [
      "[ WARN:0@580.694] global /io/opencv/modules/imgcodecs/src/loadsave.cpp (239) findDecoder imread_('Images/airplane_569.jpg'): can't open/read file: check file path/integrity\n",
      "[ WARN:0@580.698] global /io/opencv/modules/imgcodecs/src/loadsave.cpp (239) findDecoder imread_('Images/airplane_639.jpg'): can't open/read file: check file path/integrity\n",
      "[ WARN:0@580.702] global /io/opencv/modules/imgcodecs/src/loadsave.cpp (239) findDecoder imread_('Images/airplane_699.jpg'): can't open/read file: check file path/integrity\n",
      "[ WARN:0@580.722] global /io/opencv/modules/imgcodecs/src/loadsave.cpp (239) findDecoder imread_('Images/airplane_585.jpg'): can't open/read file: check file path/integrity\n"
     ]
    },
    {
     "name": "stdout",
     "output_type": "stream",
     "text": [
      "661 airplane_695.jpg\n",
      "OpenCV(4.5.5) /io/opencv/modules/imgproc/src/color.cpp:182: error: (-215:Assertion failed) !_src.empty() in function 'cvtColor'\n",
      "\n",
      "error in airplane_695.jpg\n",
      "662 airplane_237.jpg\n"
     ]
    },
    {
     "name": "stderr",
     "output_type": "stream",
     "text": [
      "[ WARN:0@581.244] global /io/opencv/modules/imgcodecs/src/loadsave.cpp (239) findDecoder imread_('Images/airplane_695.jpg'): can't open/read file: check file path/integrity\n"
     ]
    },
    {
     "name": "stdout",
     "output_type": "stream",
     "text": [
      "663 airplane_113.jpg\n",
      "664 airplane_657.jpg\n",
      "OpenCV(4.5.5) /io/opencv/modules/imgproc/src/color.cpp:182: error: (-215:Assertion failed) !_src.empty() in function 'cvtColor'\n",
      "\n",
      "error in airplane_657.jpg\n",
      "665 airplane_511.jpg\n",
      "OpenCV(4.5.5) /io/opencv/modules/imgproc/src/color.cpp:182: error: (-215:Assertion failed) !_src.empty() in function 'cvtColor'\n",
      "\n",
      "error in airplane_511.jpg\n",
      "666 airplane_211.jpg\n"
     ]
    },
    {
     "name": "stderr",
     "output_type": "stream",
     "text": [
      "[ WARN:0@582.118] global /io/opencv/modules/imgcodecs/src/loadsave.cpp (239) findDecoder imread_('Images/airplane_657.jpg'): can't open/read file: check file path/integrity\n",
      "[ WARN:0@582.120] global /io/opencv/modules/imgcodecs/src/loadsave.cpp (239) findDecoder imread_('Images/airplane_511.jpg'): can't open/read file: check file path/integrity\n"
     ]
    },
    {
     "name": "stdout",
     "output_type": "stream",
     "text": [
      "667 airplane_031.jpg\n",
      "668 airplane_247.jpg\n",
      "669 airplane_131.jpg\n",
      "670 airplane_342.jpg\n",
      "671 airplane_375.jpg\n",
      "672 airplane_414.jpg\n",
      "673 airplane_051.jpg\n",
      "674 airplane_554.jpg\n"
     ]
    },
    {
     "name": "stderr",
     "output_type": "stream",
     "text": [
      "[ WARN:0@590.222] global /io/opencv/modules/imgcodecs/src/loadsave.cpp (239) findDecoder imread_('Images/airplane_554.jpg'): can't open/read file: check file path/integrity\n"
     ]
    },
    {
     "name": "stdout",
     "output_type": "stream",
     "text": [
      "OpenCV(4.5.5) /io/opencv/modules/imgproc/src/color.cpp:182: error: (-215:Assertion failed) !_src.empty() in function 'cvtColor'\n",
      "\n",
      "error in airplane_554.jpg\n",
      "675 airplane_227.jpg\n",
      "676 airplane_057.jpg\n",
      "678 airplane_344.jpg\n",
      "680 airplane_094.jpg\n",
      "681 airplane_608.jpg\n"
     ]
    },
    {
     "name": "stderr",
     "output_type": "stream",
     "text": [
      "[ WARN:0@596.608] global /io/opencv/modules/imgcodecs/src/loadsave.cpp (239) findDecoder imread_('Images/airplane_608.jpg'): can't open/read file: check file path/integrity\n"
     ]
    },
    {
     "name": "stdout",
     "output_type": "stream",
     "text": [
      "OpenCV(4.5.5) /io/opencv/modules/imgproc/src/color.cpp:182: error: (-215:Assertion failed) !_src.empty() in function 'cvtColor'\n",
      "\n",
      "error in airplane_608.jpg\n",
      "682 airplane_120.jpg\n",
      "inside\n",
      "683 airplane_412.jpg\n",
      "684 airplane_198.jpg\n",
      "685 airplane_229.jpg\n",
      "686 airplane_636.jpg\n"
     ]
    },
    {
     "name": "stderr",
     "output_type": "stream",
     "text": [
      "[ WARN:0@602.471] global /io/opencv/modules/imgcodecs/src/loadsave.cpp (239) findDecoder imread_('Images/airplane_636.jpg'): can't open/read file: check file path/integrity\n"
     ]
    },
    {
     "name": "stdout",
     "output_type": "stream",
     "text": [
      "OpenCV(4.5.5) /io/opencv/modules/imgproc/src/color.cpp:182: error: (-215:Assertion failed) !_src.empty() in function 'cvtColor'\n",
      "\n",
      "error in airplane_636.jpg\n",
      "687 airplane_402.jpg\n",
      "688 airplane_314.jpg\n",
      "689 airplane_245.jpg\n",
      "690 airplane_395.jpg\n",
      "691 airplane_026.jpg\n",
      "692 airplane_620.jpg\n"
     ]
    },
    {
     "name": "stderr",
     "output_type": "stream",
     "text": [
      "[ WARN:0@607.919] global /io/opencv/modules/imgcodecs/src/loadsave.cpp (239) findDecoder imread_('Images/airplane_620.jpg'): can't open/read file: check file path/integrity\n"
     ]
    },
    {
     "name": "stdout",
     "output_type": "stream",
     "text": [
      "OpenCV(4.5.5) /io/opencv/modules/imgproc/src/color.cpp:182: error: (-215:Assertion failed) !_src.empty() in function 'cvtColor'\n",
      "\n",
      "error in airplane_620.jpg\n",
      "693 airplane_317.jpg\n",
      "694 airplane_207.jpg\n",
      "695 airplane_643.jpg\n"
     ]
    },
    {
     "name": "stderr",
     "output_type": "stream",
     "text": [
      "[ WARN:0@611.186] global /io/opencv/modules/imgcodecs/src/loadsave.cpp (239) findDecoder imread_('Images/airplane_643.jpg'): can't open/read file: check file path/integrity\n"
     ]
    },
    {
     "name": "stdout",
     "output_type": "stream",
     "text": [
      "OpenCV(4.5.5) /io/opencv/modules/imgproc/src/color.cpp:182: error: (-215:Assertion failed) !_src.empty() in function 'cvtColor'\n",
      "\n",
      "error in airplane_643.jpg\n",
      "697 airplane_260.jpg\n",
      "698 airplane_437.jpg\n"
     ]
    },
    {
     "name": "stderr",
     "output_type": "stream",
     "text": [
      "[ WARN:0@612.793] global /io/opencv/modules/imgcodecs/src/loadsave.cpp (239) findDecoder imread_('Images/airplane_437.jpg'): can't open/read file: check file path/integrity\n"
     ]
    },
    {
     "name": "stdout",
     "output_type": "stream",
     "text": [
      "OpenCV(4.5.5) /io/opencv/modules/imgproc/src/color.cpp:182: error: (-215:Assertion failed) !_src.empty() in function 'cvtColor'\n",
      "\n",
      "error in airplane_437.jpg\n",
      "699 airplane_642.jpg\n"
     ]
    },
    {
     "name": "stderr",
     "output_type": "stream",
     "text": [
      "[ WARN:0@613.444] global /io/opencv/modules/imgcodecs/src/loadsave.cpp (239) findDecoder imread_('Images/airplane_642.jpg'): can't open/read file: check file path/integrity\n"
     ]
    },
    {
     "name": "stdout",
     "output_type": "stream",
     "text": [
      "OpenCV(4.5.5) /io/opencv/modules/imgproc/src/color.cpp:182: error: (-215:Assertion failed) !_src.empty() in function 'cvtColor'\n",
      "\n",
      "error in airplane_642.jpg\n",
      "700 airplane_544.jpg\n",
      "OpenCV(4.5.5) /io/opencv/modules/imgproc/src/color.cpp:182: error: (-215:Assertion failed) !_src.empty() in function 'cvtColor'\n",
      "\n",
      "error in airplane_544.jpg\n",
      "702 airplane_281.jpg\n"
     ]
    },
    {
     "name": "stderr",
     "output_type": "stream",
     "text": [
      "[ WARN:0@613.771] global /io/opencv/modules/imgcodecs/src/loadsave.cpp (239) findDecoder imread_('Images/airplane_544.jpg'): can't open/read file: check file path/integrity\n"
     ]
    },
    {
     "name": "stdout",
     "output_type": "stream",
     "text": [
      "703 airplane_498.jpg\n"
     ]
    },
    {
     "name": "stderr",
     "output_type": "stream",
     "text": [
      "[ WARN:0@614.681] global /io/opencv/modules/imgcodecs/src/loadsave.cpp (239) findDecoder imread_('Images/airplane_498.jpg'): can't open/read file: check file path/integrity\n"
     ]
    },
    {
     "name": "stdout",
     "output_type": "stream",
     "text": [
      "OpenCV(4.5.5) /io/opencv/modules/imgproc/src/color.cpp:182: error: (-215:Assertion failed) !_src.empty() in function 'cvtColor'\n",
      "\n",
      "error in airplane_498.jpg\n",
      "704 airplane_630.jpg\n",
      "OpenCV(4.5.5) /io/opencv/modules/imgproc/src/color.cpp:182: error: (-215:Assertion failed) !_src.empty() in function 'cvtColor'\n",
      "\n",
      "error in airplane_630.jpg\n",
      "705 airplane_419.jpg\n",
      "OpenCV(4.5.5) /io/opencv/modules/imgproc/src/color.cpp:182: error: (-215:Assertion failed) !_src.empty() in function 'cvtColor'\n",
      "\n",
      "error in airplane_419.jpg\n",
      "706 airplane_287.jpg\n"
     ]
    },
    {
     "name": "stderr",
     "output_type": "stream",
     "text": [
      "[ WARN:0@615.347] global /io/opencv/modules/imgcodecs/src/loadsave.cpp (239) findDecoder imread_('Images/airplane_630.jpg'): can't open/read file: check file path/integrity\n",
      "[ WARN:0@615.381] global /io/opencv/modules/imgcodecs/src/loadsave.cpp (239) findDecoder imread_('Images/airplane_419.jpg'): can't open/read file: check file path/integrity\n"
     ]
    },
    {
     "name": "stdout",
     "output_type": "stream",
     "text": [
      "707 airplane_408.jpg\n",
      "708 airplane_078.jpg\n",
      "709 airplane_487.jpg\n",
      "OpenCV(4.5.5) /io/opencv/modules/imgproc/src/color.cpp:182: error: (-215:Assertion failed) !_src.empty() in function 'cvtColor'\n",
      "\n",
      "error in airplane_487.jpg\n",
      "710 airplane_626.jpg\n",
      "OpenCV(4.5.5) /io/opencv/modules/imgproc/src/color.cpp:182: error: (-215:Assertion failed) !_src.empty() in function 'cvtColor'\n",
      "\n",
      "error in airplane_626.jpg\n",
      "711 airplane_622.jpg\n",
      "OpenCV(4.5.5) /io/opencv/modules/imgproc/src/color.cpp:182: error: (-215:Assertion failed) !_src.empty() in function 'cvtColor'\n",
      "\n",
      "error in airplane_622.jpg\n",
      "712 airplane_059.jpg\n"
     ]
    },
    {
     "name": "stderr",
     "output_type": "stream",
     "text": [
      "[ WARN:0@618.119] global /io/opencv/modules/imgcodecs/src/loadsave.cpp (239) findDecoder imread_('Images/airplane_487.jpg'): can't open/read file: check file path/integrity\n",
      "[ WARN:0@618.142] global /io/opencv/modules/imgcodecs/src/loadsave.cpp (239) findDecoder imread_('Images/airplane_626.jpg'): can't open/read file: check file path/integrity\n",
      "[ WARN:0@618.169] global /io/opencv/modules/imgcodecs/src/loadsave.cpp (239) findDecoder imread_('Images/airplane_622.jpg'): can't open/read file: check file path/integrity\n"
     ]
    },
    {
     "name": "stdout",
     "output_type": "stream",
     "text": [
      "713 airplane_693.jpg\n",
      "OpenCV(4.5.5) /io/opencv/modules/imgproc/src/color.cpp:182: error: (-215:Assertion failed) !_src.empty() in function 'cvtColor'\n",
      "\n",
      "error in airplane_693.jpg\n",
      "714 airplane_442.jpg\n",
      "OpenCV(4.5.5) /io/opencv/modules/imgproc/src/color.cpp:182: error: (-215:Assertion failed) !_src.empty() in function 'cvtColor'\n",
      "\n",
      "error in airplane_442.jpg\n",
      "715 airplane_501.jpg\n",
      "OpenCV(4.5.5) /io/opencv/modules/imgproc/src/color.cpp:182: error: (-215:Assertion failed) !_src.empty() in function 'cvtColor'\n",
      "\n",
      "error in airplane_501.jpg\n",
      "716 airplane_368.jpg\n"
     ]
    },
    {
     "name": "stderr",
     "output_type": "stream",
     "text": [
      "[ WARN:0@619.831] global /io/opencv/modules/imgcodecs/src/loadsave.cpp (239) findDecoder imread_('Images/airplane_693.jpg'): can't open/read file: check file path/integrity\n",
      "[ WARN:0@619.836] global /io/opencv/modules/imgcodecs/src/loadsave.cpp (239) findDecoder imread_('Images/airplane_442.jpg'): can't open/read file: check file path/integrity\n",
      "[ WARN:0@619.840] global /io/opencv/modules/imgcodecs/src/loadsave.cpp (239) findDecoder imread_('Images/airplane_501.jpg'): can't open/read file: check file path/integrity\n"
     ]
    },
    {
     "name": "stdout",
     "output_type": "stream",
     "text": [
      "717 airplane_328.jpg\n",
      "inside\n",
      "718 airplane_292.jpg\n",
      "719 airplane_605.jpg\n",
      "OpenCV(4.5.5) /io/opencv/modules/imgproc/src/color.cpp:182: error: (-215:Assertion failed) !_src.empty() in function 'cvtColor'\n",
      "\n",
      "error in airplane_605.jpg\n",
      "720 airplane_143.jpg\n"
     ]
    },
    {
     "name": "stderr",
     "output_type": "stream",
     "text": [
      "[ WARN:0@623.101] global /io/opencv/modules/imgcodecs/src/loadsave.cpp (239) findDecoder imread_('Images/airplane_605.jpg'): can't open/read file: check file path/integrity\n"
     ]
    },
    {
     "name": "stdout",
     "output_type": "stream",
     "text": [
      "721 airplane_507.jpg\n"
     ]
    },
    {
     "name": "stderr",
     "output_type": "stream",
     "text": [
      "[ WARN:0@624.170] global /io/opencv/modules/imgcodecs/src/loadsave.cpp (239) findDecoder imread_('Images/airplane_507.jpg'): can't open/read file: check file path/integrity\n"
     ]
    },
    {
     "name": "stdout",
     "output_type": "stream",
     "text": [
      "OpenCV(4.5.5) /io/opencv/modules/imgproc/src/color.cpp:182: error: (-215:Assertion failed) !_src.empty() in function 'cvtColor'\n",
      "\n",
      "error in airplane_507.jpg\n",
      "722 airplane_567.jpg\n",
      "OpenCV(4.5.5) /io/opencv/modules/imgproc/src/color.cpp:182: error: (-215:Assertion failed) !_src.empty() in function 'cvtColor'\n",
      "\n",
      "error in airplane_567.jpg\n",
      "723 airplane_606.jpg\n",
      "OpenCV(4.5.5) /io/opencv/modules/imgproc/src/color.cpp:182: error: (-215:Assertion failed) !_src.empty() in function 'cvtColor'\n",
      "\n",
      "error in airplane_606.jpg\n",
      "724 airplane_694.jpg\n",
      "OpenCV(4.5.5) /io/opencv/modules/imgproc/src/color.cpp:182: error: (-215:Assertion failed) !_src.empty() in function 'cvtColor'\n",
      "\n",
      "error in airplane_694.jpg\n",
      "725 airplane_358.jpg\n"
     ]
    },
    {
     "name": "stderr",
     "output_type": "stream",
     "text": [
      "[ WARN:0@625.127] global /io/opencv/modules/imgcodecs/src/loadsave.cpp (239) findDecoder imread_('Images/airplane_567.jpg'): can't open/read file: check file path/integrity\n",
      "[ WARN:0@625.146] global /io/opencv/modules/imgcodecs/src/loadsave.cpp (239) findDecoder imread_('Images/airplane_606.jpg'): can't open/read file: check file path/integrity\n",
      "[ WARN:0@625.177] global /io/opencv/modules/imgcodecs/src/loadsave.cpp (239) findDecoder imread_('Images/airplane_694.jpg'): can't open/read file: check file path/integrity\n"
     ]
    },
    {
     "name": "stdout",
     "output_type": "stream",
     "text": [
      "726 airplane_610.jpg\n",
      "OpenCV(4.5.5) /io/opencv/modules/imgproc/src/color.cpp:182: error: (-215:Assertion failed) !_src.empty() in function 'cvtColor'\n",
      "\n",
      "error in airplane_610.jpg\n",
      "727 airplane_455.jpg\n",
      "OpenCV(4.5.5) /io/opencv/modules/imgproc/src/color.cpp:182: error: (-215:Assertion failed) !_src.empty() in function 'cvtColor'\n",
      "\n",
      "error in airplane_455.jpg\n",
      "728 airplane_186.jpg\n"
     ]
    },
    {
     "name": "stderr",
     "output_type": "stream",
     "text": [
      "[ WARN:0@625.722] global /io/opencv/modules/imgcodecs/src/loadsave.cpp (239) findDecoder imread_('Images/airplane_610.jpg'): can't open/read file: check file path/integrity\n",
      "[ WARN:0@625.725] global /io/opencv/modules/imgcodecs/src/loadsave.cpp (239) findDecoder imread_('Images/airplane_455.jpg'): can't open/read file: check file path/integrity\n"
     ]
    },
    {
     "name": "stdout",
     "output_type": "stream",
     "text": [
      "729 airplane_341.jpg\n",
      "730 airplane_187.jpg\n",
      "731 airplane_530.jpg\n"
     ]
    },
    {
     "name": "stderr",
     "output_type": "stream",
     "text": [
      "[ WARN:0@628.003] global /io/opencv/modules/imgcodecs/src/loadsave.cpp (239) findDecoder imread_('Images/airplane_530.jpg'): can't open/read file: check file path/integrity\n"
     ]
    },
    {
     "name": "stdout",
     "output_type": "stream",
     "text": [
      "OpenCV(4.5.5) /io/opencv/modules/imgproc/src/color.cpp:182: error: (-215:Assertion failed) !_src.empty() in function 'cvtColor'\n",
      "\n",
      "error in airplane_530.jpg\n",
      "732 airplane_259.jpg\n"
     ]
    }
   ],
   "source": [
    "train_images=[]\n",
    "train_labels=[]\n",
    "for e,i in enumerate(os.listdir(annot)):\n",
    "    try:\n",
    "        if i.startswith(\"airplane\"):\n",
    "            filename = i.split(\".\")[0]+\".jpg\"\n",
    "            print(e,filename)\n",
    "            image = cv2.imread(os.path.join(path,filename))\n",
    "            df = pd.read_csv(os.path.join(annot,i))\n",
    "            gtvalues=[]\n",
    "            for row in df.iterrows():\n",
    "                x1 = int(row[1][0].split(\" \")[0])\n",
    "                y1 = int(row[1][0].split(\" \")[1])\n",
    "                x2 = int(row[1][0].split(\" \")[2])\n",
    "                y2 = int(row[1][0].split(\" \")[3])\n",
    "                gtvalues.append({\"x1\":x1,\"x2\":x2,\"y1\":y1,\"y2\":y2})\n",
    "            ss.setBaseImage(image)\n",
    "            ss.switchToSelectiveSearchFast()\n",
    "            ssresults = ss.process()\n",
    "            imout = image.copy()\n",
    "            counter = 0\n",
    "            falsecounter = 0\n",
    "            flag = 0\n",
    "            fflag = 0\n",
    "            bflag = 0\n",
    "            for e,result in enumerate(ssresults):\n",
    "                if e < 2000 and flag == 0:\n",
    "                    for gtval in gtvalues:\n",
    "                        x,y,w,h = result\n",
    "                        iou = get_iou(gtval,{\"x1\":x,\"x2\":x+w,\"y1\":y,\"y2\":y+h})\n",
    "                        if counter < 30:\n",
    "                            if iou > 0.70:\n",
    "                                timage = imout[y:y+h,x:x+w]\n",
    "                                resized = cv2.resize(timage, (224,224), interpolation = cv2.INTER_AREA)\n",
    "                                train_images.append(resized)\n",
    "                                train_labels.append(1)\n",
    "                                counter += 1\n",
    "                        else :\n",
    "                            fflag =1\n",
    "                        if falsecounter <30:\n",
    "                            if iou < 0.3:\n",
    "                                timage = imout[y:y+h,x:x+w]\n",
    "                                resized = cv2.resize(timage, (224,224), interpolation = cv2.INTER_AREA)\n",
    "                                train_images.append(resized)\n",
    "                                train_labels.append(0)\n",
    "                                falsecounter += 1\n",
    "                        else :\n",
    "                            bflag = 1\n",
    "                    if fflag == 1 and bflag == 1:\n",
    "                        print(\"inside\")\n",
    "                        flag = 1\n",
    "    except Exception as e:\n",
    "        print(e)\n",
    "        print(\"error in \"+filename)\n",
    "        continue"
   ]
  },
  {
   "cell_type": "code",
   "execution_count": 12,
   "id": "e13ad6c4",
   "metadata": {
    "scrolled": true
   },
   "outputs": [],
   "source": [
    "X_new = np.array(train_images)\n",
    "y_new = np.array(train_labels)"
   ]
  },
  {
   "cell_type": "code",
   "execution_count": null,
   "id": "20ac92ca",
   "metadata": {},
   "outputs": [],
   "source": [
    "X_new.shape"
   ]
  },
  {
   "cell_type": "code",
   "execution_count": null,
   "id": "e6bd6646",
   "metadata": {},
   "outputs": [],
   "source": [
    "from keras.layers import Dense\n",
    "from keras import Model\n",
    "from keras import optimizers\n",
    "from keras.preprocessing.image import ImageDataGenerator\n",
    "from tensorflow.keras.optimizers import Adam\n",
    "from keras.applications.vgg16 import VGG16\n"
   ]
  },
  {
   "cell_type": "code",
   "execution_count": null,
   "id": "64353ac9",
   "metadata": {},
   "outputs": [],
   "source": [
    "vggmodel = VGG16(weights='imagenet', include_top=True)\n",
    "vggmodel.summary()"
   ]
  },
  {
   "cell_type": "code",
   "execution_count": null,
   "id": "f40775d7",
   "metadata": {},
   "outputs": [],
   "source": [
    "for layers in (vggmodel.layers)[:15]:\n",
    "    print(layers)\n",
    "    layers.trainable = False"
   ]
  },
  {
   "cell_type": "code",
   "execution_count": null,
   "id": "303ae0e1",
   "metadata": {},
   "outputs": [],
   "source": [
    "X= vggmodel.layers[-2].output"
   ]
  },
  {
   "cell_type": "code",
   "execution_count": null,
   "id": "347e2696",
   "metadata": {},
   "outputs": [],
   "source": [
    "predictions = Dense(2, activation=\"softmax\")(X)"
   ]
  },
  {
   "cell_type": "code",
   "execution_count": null,
   "id": "1c988886",
   "metadata": {},
   "outputs": [],
   "source": [
    "model_final = Model(input = vggmodel.input, output = predictions)"
   ]
  },
  {
   "cell_type": "code",
   "execution_count": null,
   "id": "1b6afb7c",
   "metadata": {},
   "outputs": [],
   "source": [
    "from keras.optimizers import Adam\n",
    "opt = Adam(lr=0.0001)"
   ]
  },
  {
   "cell_type": "code",
   "execution_count": null,
   "id": "0d70a17a",
   "metadata": {},
   "outputs": [],
   "source": [
    "model_final.compile(loss = keras.losses.categorical_crossentropy, optimizer = opt, metrics=[\"accuracy\"])"
   ]
  },
  {
   "cell_type": "code",
   "execution_count": null,
   "id": "2e8d275e",
   "metadata": {},
   "outputs": [],
   "source": [
    "model_final.summary()"
   ]
  },
  {
   "cell_type": "code",
   "execution_count": null,
   "id": "dfd5ada2",
   "metadata": {},
   "outputs": [],
   "source": [
    "from sklearn.model_selection import train_test_split\n",
    "from sklearn.preprocessing import LabelBinarizer"
   ]
  },
  {
   "cell_type": "code",
   "execution_count": null,
   "id": "f5a1c50e",
   "metadata": {},
   "outputs": [],
   "source": [
    "class MyLabelBinarizer(LabelBinarizer):\n",
    "    def transform(self, y):\n",
    "        Y = super().transform(y)\n",
    "        if self.y_type_ == 'binary':\n",
    "            return np.hstack((Y, 1-Y))\n",
    "        else:\n",
    "            return Y\n",
    "    def inverse_transform(self, Y, threshold=None):\n",
    "        if self.y_type_ == 'binary':\n",
    "            return super().inverse_transform(Y[:, 0], threshold)\n",
    "        else:\n",
    "            return super().inverse_transform(Y, threshold)\n"
   ]
  },
  {
   "cell_type": "code",
   "execution_count": null,
   "id": "345d6ba6",
   "metadata": {},
   "outputs": [],
   "source": [
    "lenc = MyLabelBinarizer()\n",
    "Y =  lenc.fit_transform(y_new)"
   ]
  },
  {
   "cell_type": "code",
   "execution_count": null,
   "id": "3afb9cc5",
   "metadata": {},
   "outputs": [],
   "source": [
    "X_train, X_test , y_train, y_test = train_test_split(X_new,Y,test_size=0.10)"
   ]
  },
  {
   "cell_type": "code",
   "execution_count": null,
   "id": "3ac6cb29",
   "metadata": {},
   "outputs": [],
   "source": [
    "print(X_train.shape,X_test.shape,y_train.shape,y_test.shape)"
   ]
  },
  {
   "cell_type": "code",
   "execution_count": null,
   "id": "35a93d09",
   "metadata": {},
   "outputs": [],
   "source": [
    "trdata = ImageDataGenerator(horizontal_flip=True, vertical_flip=True, rotation_range=90)\n",
    "traindata = trdata.flow(x=X_train, y=y_train)\n",
    "tsdata = ImageDataGenerator(horizontal_flip=True, vertical_flip=True, rotation_range=90)\n",
    "testdata = tsdata.flow(x=X_test, y=y_test)"
   ]
  },
  {
   "cell_type": "code",
   "execution_count": null,
   "id": "c344fbb6",
   "metadata": {},
   "outputs": [],
   "source": [
    "from keras.callbacks import ModelCheckpoint, EarlyStopping"
   ]
  },
  {
   "cell_type": "code",
   "execution_count": null,
   "id": "361405c4",
   "metadata": {},
   "outputs": [],
   "source": [
    "checkpoint = ModelCheckpoint(\"ieeercnn_vgg16_1.h5\", monitor='val_loss', verbose=1, save_best_only=True, save_weights_only=False, mode='auto', period=1)\n",
    "early = EarlyStopping(monitor='val_loss', min_delta=0, patience=100, verbose=1, mode='auto')"
   ]
  },
  {
   "cell_type": "code",
   "execution_count": null,
   "id": "4ce03424",
   "metadata": {},
   "outputs": [],
   "source": [
    "hist = model_final.fit_generator(generator= traindata, steps_per_epoch= 10, epochs= 1000, validation_data= testdata, validation_steps=2, callbacks=[checkpoint,early])"
   ]
  },
  {
   "cell_type": "code",
   "execution_count": null,
   "id": "57ae9382",
   "metadata": {},
   "outputs": [],
   "source": [
    "import matplotlib.pyplot as plt\n",
    "# plt.plot(hist.history[\"acc\"])\n",
    "# plt.plot(hist.history['val_acc'])\n",
    "plt.plot(hist.history['loss'])\n",
    "plt.plot(hist.history['val_loss'])\n",
    "plt.title(\"model loss\")\n",
    "plt.ylabel(\"Loss\")\n",
    "plt.xlabel(\"Epoch\")\n",
    "plt.legend([\"Loss\",\"Validation Loss\"])\n",
    "plt.show()\n",
    "plt.savefig('chart loss.png')"
   ]
  },
  {
   "cell_type": "code",
   "execution_count": null,
   "id": "d44b74e0",
   "metadata": {},
   "outputs": [],
   "source": [
    "im = X_test[1600]\n",
    "plt.imshow(im)\n",
    "img = np.expand_dims(im, axis=0)\n",
    "out= model_final.predict(img)\n",
    "if out[0][0] > out[0][1]:\n",
    "    print(\"plane\")\n",
    "else:\n",
    "    print(\"not plane\")"
   ]
  },
  {
   "cell_type": "code",
   "execution_count": null,
   "id": "5c8829d1",
   "metadata": {},
   "outputs": [],
   "source": [
    "z=0\n",
    "for e,i in enumerate(os.listdir(path)):\n",
    "    if i.startswith(\"4\"):\n",
    "        z += 1\n",
    "        img = cv2.imread(os.path.join(path,i))\n",
    "        ss.setBaseImage(img)\n",
    "        ss.switchToSelectiveSearchFast()\n",
    "        ssresults = ss.process()\n",
    "        imout = img.copy()\n",
    "        for e,result in enumerate(ssresults):\n",
    "            if e < 2000:\n",
    "                x,y,w,h = result\n",
    "                timage = imout[y:y+h,x:x+w]\n",
    "                resized = cv2.resize(timage, (224,224), interpolation = cv2.INTER_AREA)\n",
    "                img = np.expand_dims(resized, axis=0)\n",
    "                out= model_final.predict(img)\n",
    "                if out[0][0] > 0.65:\n",
    "                    cv2.rectangle(imout, (x, y), (x+w, y+h), (0, 255, 0), 1, cv2.LINE_AA)\n",
    "        plt.figure()\n",
    "        plt.imshow(imout)"
   ]
  },
  {
   "cell_type": "code",
   "execution_count": null,
   "id": "f800b8ca",
   "metadata": {},
   "outputs": [],
   "source": []
  },
  {
   "cell_type": "code",
   "execution_count": null,
   "id": "c5585422",
   "metadata": {},
   "outputs": [],
   "source": []
  }
 ],
 "metadata": {
  "kernelspec": {
   "display_name": "Python 3 (ipykernel)",
   "language": "python",
   "name": "python3"
  },
  "language_info": {
   "codemirror_mode": {
    "name": "ipython",
    "version": 3
   },
   "file_extension": ".py",
   "mimetype": "text/x-python",
   "name": "python",
   "nbconvert_exporter": "python",
   "pygments_lexer": "ipython3",
   "version": "3.10.0"
  }
 },
 "nbformat": 4,
 "nbformat_minor": 5
}
